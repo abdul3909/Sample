{
 "cells": [
  {
   "cell_type": "markdown",
   "source": "# Urdu Translator",
   "metadata": {
    "formattedRanges": [],
    "is_collapsed": false,
    "cell_id": "08a1b8d5e20240cd955003d2e15aca5a",
    "tags": [],
    "deepnote_cell_type": "text-cell-h1"
   }
  },
  {
   "cell_type": "markdown",
   "source": "## Importing Libraries",
   "metadata": {
    "formattedRanges": [],
    "is_collapsed": false,
    "cell_id": "853aa741d4d944788072de3694c82f39",
    "tags": [],
    "deepnote_cell_type": "text-cell-h2"
   }
  },
  {
   "cell_type": "code",
   "metadata": {
    "tags": [],
    "cell_id": "35858382-3c93-412b-be27-a2dc58af8598",
    "deepnote_to_be_reexecuted": false,
    "source_hash": "d796528f",
    "execution_start": 1660201304971,
    "execution_millis": 2712,
    "deepnote_cell_type": "code",
    "deepnote_cell_height": 148
   },
   "source": "import pandas as pd\nimport nltk\nfrom nltk.tokenize import word_tokenize\nimport string\nimport pickle ",
   "execution_count": 1,
   "outputs": []
  },
  {
   "cell_type": "code",
   "metadata": {
    "cell_id": "fa59dfefb4464a798e053594c93f2a5d",
    "tags": [],
    "deepnote_to_be_reexecuted": false,
    "source_hash": "8781b114",
    "execution_start": 1660201307696,
    "execution_millis": 592,
    "deepnote_cell_type": "code",
    "deepnote_cell_height": 107.1875
   },
   "source": "print(\"hello\")",
   "execution_count": 2,
   "outputs": [
    {
     "name": "stdout",
     "text": "hello\n",
     "output_type": "stream"
    }
   ]
  },
  {
   "cell_type": "markdown",
   "source": "## Importing Data",
   "metadata": {
    "formattedRanges": [],
    "is_collapsed": false,
    "cell_id": "c94618aec8aa4eb394e76af17dd90b0b",
    "tags": [],
    "deepnote_cell_type": "text-cell-h2"
   }
  },
  {
   "cell_type": "code",
   "metadata": {
    "cell_id": "eea117611c214f7ca95a3257a0f0416b",
    "tags": [],
    "deepnote_to_be_reexecuted": false,
    "source_hash": "a6fba888",
    "execution_start": 1660201307746,
    "execution_millis": 543,
    "deepnote_table_state": {
     "pageSize": 25,
     "pageIndex": 0,
     "filters": [],
     "sortBy": []
    },
    "deepnote_table_loading": false,
    "deepnote_cell_type": "code",
    "deepnote_cell_height": 462
   },
   "source": "df2 = pd.read_csv(\"dataset_1.txt\", sep=\",\")\n# Strip leading and trailing space\ndf2['Urdu'] = df2['Urdu'].str.strip()\ndf2['Roman-Urdu'] = df2['Roman-Urdu'].str.strip()\ndf2.tail()",
   "execution_count": 3,
   "outputs": [
    {
     "output_type": "execute_result",
     "execution_count": 3,
     "data": {
      "application/vnd.deepnote.dataframe.v3+json": {
       "column_count": 2,
       "row_count": 5,
       "columns": [
        {
         "name": "Urdu",
         "dtype": "object",
         "stats": {
          "unique_count": 5,
          "nan_count": 0,
          "categories": [
           {
            "name": "ذ",
            "count": 1
           },
           {
            "name": "تے",
            "count": 1
           },
           {
            "name": "3 others",
            "count": 3
           }
          ]
         }
        },
        {
         "name": "Roman-Urdu",
         "dtype": "object",
         "stats": {
          "unique_count": 5,
          "nan_count": 0,
          "categories": [
           {
            "name": "zr",
            "count": 1
           },
           {
            "name": "te",
            "count": 1
           },
           {
            "name": "3 others",
            "count": 3
           }
          ]
         }
        },
        {
         "name": "_deepnote_index_column",
         "dtype": "int64"
        }
       ],
       "rows": [
        {
         "Urdu": "ذ",
         "Roman-Urdu": "zr",
         "_deepnote_index_column": 4117
        },
        {
         "Urdu": "تے",
         "Roman-Urdu": "te",
         "_deepnote_index_column": 4118
        },
        {
         "Urdu": "کھل",
         "Roman-Urdu": "khul",
         "_deepnote_index_column": 4119
        },
        {
         "Urdu": "دو",
         "Roman-Urdu": "do",
         "_deepnote_index_column": 4120
        },
        {
         "Urdu": "کوکہا",
         "Roman-Urdu": "k",
         "_deepnote_index_column": 4121
        }
       ]
      },
      "text/plain": "       Urdu Roman-Urdu\n4117      ذ         zr\n4118     تے         te\n4119    کھل       khul\n4120     دو         do\n4121  کوکہا          k",
      "text/html": "<div>\n<style scoped>\n    .dataframe tbody tr th:only-of-type {\n        vertical-align: middle;\n    }\n\n    .dataframe tbody tr th {\n        vertical-align: top;\n    }\n\n    .dataframe thead th {\n        text-align: right;\n    }\n</style>\n<table border=\"1\" class=\"dataframe\">\n  <thead>\n    <tr style=\"text-align: right;\">\n      <th></th>\n      <th>Urdu</th>\n      <th>Roman-Urdu</th>\n    </tr>\n  </thead>\n  <tbody>\n    <tr>\n      <th>4117</th>\n      <td>ذ</td>\n      <td>zr</td>\n    </tr>\n    <tr>\n      <th>4118</th>\n      <td>تے</td>\n      <td>te</td>\n    </tr>\n    <tr>\n      <th>4119</th>\n      <td>کھل</td>\n      <td>khul</td>\n    </tr>\n    <tr>\n      <th>4120</th>\n      <td>دو</td>\n      <td>do</td>\n    </tr>\n    <tr>\n      <th>4121</th>\n      <td>کوکہا</td>\n      <td>k</td>\n    </tr>\n  </tbody>\n</table>\n</div>"
     },
     "metadata": {}
    }
   ]
  },
  {
   "cell_type": "code",
   "metadata": {
    "cell_id": "fe4299c2f88c425089aea59e8b083fac",
    "tags": [],
    "deepnote_to_be_reexecuted": false,
    "source_hash": "85173afb",
    "execution_start": 1660201307827,
    "execution_millis": 23,
    "owner_user_id": "6600ffd3-c588-4439-a593-89995e2566f9",
    "deepnote_cell_type": "code",
    "deepnote_cell_height": 274
   },
   "source": "defval = lambda: []\nfrom collections import defaultdict\n\n#initalizing default Dictionary\nmap_dict = defaultdict(defval)\n\n#mapping Urdu words on Roman words\nfor i in range(len(df2)):\n    map_dict[df2['Roman-Urdu'][i]].append(df2['Urdu'][i])\n\nwith open('dataset_2.txt', encoding=\"utf8\") as f:\n    contents = [line.rstrip('\\n') for line in f]",
   "execution_count": 4,
   "outputs": []
  },
  {
   "cell_type": "code",
   "metadata": {
    "cell_id": "c7a7d4c74ca444cc80ebd2da5979039a",
    "tags": [],
    "deepnote_to_be_reexecuted": false,
    "source_hash": "675aa195",
    "execution_start": 1660201307880,
    "execution_millis": 0,
    "deepnote_cell_type": "code",
    "deepnote_cell_height": 364
   },
   "source": "#Reading dataset_2 file\nfile = open('dataset_2.txt', 'r', encoding='utf-8-sig')\nLines = file.readlines()\n\nurdu = []\nroman = []\n\n# Add even lines to the Urdu list, and odd lines to the Roman Urdu list\nfor i in range(len(Lines)):\n    if i % 2 == 0:\n        roman.append(Lines[i])\n    else:\n        urdu.append(Lines[i])\n\nfor i in range(len(urdu)):\n    urdu[i] = urdu[i].strip()\n    roman[i] = roman[i].strip().lower()",
   "execution_count": 5,
   "outputs": []
  },
  {
   "cell_type": "code",
   "metadata": {
    "cell_id": "b90c6a0e60cf481fa1f55157d8a11c3a",
    "tags": [],
    "deepnote_to_be_reexecuted": false,
    "source_hash": "915c8c4f",
    "execution_start": 1660201307881,
    "execution_millis": 414,
    "deepnote_cell_type": "code",
    "deepnote_cell_height": 699,
    "deepnote_output_heights": [
     607
    ]
   },
   "source": "roman",
   "execution_count": 6,
   "outputs": [
    {
     "output_type": "execute_result",
     "execution_count": 6,
     "data": {
      "text/plain": "['ab oil main kati hoi payaz daal kar light brown karain phir lehson adrak paste shamil kar dain.',\n 'is lye kety hain dosro ko apni personal life me bilkul involve nahi krna chahiye',\n 'on k sath jo kuch merzi log ker lay os ka jawab bilkul nahi day sekty',\n 'yahi to mai unse b keh ra tha',\n 'dil tor saktay hain asool nhi',\n 'ami nay kaha ainda short khelo gey. os becharay nay kaha nahin khelon ga ainda short.',\n 'aisa lagta hia k main hawaon mian hoon, aaj itni khushi mili',\n 'jaisa ke sub ne dekha is team main kuch dum nazar aya sub ne achi performance di',\n 'woh ya to badtameez ho jate hain ya phir sehmay hoe rehte hain',\n 'sirf shaklen pyari nhi baten bhi achi honi chahye',\n 'iphone 5 sell kerna hy 40000 ka sirf 2 month use kea hy',\n 'ap ne agar apne mobile pr security code active kia hua hoga to connect nhi hoga',\n 'ghar main pursa kerne wale bhare hue hain or ghar wale koi bhi wahan ahi hain sub apne masle le ker ro rahe hain',\n 'pesa honay k matlb ye nai hota k wo har kisi ko own kertay hain',\n 'naukar apne aap ko ghar ka maalik samajhne laga hai',\n 'apne aapko har cheez main involve na karein',\n 'job chornay ki ghalti bilkul mat karna chahay kuch bhi hojaaye',\n 'jab tak himmat rahi wo wheel chair par bhi apni sargarmiyon mein lage rahe.',\n 'aur khuda se dua karo ke mere parwardigar mujhe bakhash de aur mujh par rehem kar aur tu sab se behtar rehem karne wala hai.',\n 'bechara achi khasi shakal soorat ka tha aur sab uss ka itna q bana rahey thee',\n 'is ko bohat pasand kartay hain',\n 'agar apk engine mein weight ki awaz hai to wo to engine khul k hi set hota hia han ap machenic ko check karwa do',\n 'mujhe is ki story ki koi samjh nahi aa rhi phir bhi main sb sy zaida is drama sy enterain hoti hon',\n 'jo log dard ko samjte hy wo kabi b dard ki waja nhi bante',\n 'jhoot ek aisa juta hai jo har baar jhoot bolne waly k sar per hi parta hai',\n 'kaisa drama hai dekha tum ne',\n 'yehi herkatain thin udar k muslims ki jo unko zawaal aya',\n 'police station chor k ati na apne bete ko',\n 'main ney b dekha ha k aap bari bareek beeni se her dramay ka tabsara kerti hain',\n 'aur akhirat mai aapka hashar bhi is madari kai sath he hoo',\n 'ye sab shaitani kam hein or phir shareef larkyan larkay bhi is ro mein chal parte hein',\n 'neend aa nahi rahi thi',\n 'kya aap ne kabhi apny ird gird esee hwateen dekheen',\n 'aik hi mozu ko bht kheench rhy hein',\n 'kyun k mujhe wo nahi acha lagta mujhe dosra larka acha lagata hai',\n 'kia tm marai sath dosthi karogi',\n 'mujhe to yeh samajh nahi aa raha kay jab yeh itnay paisay walay hain to aik appartment rent ker kay qudsia ko kiyoon nahi dai daitay',\n 'kafi hadd tak hr chez ab ult hi hai',\n 'acha vesay mera khyal tha k aap ko bht experience hay',\n 'wah bhai wah aj pta chala ke sb bablu ko kitna chahte hen',\n 'takay hum bhi dekhen kay aap kiya gul khilatay hain',\n 'paisa kitni ajeeb cheez ha jo rishton ko b bhula deta ha',\n 'agr bkwas lgta hai to dakhte kun ho koe majbur kr raha ha',\n 'ur ap nay jo hadees beyan ke h es may on logon k leyay msg h k takkabur kertay h roz e mehsher on logon ko es terha saza de jaey ghe',\n 'itni jaldi gussa ok sorry',\n 'mera to dil hi hill gaya',\n 'izat hr insan ko chahye hoti hai mgr kuch ka tareeka iritating hota hi',\n 'such hai ishq may insan ki aqal kam karna band kar daity hai',\n 'meri taraf se sab ko bht bht eid mubarik',\n 'ab ap bina haddi wala kabab khayen aur y keren',\n 'aik bili 30 fut gehre kuen main gir gai hai woh 3 step uper jump kerti hai to 2 step piche a jati hai ab batao k bili kitne dino main bahir nikle gi',\n 'real mein kash asa hota',\n 'falak ko phuphi se koi sabaq nahi mila',\n 'bivion ko apnay shoron pur shak nahi kurna chahiye woh bhi apnay chanay waly',\n 'kuch nahi hota wo sb jataty hain aur hum sb ki batein bhi read kartay hain is sy acha hay k hum sb un sy achai tarha dosti kar lo',\n 'buhtan lagana eik bht bara gunah hay',\n 'nahi meray khayaal sai aisa nahi dikha rahy yeh is ka cousin bhi to hai',\n 'lekin yeh bat b thik hai k judges ko uski itni insult nhi karni chahiye thi',\n 'maza hi khrab ho gya yar iss ka to',\n 'no sir main ne to bs ap k pyare se coment ka reply kia',\n 'ye jo inhon ne itna pesa faltu kharch kia wo agar kisi ghareeb 3 larkion ki shadi kardete to inko duaen aur sawab milta aur allah bhi khush hota ye sab faltu ka dikhawa aur kharch karke inhen kia mila',\n 'allah pak ka bra kram ha k aj tak to main fail ni howa uf agy b ya hi umeed ha',\n 'acha bhala sweet larka hai',\n 'asy doston sa tu dooshman bhaly',\n 'lakin mai aapki baat pai amal karunga kal se keyounkai abi to raat hai masjid nahi jaa sakta',\n 'apas mai acha tareeqa se baat kerian koi aisi baat na kerain jo kisi ko b buri lagee ok laraai nai kerni yahan bhai jaan',\n 'aap pareshan na hoo dua karain allah hidayat de',\n 'allah tala janey kyun esay logon ko olad day deta hai sharif or tabedar olad nemat hoti hai',\n 'agar aisa nai karsakthy toh phir enthazar k soli pa charh jao',\n 'divorce se sirf eik ghar barbad nahi hota balkey bachoon k sari life bhi kharab hoti hai aur iss ka impact bachoon k future mai un k married life par bhi hota hai',\n 'dono miyan biwi ko koi aur kaam nahin hai',\n 'allah sb ke parents ko tb tk zindagi de jub tak ke un ki olad zinda he ameen',\n 'oh gari me to bari sarkar thi shaid',\n 'agree ap sahi kah rahe ho bhai',\n 'is mai ye samajh nahi aa raha tha k log gift dil se de rahay thay ya rishwat de rahay thay',\n 'kia ab bari sarkar ko nazar naheee a raha ha',\n 'yeh shaam phir nahi ayegee',\n 'hur koi aik doosrey ki batein sun kr apna apna meaning nikal raha hay',\n 'jabh banda aik dafa badnaam ho jaye phir chahe jesa bhi kaam kar le woh baat nahi rehti',\n 'khuda k liey quran ko tarjumay k sath parho takey tum logon ki ankhein khul jaein k kon sa dozakh apney liey ikatha ker rahay ho',\n 'wo pehly bhi ilzam ki zad me aa chuki hy usko door rehna chahye tha us sy',\n 'os ny apki tareef kaisay ker de jb kay wo to kese k sath baat b nahi ker sekty',\n 'waah aj to hi aa gaya par maira k baap par bohat ghussa b aya',\n 'shaadi se bachnay kay liye heroin ka kiraaye ka ashiq hire kerna bohot purana ghisa pita idea hai jo bohot si movies main repeat ho chuka hai',\n 'humney kia larna hy judges khud hi larte ja rhy hain',\n 'yar aj tu bohat hi gusa a raha ha episode dekh kar, allah bachaye aise larkiyo say',\n 'shukar hai kay badtameez bhi hai yahan warna kiya hota',\n 'koi bunda izzt de de to apni limits bhool nahe jana chahye',\n 'billo ahista ahista babloo main interested hoti jaa rahi hai',\n 'her jagha rona dhona kay koi us per tars khaay',\n 'aulad tu sab ek se huti hai maa k liye',\n 'uf bohot zulm hua bechari sania aur uss kay bachay rumi kay saath mujhay bohot taras aa raha tha rumi per',\n 'pata nhn pyaar ko log dard hi kyun samajhte shayad is lea k wo bewafa hote henn',\n 'aik baat mujhay ye samajh main nahi aati kay hamari middle class qom kyun shadiyon per itni fuzool kharchi kerti hai wo bhi udhaar le le ker',\n 'pakistani dramon ka jo aik kaas muhazab aur khubsurat andaz hua karta tha wo ab na hi iss drama mein aur na hii kisi aur program mein nazar ati hai',\n 'samee per meherbani bhi osi silsilay ke aik kari lag rahi ha',\n 'pta nai dosron k character py kichar uchal k logo ko kia milta ha',\n 'acha waise es drama ko dekhne k baad sb us larke k pechee pr gayee hain k wo jua khelta he',\n 'zayada dramas dekhnay se perhaz keren baaz dramaz sehat k lye muzzar hain',\n 'ik ghar hi lia bara sa or is drama main sirf isi ghar main shooting hui kahin or to dekhaya nahi gya',\n 'wesay mujay pta hai ap ka ma be bus apko thora tang ker rehi thi',\n 'her drama dekhti hain means acha bura jaisa bhi ho bus dekhana hai phir to qadoosi sahab ki bewa bhi dekhti hoon gi',\n 'un k zehan aik hi cheez per atak jaty hain aur usi bat ki umeed rakhna start ho jaty hain',\n 'osay kehna ma yehin per hon jb dil keray to muj say baat ker lena',\n 'main pahly hi keh rhi thi k bari sarkar ne marna hai',\n 'ajj kal pakistan main halaat khraab honay kay saath saath logoon ki zubanain bhi kharaab ho gayee hain',\n 'barri achi tarbiyat hoti hogi phir tu bacho ki bhi',\n 'woh us ki aik ghalti ki waja say keh rahi hay k wo isay zindigi bhur maaf nahi karegi aur khula mang rahi hay ye',\n 'nice yar keya drama hy zindagi k gham kam karny k ly ya drama bohat acha hy',\n 'lekin aaj mein dubara se is shaitani kaam per lanat bhejta hoon',\n 'kch khas nahi aya',\n 'jis kisi ne b agar aisi pakeeza mohabbat ki hogi woh afzal k character se bakhoobi lutf andooz ho rha hoga',\n 'wo usi ki kwahish pura karne gaya tha bahir phir bhi koi kadar nahi ki rania ne',\n 'agar tumhare mashware pe drama bne to 2 qiston me khatam ho jae ga',\n 'ab ki dafa koun sa title rakhwana pasand karo gay apne comment ka',\n 'khod ko pasand nahi hai to dosoron ko shut up kyoun kahatay ho',\n 'sirf is waja se drama daykhny ko g nahi chahta warna story interesting hai',\n 'ma os ke sister he hon aj kal ma ny os ke jaga le hoe hai',\n '1st episode kuch khas nahi thi',\n 'siwayee ganay k kuch bhi acha nahee tha',\n 'ghatiya log ghatiya soch ghatiya moonh',\n 'bulbulay mein sab sa achi acting momo na ki ha or bulbulay bohot acha ja raha ha',\n 'mujhy aap k tabsary b bohat achy lagty hein',\n 'mumkin hai izteraab main bhi kuch suroor ho',\n 'lakin jab table dekhi to sharbat ke ilawa kuch nahi jo k aftar ke end tak full jag se bahra hua tha',\n 'director sahib es dramay say ma nay boht se umeedain legaey hoe h k ye drama boht acha ho ga mere umeedon per pani na pherna',\n 'is ka to yehi matlab banta hai wo inetzaar ma thee',\n 'yeh na dekho k kon keh raha hai yeh dekho k kya kehraha hai',\n 'lakin ma naam badelty rehati hon lakin lerka ban ker ma ny kabhi b kese sy baat nahi ke',\n 'wo tu wese bhi koi nahee karta na khaas kar jab husband shehr se bahir job karta ho tu',\n 'allah sub muslamanoo ko deen ki sahi samaj atta farmaqee aur is door mein deen ke roshni keray',\n 'zulm bardasht kernay wala bhee utna hee zalim hay jitna zulm kernay wala',\n 'mujhey to yeh un k ghar kii hi shooting lag rhi hai',\n 'apni ghalti ka ehsas ho jata h to uskay baad uski death ho jati h',\n 'is ka matlab hai kay wohi sab ko vote down kar raha hai',\n 'sania saeed ki acting zaradast thi aur bohot graceful bhi lag rahi thi',\n 'allah ki rah me marney valey shaheed hotey hn or shaheed mar k bhi zinda rehta ha',\n 'abhi mujhy bs ek answer yad aa rha hai.newzeland mein sanp nhi pae jate.',\n 'woh kon sa pathar hai jo pani mai nahi doobta? duniya ke kon c country hai jahan saanp nahi hote?',\n 'yeh to google say search karna paray ga filhal to cell say login hain',\n 'chalo koi baat nahi kabhi wo din b allah laye ga jab hum ramzan aur eid dono wahin karein gay jaldi aye',\n 'adhay sai zaeeda din so ker guzara miss kernay ka time he nehe mila',\n 'har pauda sukha aur murjhaya huwa tha.',\n 'ab iska hal to yehi hai ke dua karain',\n 'ek baat zehan main baar baar aati hai ke aaj hum log apne deen se itne door kyon hote ja rahe hain?',\n 'bohut c batein aesi hoti hain jo hum jan boojh k b nahi kerte ur koi batein aesi hoti hain jo hum dosron per apni ahmiyat ziada kerney k lie bolte hain',\n 'hum apni tarf se ye nhi likh rahay. ik tehqeeq hoi hai woh ap ko bata rahay hain',\n 'balkeh kuch logoun peh tehqeq ki jati hai our un ko ye maloom nhi hota k jo tehqeq ho rahi hai us k baray mai woh kuch jantay bhi hain ya nhi.',\n 'sadiyon se chali aa rahi hai',\n 'uht kam ese log hein jo apne naam ko khufya rkh kr ye kaam kr rhe hein',\n 'agr mere pas boht saari dolat hai mujhe insaan, insaan nhi lagay ga. me khod ko koi our he makhlok samjh bethoun ga',\n 'phir bhi hum main woh log bhi hain jo doosro ka dard rakhte hain jo insaniyat ki khidmat karna chahte hain',\n 'hum hamesha yehi sochte hain k baqi mulk taraqi kar rahe hain, magar ye sab aik insan se hi shuru hota hai, jaise qatra qatra samnadar banta hai',\n 'kyun ke dunia mein her insaan kisi na kisi maqsad ke liye banaya gaya hai, insaan samjhy ya na samjhy, qudrat uss se wo maqsad zaroor hasil ker rahi hai',\n 'yar kisi k pass machar marnay wala spray hay',\n 'jab tak insaaf ka acha nizaam na ho tu mulk sahi tarha nahi chal sakta.',\n 'iss waqt to ye teenon masail hi aham hai aur aik se barh kar aik hai.',\n 'awam main ehsase zimadari hai woh khud apne mulk aur qanoon se mohobat karty hain',\n 'maafi say baarh kay abb raha kiya hay?',\n 'masoom aur ap ye baat to jokes korner main honi chahiye thi',\n 'apki mubarak bad humein mil gae hai us kay liye mai teh dil say shukar ghuzar ho',\n 'waise yaar mein saudi mein hoo. aa to nahi sakta haan lekin bahut bahut sukriya hum sabhi ko invite karne ke liye.',\n 'yeh kis ko appki purani threads sai muhabbat hoo chali hai?',\n 'chalo achi bat hai agar ho sakay to khana bhi kha lijiye ga us din',\n 'aap sab k khyalat jaan kar acha laga. sabhi k dil zakhmee hay',\n 'aik chote se ghar aur aik qom mein kafe farq hota hai ham donu ko compare nahe ker sakte',\n 'laykin mai zara deir mai baat karta hoon laykin aik sawal hay k aap zara wazahat karo k rights ki kya tareef hay ?',\n 'jab bemaar hoon tu yahi reshtay sab se ziyada pershan hotay hain',\n 'laykin whi kha na mai nay ky ab jo itnay sawal rakh diya may nay unko kis trha handel kar paw gy ... mai jaanta hoon k tum puri aik qoam ko represent nahi kar sakaty haan aik khas tabqa tumhary saath zaroor ho sakta hy ..puri qoam nahi',\n 'allah sab main ittehad paida karde. aameen',\n 'wah wah ya howe na baat dil say bhai. bas sari baat yahi hay k ajj allah ko yaad ker k apnay amaal ko sahi kerna nahi chahtay hum aur umeed allah say ya hay k sab koch sahi hojaey',\n 'aap ki muskan aur khamoshi sy aik bat yaad agai jo aap nay kahi thi k lab khamosh hi rahy to acha hy ye kuch na khain to acha hy',\n '0% bhe pixel nhe phattay but image zoom in main blur ho jata hai',\n 'aaj tum ghareebon ka mazaq ura rahay ho kal log tumhara mazaq urain gay kyonke shah ko gada aur gada ko shah hotay dair nahi lagt',\n 'waisay taira office bhi shayad airport sa qareeb hi hoga ? lagta ha keh tu aj kaal kaafi parashan ha is waja sa',\n 'uss ne sirf ahista se sar hila dya. goya woh iss ki baat se mutafiq thi. thori der tak khamoshi rahi.',\n 'jub se kainaat wajood main hai tab se lay kar aaj tak science ne jitni taraqi pichlay 60 salon main ki hai itni taraqi pichle hazaron salon main nahin ho saki',\n 'is ke liye zaroori ho ga ke is main niji sector ko liya jaye aur is main transporters ko azad rakha jaye.',\n 'is ka istimal waqt guzarnay ke sath teezi se bharh raha hai aur ye aaj ke insanon ke liye aik zaroorat ban kar reh gayi hai. motor car ki kayi qismain hain maslan bus, truck, wigon, suzuki, pickup, wagera.',\n 'dar haqeeqat ye taraqi ka zeena aur kamyabi ka raaz hai. ye aik anmol khazana hai.',\n 'yehi wajah hai ke is ki price bohat high ho gi. aik andazay ke mutabiq kaha ye ja raha hai keis ki price pakistan main 150,000 ke kareeb ho gi',\n 'is ka maqsad railway engines ke liye fuel faraham karna tha. 1888 tak jungle ke kafi hisay main sheesham ke darakht aur khuch arsa baad toot aur baans ke trees bhi lagaye gaye.',\n 'bhai kisi ki tareef karne ke lie kisi ko bura kehna lazmi hai? ye keh sakte hain k aik acha izafa ho sakta hai pakistan ke pace battry main',\n 'yaqeen karen idhar k logon k nazdeek muhammad aamir ke baad junaid sub se acha larka hai. irfan 2 sal ka mahman hai.',\n 'jo is bowler ko wasim akram ke sath mila rha hai wo bohot hi bewaqoof kisam ka insan hai, aur us ko cricket ke bare main kuch pata nhi',\n 'sri lanka apna aakhree over khail rahee hai aur score 264 hai is tarah mere khayal men yah ek acha score hai aur match men dilchaspee paida ho rahee hai',\n 'yeh jangal ha,yahan koi kanoon,insaf,brabari naam ki cheez nahe ha',\n 'jab tak awaam nahe jagy gi,yeh sari parties he qabiz rahen gi.change tab aye gi jab har ghareeb aur aam admi change chahy ga.',\n 'main keh raha hun bowler aur batsman mein farq hota hai. isliye bowler ki example bowler se he do batsman se nhi',\n 'bating mai koi star player bhe nai hai is liye najwano ki twaja ka markaz bowling bani hui hai.',\n 'bhai main behas to naheen karon ga but main bhi chota mota cricketer hoon aur mojoda team ke kam as kam 4 players se mere bare ache marasam hain',\n 'yaar jaa kar sau jawo aap to behtar hoga , aap se behes karna aise hi hai jaise haathi ke aage been bajani',\n 'aap ke barey honey ke lihaz sey main maafi chahta hoon',\n 'tab tak ke liye allah hafiz',\n 'world cup se bahir hum 80% match india se jeet lete hain. world cup me 0% win ratio hai hamara',\n 'aap europe ke kis mulk mae ho bhai',\n 'yr main nain kuch din pehlay yahn aik thread dekha us main likha tha test series white wash kar di ha pak nai',\n 'main ne apni last post main kaha tha, k hamari team jeet to rahi hai magar iss main champions bunnay wali qualities nahi,,',\n 'aap ki logic par qurbaan jaon,lagta hay aap ne kabhi cricket nahi kheli',\n 'jo apnay garoor walai baat ki ha bhai us ko pehlay be opar define kar chukay hain kay jeetna kuch nai hota consistant rehna issue ha',\n 'tabhi wo ayse decisions laitay hain jin k result haar ke sorat main samnay aatay hain',\n 'shayad kisi gusay ki waja say. ya apnay apko manwanay ki fikar ki waja say.',\n 'apne under emandaree peda kren, education improve kren, ensaf aur aman laen, nek kam to koee karna nahee',\n 'yaar yeh baat galat hai ... jese he pakistan match haarta hai sab log match fixing aur janay kese kese ilzaam lagatay hein',\n 'aik tu jazbati choti choti batoon per ho jatey hein loog',\n 'aenda ke liye apne aap ko behtar tareeqe se tayyar kerna chahy',\n 'koi trick btao. free net active krne k liye.',\n 'china ke mobile main kaisai zong free internet karain gai',\n 'agar apke pas acha mobile ha jisme bluetooth ya data cable conection ha to pehle data cable lagai mobile me',\n 'jab deadline khatm ho ge to wapis ja sakta ha same packge per',\n 'muje koi bta sakta h k ufone ka internet packege kon sa sab se acha h',\n 'men pechle 2 saal se mobile internet use kr raha hon, kisi ke speed ache nai he. sub ko try kia. mujhe dsl ke tarha ke speed ke zarorat he. jitne bhe pyse lagte hon, koi fikar nai',\n 'insaan ka apnay dushman se inteqaam ka sub say acha tariqa ye he k',\n 'kisi ne hazrat ali r.a se poocha: dost aur bhai main kya farq hai?',\n 'us aadmi ne kaha: aap ne bhai ko kam qeemat aur dost ko qeemti kaha',\n 'to aap ne farmaya: sone main agar darar aa jaye to us ko pighla kar',\n 'aa jai to wo kabhi bhi pehlay jaisa nahi ban sakta.',\n 'jab tum dunya ki muflisi se tang aa jao aur rizaq ka koi rasta na niklay to sadqa day ker allah se tajaarat kiya kero.',\n 'tabeyat ki narmi aur sakhawat, insan ko dushmnon k dilon main b mehboob bana deti hai',\n 'naakaam ho, aur us se bhi ziyada kamzor wo he jo haath aae huwe',\n 'tum acha karo aur zamana bura samjhay , yeh tumharay haq mai behter hai bajaye is k tum bura karo aur zamana tum ko acha samjhay.',\n 'jub tum dunya ki muflisi se tung aajao aur rizq ka koi rasta na niklay tu sadqa de ker allah se tijarat karo.',\n 'barish ka qatra seepi or sanp dono kay munah mein girta hai jab keh sanp ussay zehar bana deta hai aur seep usay moti.',\n 'jo tumhain khushi mein yad aaiy, samjho tum us se muhabbat kartey ho or jo tumhain gham mein yad aaiy to samjho woh tum se muhabbat kerta hay',\n 'mere paas 1 billi thi.',\n 'aur mein usay khana dey deta tha.',\n 'tumhain us din par rona chaheye jo tum nai neki k baghair guzar dia.',\n 'apne ilm pe amal na karna, nimatun pe shukr na karna or gunahu se tauba na karne se bhalai ka darwaza band hujata he.',\n 'momin woh nahi jis ki mehfil pak ho, balkeh momin woh ha jis ki tanhai pak ho.',\n 'wo shaksh kis tarha takabur kar sakta hai, jo mitti se bana ho, mitti me milne wala ho.',\n 'me ne zindgi ki sb se bri sachaai qabristaan k bahir likhi dekhi. manzil to meri yahi thi, bas zindgi guzar gai yahan aatay aatay',\n 'kbhi b kamyabi ko dimagh me or nakami ko dil me jaga na dena',\n 'wo log kisi k nhi hoty jo dost or rishty ko libas ki tarha badlty hain',\n 'dolat mitti ki tarhan hy aur mitti ko pair k niche rehna chahyay. agar sir pe charhao gay to qabar ban jaiy gi aur qabar zinda insano k liye nhe hoti.',\n 'dunya ka jo maal ab tumhary hath mein hay tum se pehly bhi us kay maalik ho guzry hein aur tumhary baad yehi maal kisi aur maalik kay paas chala jany wala hay.',\n 'apna to kisi tour katt jaye ga ye din, tum jis se milo aaj us ko eid mubarak',\n 'aap na hotay to hum kho gaye hotay,',\n 'halki si dhoop barsat k baad, thori si khushi her baat k baad, isi tarah mubarak ho aap ko, jashan-e-azadi 1 din k baad',\n 'aaj main aap se apne dil ki bat kahna chahti hun han wohi 3 words jo aap sunna chahen han wohi 3 alfaz jo aap k dil ko chu len',\n 'jab tum kisi insaan ki tabiat parakhna chahete ho to us se mashwara lo. yaqinan tum us k mashware se uska insaf, zulm or badi sab jaan jaoge',\n 'jo duniya ki khidmat karta hai duniya usay apna khadim bana leti hai',\n \"sab se bada aib ye hai k tum un baton ko doosro'n k liye aib qaraar do jo tum mein khud maujood ho\",\n 'acchi baat to sabko acchi lagti hai jb tumhe kisi ki buri baat bhi buri na lage to samaj lena tumhe usse mohabbat hai.',\n 'izzat dil me honi chahiye lafzon me nahi. narazgi lafzon me honi chahiye dil me nahi.',\n 'aanswon ko juzb karna sekho',\n 'ansoo her khushi or ghum mein insaan ka saath detein hein, ansoo bahane se dil ka boejh halka hota hai',\n 'agar insan aik pencil ban kar kisi ki khushiyan nahi likh sakte,',\n 'ap ka apna wohi hay jo ap ki borai ap kay munh per ker dayta hay na kay woh jo ap ke joohti treef karay',\n 'duniya ka sb se romantic mulk kon sa hy?',\n 'khuda kray k meri arz e pak pe utray - wo fasl e gul, jisay andaisha e zawal na ho.',\n 'pakistan tujhe salaam - roushan rahey tera kalaam',\n 'ya rab mere soye hue dost ko jaga de - bister hai uska naram to pathar ka bana de',\n 'yani har 5 mint light istimal karen aur 55 mint tak bijli ki shandar bachat hasil karen woh bhi bilkul free',\n 'main nahi janta k main apko q sms bhaijta rehta hon',\n 'zindagi me her dum hastey raho, hasna zindagi ki zarorut hai',\n 'ap ki harkaton ne to khandaan ki izzat par daagh laga diya.',\n 'qudrat ne hamare mulk ko khobsurat, wasee, oonche oonche pahari silsilon aur chotiyon se nawaza hai. jin ka shumar duniya ke buland tareen paharhon mien kiya jata hai.',\n 'bohat ziyada bulandi ki wajah se oxygen ki kami ho jati hai. jo oper charhne walon ki mushkilaat mien izafa kar deti hai.',\n 'is ki falak bos imarten sayyahon ki dilchaspi ka baiys hain. shehar ki aabadi 2 crore se tajawuz kar chuki hai.',\n 'lahore ko pakistan ka dil bhi kehte hain',\n 'conference ke doran ye tajwiz manzor kar li gai aur is tarah khawateen ka almi din wajod mein agaya.',\n 'un ki khuwahish rahi ke apni zindagi mein urdu college ki bunyad rakh den magar qudrat ko ye manzor na tha',\n 'app ki pehli shadi englistan janay say pehlay 1892 mein hoye thi lakin app kay qiyame eglistan kay doran hi inn ka intiqal hogaya.',\n 'woh nawabzada honay kay bawajud aik awami insan hain aur mujhay yaqen hai kay dosray nawab un ki talqeed karein gay',\n 'chand nazmon aur ghazlon ki islah ke bad dagh dehalvi ne ye likh deya ke ap ko mazid islah ki zarorat nahi hai.',\n 'qudrat ney app ko char beton aur do betion sey nawaza.',\n 'yeh wo waqt tha ke pakistan mein ziyada log in ke naam se aashna nahi the.',\n 'is zaban mein wo bayan kiya hai jis ki is se qabal nazir nahi milti.',\n 'padosi k sath achcha suluk kro pakke momin ban jawoge. apne liye jo pasand krte ho dusraun k liye bhi pasand kro kamil muslim ban jawoge',\n 'munafiq ki 3 nishaniyan hain, jab baat kare to jhut bole, jab wada kare to toud de, jab is ke pas amanat rakhe to khayanat kare',\n 'logon par ek aisa zamana aega jab koi es baat ki parwah na karega ke us ne jo mal hasil kiya hai halal hai ya haraam',\n 'yateem aur ghulam ki tum log apni aulad ki tarah khatir karo aur unko wo khana khilao jo tum khate ho',\n 'fuzul kharchi karne wale shaitan ke bhai hain, aur shaitan apne rab ka bahut na-shukra hai',\n 'sadqa gunahon ko is tarah khatam kar daita hai jis tarah pani aag ko buja daiti hai',\n 'yeh saare ka saara mechanic ke fault hai company se bike best settings se set hokar nikalte hai',\n 'bike wash karte waqat koshish karke meter ya headlight ki jo wiring hai us par kam water use karo',\n 'wapas aanay k baad camera jahan rakha tha abhi tak wahan he para hey',\n 'isee baat ka to dukh hy. yeh time kuch ziada hona chahye tha',\n 'aur mazy ki baat yeh hai k hum 3 dost sirf aik hi bike per they',\n 'mein uske pass gaya usne ek ko sahe kardiya jo kharaab tha par doosra jo sahe tha woh kharaab kardiya yeh jab mein fitting karaake ghar aaya toh pata chala',\n 'laikin meri aik shart hai or wo ye k agar aap jeetey to aap mujhe dinner karwaein gey or agar main jeeta to main aap se dinner loon ga kya aap ko manzoor hai',\n 'meri dono bikes aap ki hain bhai jan jo aap ko chahiye jab marzi le jaein',\n 'kya bachon ki tarah sab roz aik naya comment kar detay hain.',\n 'yeh pehli baar hai k mein kisi forum par comment kar rha hoon. sirf iss wajah se k kesay sab log apney paisay phasa kar bethay hain aur haath par haath rakha hai',\n 'main jab yeh legwaney gya tha tou mechanic ne puri chaan been ker ke mujh se poocha tha ke kitney ka liya ha',\n 'dost samjhay kahin aap ne mere mutalik kaha',\n 'ab muhjay aj market jana hia chacha k sath aur market janay k liye mere pas bike b nahi hai',\n 'sabse pehli baat to yeh ke bhai aapne acha kia ke dil khol kar apni saari baatein share kein aur sabko is kabil samjha ke wo kuch mashwara de sakein',\n 'koi aisa jo aap may say kisi nay azmaya hua ho aur bahut he acha kaam karta ho',\n 'acha aap ke jawab se aiik confirmation ho gai',\n 'mashallah ye hui na creativity. zabardast',\n 'abhi 1234 pai text kar k har number k liye alg ufone message set karein']"
     },
     "metadata": {}
    }
   ]
  },
  {
   "cell_type": "code",
   "metadata": {
    "cell_id": "226fec230ece4ef7a6c4176825300d8a",
    "tags": [],
    "deepnote_to_be_reexecuted": false,
    "source_hash": "7460af5b",
    "execution_start": 1660201307905,
    "execution_millis": 398,
    "deepnote_cell_type": "code",
    "deepnote_cell_height": 631
   },
   "source": "#conversion to Dataframe\ndf = pd.DataFrame({'urdu': urdu, 'roman': roman})\ndf",
   "execution_count": 7,
   "outputs": [
    {
     "output_type": "execute_result",
     "execution_count": 7,
     "data": {
      "application/vnd.deepnote.dataframe.v3+json": {
       "column_count": 2,
       "row_count": 292,
       "columns": [
        {
         "name": "urdu",
         "dtype": "object",
         "stats": {
          "unique_count": 291,
          "nan_count": 0,
          "categories": [
           {
            "name": "جب تم دنیا کی مفلسی سے تنگ آجاﺅ اور رزق کا کوئی راستہ نہ نکلے تو صدقہ دے کر اللہ سے تجارت کیا کرو",
            "count": 2
           },
           {
            "name": "اب آئل میں کٹی ہوئی پیاز ڈال کر لائٹ براﺅن کریں پھر لہسن ادرک پیسٹ شامل کر دیں",
            "count": 1
           },
           {
            "name": "289 others",
            "count": 289
           }
          ]
         }
        },
        {
         "name": "roman",
         "dtype": "object",
         "stats": {
          "unique_count": 292,
          "nan_count": 0,
          "categories": [
           {
            "name": "ab oil main kati hoi payaz daal kar light brown karain phir lehson adrak paste shamil kar dain.",
            "count": 1
           },
           {
            "name": "is lye kety hain dosro ko apni personal life me bilkul involve nahi krna chahiye",
            "count": 1
           },
           {
            "name": "290 others",
            "count": 290
           }
          ]
         }
        },
        {
         "name": "_deepnote_index_column",
         "dtype": "int64"
        }
       ],
       "rows": [
        {
         "urdu": "اب آئل میں کٹی ہوئی پیاز ڈال کر لائٹ براﺅن کریں پھر لہسن ادرک پیسٹ شامل کر دیں",
         "roman": "ab oil main kati hoi payaz daal kar light brown karain phir lehson adrak paste shamil kar dain.",
         "_deepnote_index_column": 0
        },
        {
         "urdu": "اس لئے کہتے ہیں دوسروں کو اپنی پرنسل لائف میں بالکل انوالو نہیں کرنا چاہئے",
         "roman": "is lye kety hain dosro ko apni personal life me bilkul involve nahi krna chahiye",
         "_deepnote_index_column": 1
        },
        {
         "urdu": "ان کے ساتھ جو کچھ مرضی لوگ کر لیں اس کے جواب بالکل نہیں دے سکتے",
         "roman": "on k sath jo kuch merzi log ker lay os ka jawab bilkul nahi day sekty",
         "_deepnote_index_column": 2
        },
        {
         "urdu": "یہی تو میں ان سے بھی کہہ رہا تھا",
         "roman": "yahi to mai unse b keh ra tha",
         "_deepnote_index_column": 3
        },
        {
         "urdu": "دل توڑ سکتے ہیں اصول نہیں",
         "roman": "dil tor saktay hain asool nhi",
         "_deepnote_index_column": 4
        },
        {
         "urdu": "امی نے کہا آئندہ شارٹ کھیلو گے۔ اس بیچارے نے کہا نہیں کھیلوں گا آئندہ شارٹ",
         "roman": "ami nay kaha ainda short khelo gey. os becharay nay kaha nahin khelon ga ainda short.",
         "_deepnote_index_column": 5
        },
        {
         "urdu": "ایسا لگتا ہے کہ میں ہواﺅں میں ہوں، آج اتنی خوشی ملی",
         "roman": "aisa lagta hia k main hawaon mian hoon, aaj itni khushi mili",
         "_deepnote_index_column": 6
        },
        {
         "urdu": "جیسا کہ سب نے دیکھا اس ٹیم میں کچھ دم نظر آیا سب نے اچھی پرفارمنس دی",
         "roman": "jaisa ke sub ne dekha is team main kuch dum nazar aya sub ne achi performance di",
         "_deepnote_index_column": 7
        },
        {
         "urdu": "وہ یا تو بدتمیز ہو جاتے ہیں یا پھر سہمے ہوئے رہتے ہیں",
         "roman": "woh ya to badtameez ho jate hain ya phir sehmay hoe rehte hain",
         "_deepnote_index_column": 8
        },
        {
         "urdu": "صرف شکلیں پیاری نہیں باتیں بھی اچھی ہونی چاہئے",
         "roman": "sirf shaklen pyari nhi baten bhi achi honi chahye",
         "_deepnote_index_column": 9
        }
       ]
      },
      "text/plain": "                                                  urdu  \\\n0    اب آئل میں کٹی ہوئی پیاز ڈال کر لائٹ براﺅن کری...   \n1    اس لئے کہتے ہیں دوسروں کو اپنی پرنسل لائف میں ...   \n2    ان کے ساتھ جو کچھ مرضی لوگ کر لیں اس کے جواب ب...   \n3                     یہی تو میں ان سے بھی کہہ رہا تھا   \n4                            دل توڑ سکتے ہیں اصول نہیں   \n..                                                 ...   \n287  سب سے پہلی بات تو یہ کہ بھائی آپ نے اچھا کیا ک...   \n288  کوئی ایسا جو آپ میں سے کسی نے آزمایا ہوا ہو او...   \n289              اچھا آپ کے جواب سے ایک کنفرمیشن ہوگئی   \n290             ماشاءاللہ یہ ہوئی نا کریٹیویٹی۔ زبردست   \n291  ابھی 1234 پے ٹیکسٹ کر کے ہر نمبر کے لیے الگ Uf...   \n\n                                                 roman  \n0    ab oil main kati hoi payaz daal kar light brow...  \n1    is lye kety hain dosro ko apni personal life m...  \n2    on k sath jo kuch merzi log ker lay os ka jawa...  \n3                        yahi to mai unse b keh ra tha  \n4                        dil tor saktay hain asool nhi  \n..                                                 ...  \n287  sabse pehli baat to yeh ke bhai aapne acha kia...  \n288  koi aisa jo aap may say kisi nay azmaya hua ho...  \n289      acha aap ke jawab se aiik confirmation ho gai  \n290          mashallah ye hui na creativity. zabardast  \n291  abhi 1234 pai text kar k har number k liye alg...  \n\n[292 rows x 2 columns]",
      "text/html": "<div>\n<style scoped>\n    .dataframe tbody tr th:only-of-type {\n        vertical-align: middle;\n    }\n\n    .dataframe tbody tr th {\n        vertical-align: top;\n    }\n\n    .dataframe thead th {\n        text-align: right;\n    }\n</style>\n<table border=\"1\" class=\"dataframe\">\n  <thead>\n    <tr style=\"text-align: right;\">\n      <th></th>\n      <th>urdu</th>\n      <th>roman</th>\n    </tr>\n  </thead>\n  <tbody>\n    <tr>\n      <th>0</th>\n      <td>اب آئل میں کٹی ہوئی پیاز ڈال کر لائٹ براﺅن کری...</td>\n      <td>ab oil main kati hoi payaz daal kar light brow...</td>\n    </tr>\n    <tr>\n      <th>1</th>\n      <td>اس لئے کہتے ہیں دوسروں کو اپنی پرنسل لائف میں ...</td>\n      <td>is lye kety hain dosro ko apni personal life m...</td>\n    </tr>\n    <tr>\n      <th>2</th>\n      <td>ان کے ساتھ جو کچھ مرضی لوگ کر لیں اس کے جواب ب...</td>\n      <td>on k sath jo kuch merzi log ker lay os ka jawa...</td>\n    </tr>\n    <tr>\n      <th>3</th>\n      <td>یہی تو میں ان سے بھی کہہ رہا تھا</td>\n      <td>yahi to mai unse b keh ra tha</td>\n    </tr>\n    <tr>\n      <th>4</th>\n      <td>دل توڑ سکتے ہیں اصول نہیں</td>\n      <td>dil tor saktay hain asool nhi</td>\n    </tr>\n    <tr>\n      <th>...</th>\n      <td>...</td>\n      <td>...</td>\n    </tr>\n    <tr>\n      <th>287</th>\n      <td>سب سے پہلی بات تو یہ کہ بھائی آپ نے اچھا کیا ک...</td>\n      <td>sabse pehli baat to yeh ke bhai aapne acha kia...</td>\n    </tr>\n    <tr>\n      <th>288</th>\n      <td>کوئی ایسا جو آپ میں سے کسی نے آزمایا ہوا ہو او...</td>\n      <td>koi aisa jo aap may say kisi nay azmaya hua ho...</td>\n    </tr>\n    <tr>\n      <th>289</th>\n      <td>اچھا آپ کے جواب سے ایک کنفرمیشن ہوگئی</td>\n      <td>acha aap ke jawab se aiik confirmation ho gai</td>\n    </tr>\n    <tr>\n      <th>290</th>\n      <td>ماشاءاللہ یہ ہوئی نا کریٹیویٹی۔ زبردست</td>\n      <td>mashallah ye hui na creativity. zabardast</td>\n    </tr>\n    <tr>\n      <th>291</th>\n      <td>ابھی 1234 پے ٹیکسٹ کر کے ہر نمبر کے لیے الگ Uf...</td>\n      <td>abhi 1234 pai text kar k har number k liye alg...</td>\n    </tr>\n  </tbody>\n</table>\n<p>292 rows × 2 columns</p>\n</div>"
     },
     "metadata": {}
    }
   ]
  },
  {
   "cell_type": "code",
   "metadata": {
    "cell_id": "b498a64a5573405b95e71bec60123bc1",
    "tags": [],
    "deepnote_to_be_reexecuted": false,
    "source_hash": "997399cc",
    "execution_start": 1660201307953,
    "execution_millis": 379,
    "deepnote_cell_type": "code",
    "deepnote_cell_height": 180,
    "deepnote_output_heights": [
     null,
     21.1875
    ]
   },
   "source": "nltk.download('punkt')",
   "execution_count": 8,
   "outputs": [
    {
     "name": "stderr",
     "text": "[nltk_data] Downloading package punkt to /root/nltk_data...\n[nltk_data]   Unzipping tokenizers/punkt.zip.\n",
     "output_type": "stream"
    },
    {
     "output_type": "execute_result",
     "execution_count": 8,
     "data": {
      "text/plain": "True"
     },
     "metadata": {}
    }
   ]
  },
  {
   "cell_type": "code",
   "metadata": {
    "cell_id": "1a04874cdf2e4a23827f14c21396836a",
    "tags": [],
    "deepnote_to_be_reexecuted": false,
    "source_hash": "e9f3ec60",
    "execution_start": 1660201308340,
    "execution_millis": 4033,
    "deepnote_cell_type": "code",
    "deepnote_cell_height": 439
   },
   "source": "!pip install translate",
   "execution_count": 9,
   "outputs": [
    {
     "name": "stdout",
     "text": "Collecting translate\n  Downloading translate-3.6.1-py2.py3-none-any.whl (12 kB)\nRequirement already satisfied: requests in /shared-libs/python3.9/py/lib/python3.9/site-packages (from translate) (2.28.1)\nRequirement already satisfied: lxml in /shared-libs/python3.9/py/lib/python3.9/site-packages (from translate) (4.9.1)\nCollecting libretranslatepy==2.1.1\n  Downloading libretranslatepy-2.1.1-py3-none-any.whl (3.2 kB)\nRequirement already satisfied: click in /shared-libs/python3.9/py/lib/python3.9/site-packages (from translate) (8.1.3)\nRequirement already satisfied: certifi>=2017.4.17 in /shared-libs/python3.9/py/lib/python3.9/site-packages (from requests->translate) (2022.6.15)\nRequirement already satisfied: charset-normalizer<3,>=2 in /shared-libs/python3.9/py-core/lib/python3.9/site-packages (from requests->translate) (2.1.0)\nRequirement already satisfied: urllib3<1.27,>=1.21.1 in /shared-libs/python3.9/py/lib/python3.9/site-packages (from requests->translate) (1.26.11)\nRequirement already satisfied: idna<4,>=2.5 in /shared-libs/python3.9/py-core/lib/python3.9/site-packages (from requests->translate) (3.3)\nInstalling collected packages: libretranslatepy, translate\nSuccessfully installed libretranslatepy-2.1.1 translate-3.6.1\n\u001b[33mWARNING: You are using pip version 22.0.4; however, version 22.2.2 is available.\nYou should consider upgrading via the '/root/venv/bin/python -m pip install --upgrade pip' command.\u001b[0m\u001b[33m\n\u001b[0m",
     "output_type": "stream"
    }
   ]
  },
  {
   "cell_type": "code",
   "metadata": {
    "cell_id": "082986caf4534e7f9bbbf7655ff16b54",
    "tags": [],
    "deepnote_to_be_reexecuted": false,
    "source_hash": "2adf77b9",
    "execution_start": 1660201312379,
    "execution_millis": 13686,
    "deepnote_cell_type": "code",
    "deepnote_cell_height": 777
   },
   "source": "!pip install gTTS\n!pip install playsound\n!pip install pyttsx3  ",
   "execution_count": 10,
   "outputs": [
    {
     "name": "stdout",
     "text": "Collecting gTTS\n  Downloading gTTS-2.2.4-py3-none-any.whl (26 kB)\nRequirement already satisfied: six in /shared-libs/python3.9/py-core/lib/python3.9/site-packages (from gTTS) (1.16.0)\nRequirement already satisfied: requests in /shared-libs/python3.9/py/lib/python3.9/site-packages (from gTTS) (2.28.1)\nRequirement already satisfied: click in /shared-libs/python3.9/py/lib/python3.9/site-packages (from gTTS) (8.1.3)\nRequirement already satisfied: charset-normalizer<3,>=2 in /shared-libs/python3.9/py-core/lib/python3.9/site-packages (from requests->gTTS) (2.1.0)\nRequirement already satisfied: idna<4,>=2.5 in /shared-libs/python3.9/py-core/lib/python3.9/site-packages (from requests->gTTS) (3.3)\nRequirement already satisfied: urllib3<1.27,>=1.21.1 in /shared-libs/python3.9/py/lib/python3.9/site-packages (from requests->gTTS) (1.26.11)\nRequirement already satisfied: certifi>=2017.4.17 in /shared-libs/python3.9/py/lib/python3.9/site-packages (from requests->gTTS) (2022.6.15)\nInstalling collected packages: gTTS\nSuccessfully installed gTTS-2.2.4\n\u001b[33mWARNING: You are using pip version 22.0.4; however, version 22.2.2 is available.\nYou should consider upgrading via the '/root/venv/bin/python -m pip install --upgrade pip' command.\u001b[0m\u001b[33m\n\u001b[0mCollecting playsound\n  Downloading playsound-1.3.0.tar.gz (7.7 kB)\n  Preparing metadata (setup.py) ... \u001b[?25ldone\n\u001b[?25hBuilding wheels for collected packages: playsound\n  Building wheel for playsound (setup.py) ... \u001b[?25ldone\n\u001b[?25h  Created wheel for playsound: filename=playsound-1.3.0-py3-none-any.whl size=7035 sha256=986d500e9a45fd5100157f10132842a085195142ec638f58309d8cfbd0de36aa\n  Stored in directory: /root/.cache/pip/wheels/ba/39/54/c8f7ff9a88a644d3c58b4dec802d90b79a2e0fb2a6b884bf82\nSuccessfully built playsound\nInstalling collected packages: playsound\nSuccessfully installed playsound-1.3.0\n\u001b[33mWARNING: You are using pip version 22.0.4; however, version 22.2.2 is available.\nYou should consider upgrading via the '/root/venv/bin/python -m pip install --upgrade pip' command.\u001b[0m\u001b[33m\n\u001b[0mCollecting pyttsx3\n  Downloading pyttsx3-2.90-py3-none-any.whl (39 kB)\nInstalling collected packages: pyttsx3\nSuccessfully installed pyttsx3-2.90\n\u001b[33mWARNING: You are using pip version 22.0.4; however, version 22.2.2 is available.\nYou should consider upgrading via the '/root/venv/bin/python -m pip install --upgrade pip' command.\u001b[0m\u001b[33m\n\u001b[0m",
     "output_type": "stream"
    }
   ]
  },
  {
   "cell_type": "code",
   "metadata": {
    "cell_id": "40a12a731ecf4928a32857bae676350e",
    "tags": [],
    "deepnote_to_be_reexecuted": false,
    "source_hash": "5076112d",
    "execution_start": 1660201326081,
    "execution_millis": 16,
    "deepnote_cell_type": "code",
    "deepnote_cell_height": 129.1875
   },
   "source": "import gtts  \nfrom playsound import playsound  ",
   "execution_count": 11,
   "outputs": [
    {
     "name": "stderr",
     "text": "playsound is relying on another python subprocess. Please use `pip install pygobject` if you want playsound to run more efficiently.\n",
     "output_type": "stream"
    }
   ]
  },
  {
   "cell_type": "code",
   "metadata": {
    "cell_id": "c9eecbc458a44acf99620c769917a1c9",
    "tags": [],
    "deepnote_to_be_reexecuted": false,
    "source_hash": "aa76e70b",
    "execution_start": 1660201326102,
    "execution_millis": 7,
    "deepnote_cell_type": "code",
    "deepnote_cell_height": 76
   },
   "source": " ",
   "execution_count": 11,
   "outputs": []
  },
  {
   "cell_type": "code",
   "metadata": {
    "cell_id": "3894d7c7296e48f08b84d01f3e01680e",
    "tags": [],
    "deepnote_to_be_reexecuted": false,
    "source_hash": "b623e53d",
    "execution_start": 1660201326117,
    "execution_millis": 533508910,
    "deepnote_cell_type": "code",
    "deepnote_cell_height": 76
   },
   "source": "",
   "execution_count": 11,
   "outputs": []
  },
  {
   "cell_type": "code",
   "metadata": {
    "cell_id": "0974d1d707034f888534dd9522fd6146",
    "tags": [],
    "deepnote_to_be_reexecuted": false,
    "source_hash": "40bd9252",
    "execution_start": 1660201326125,
    "execution_millis": 157,
    "deepnote_cell_type": "code",
    "deepnote_cell_height": 459
   },
   "source": "\n#\nfor i in range(len(df)):\n    #Translating punctuations using builtin librarie Translate\n    roman_words = word_tokenize(df['roman'][i].translate(str.maketrans('', '', string.punctuation)))\n    urdu_words = word_tokenize(df['urdu'][i].translate(str.maketrans('', '', '،۔')))\n\n    #Check conditions for selecting the words from lists\n    if len(roman_words) == len(urdu_words):\n        j = 0\n        for i in range(len(roman_words)):\n            if len(roman_words[i]) >=4  and len(urdu_words[j]) <= 2:\n                if j < len(urdu_words)-1:\n                    map_dict[roman_words[i]].append(urdu_words[j] + ' ' + urdu_words[j+1])\n                    j+=1 \n                else:\n                    map_dict[roman_words[i]].append(urdu_words[j])\n            else:\n                map_dict[roman_words[i]].append(urdu_words[j])\n            j+=1\n            if j == len(urdu_words):\n                break",
   "execution_count": 12,
   "outputs": []
  },
  {
   "cell_type": "code",
   "metadata": {
    "cell_id": "c3c56047f8534c1f86f2ec67a456f7df",
    "tags": [],
    "deepnote_to_be_reexecuted": false,
    "source_hash": "f4ed11b1",
    "execution_start": 1660201326299,
    "execution_millis": 39,
    "deepnote_cell_type": "code",
    "deepnote_cell_height": 111.1875
   },
   "source": "print(map_dict)",
   "execution_count": 13,
   "outputs": [
    {
     "name": "stdout",
     "text": "defaultdict(<function <lambda> at 0x7f91c5afad30>, {'akbani': ['اکابانی'], 'awais': ['اویس'], 'behjat': ['بہجت'], 'mustafa': ['مصطفی'], 'uzair': ['عزیر'], 'Sami': ['سمیع'], 'Adnan': ['عدنان'], 'Abdul': ['عبدل'], 'Basit': ['باسط'], 'zohaib': ['زوہیب'], 'khabar': ['خبر', 'خبر'], 'aabaad': ['آباد'], 'aabroo': ['آبرو'], 'aap': ['آپ', 'آپ', 'آپ', 'آپ', 'آپ', 'آپ', 'آپ', 'آپ', 'آپ', 'آپ', 'آپ', 'آپ', 'آپ', 'آپ', 'آپ', 'آپ', 'آپ', 'آپ', 'آپ', 'آپ', 'آپ', 'آپ', 'آپ', 'آپ', 'آپ'], 'aadaab': ['آداب', 'آداب'], 'aadmi': ['آدمی'], 'aadmiyyat': ['آدمیت'], 'aaraa': ['آرا'], 'aaraam': ['آرام'], 'aarzoo': ['آرزو'], 'aaz': ['از'], 'aas': ['اس', 'آس'], 'aasaan': ['آسان'], 'aasmaan': ['آسمان'], 'aag': ['آگ', 'آگ', 'آگ'], 'aan.soo': ['آنسو'], 'aawaaz': ['آواز'], \"ibtidaa'\": ['ابتداءً'], 'abtar': ['ابتر'], 'abad': ['آباد'], 'abroo': ['آبرو'], 'ittiHaad': ['اتحاد'], 'ittifaaq': ['اتفاق'], 'aTak': ['اٹک'], 'asar': ['اثر', 'اثر'], 'ijaazat': ['اجازت'], 'ajnabee': ['اجنبی'], 'iHtiyaat': ['احتیاط'], 'iHsaas': ['احساس'], 'iHsaan': ['احسان'], 'akhbaar': ['اخبار'], 'ikhtiyaar': ['اختیار'], 'adaa': ['ادا', 'ادا'], 'idraak': ['ادراک'], 'adib': ['ادب'], 'arz': ['عرض', 'ارض', 'عرض'], 'asaas': ['اساس'], 'asbaab': ['اسباب'], 'ustaad': ['استاد'], 'ishtihaar': ['اشتہار'], 'asl': ['اصل'], 'asli': ['اصلی'], 'iztiraab': ['اضطراب'], 'ifraat': ['افراط'], 'afsos': ['افسوس', 'افسوس'], 'iqbaal': ['اقبال'], 'iqraar': ['اقرار', 'اقرار'], 'akbar': ['اکبر', 'اکبر'], 'aksar': ['اکثر', 'اکثر', 'اکثر'], 'agar': ['اگر', 'اگر', 'اگر', 'اگر', 'اگر', 'اگر', 'اگر', 'اگر', 'اگر', 'اگر'], 'al': ['ال', 'الحمدلللہ'], 'amaanat': ['امانت'], 'imtiyaaz': ['امتیاز'], 'ummid': ['امید'], 'intiqaam': ['انتقام'], 'anjaam': ['انجام'], 'anjuman': ['انجمن'], 'insaan': ['انسان', 'انسان', 'انسان', 'کے ساتھ'], 'inkaar': ['انکار'], 'auqaat': ['اوقات', 'اوقات', 'اوقات'], 'baab': ['باب'], 'baat': ['بات', 'بات', 'بات', 'بات', 'بات', 'بات', 'بات', 'بات', 'بات', 'بات', 'بات', 'بات', 'بات', 'بات', 'بات'], 'baad': ['بعد', 'باد', 'بعد', 'بعد', 'بعد', 'بعد', 'بعد'], 'baadal': ['بادل'], 'baarish': ['بارش'], 'baareek': ['باریک'], 'baaz': ['باز', 'باز', 'باز', 'باز'], 'baazaar': ['بازار'], 'baazoo': ['بازو'], 'baazi': ['بازی'], 'baagh': ['باغ', 'باغ'], 'baaqee': ['باقی', 'باقی', 'باقي'], 'baam': ['بام'], 'baan.kaa': ['بانکا'], 'baHs': ['بحث'], 'bukhaar': ['بخار'], 'bakht': ['بخت'], 'bad': ['بعد', 'بعد', 'باد', 'بعد'], 'badal': ['بدل', 'بادل'], 'baraabar': ['برابر'], 'bardaasht': ['برداشت'], 'barsaat': ['برسات'], 'barkat': ['برکت'], 'buzurg': ['بزرگ'], 'bas': ['بس', 'باس', 'بس'], 'bistar': ['بستر'], 'baseraa': ['بسیرا'], 'bashar': ['بشر'], 'baghaawat': ['بغاوت'], 'baghal': ['بغل'], 'bunyaad': ['بنیاد'], 'bood': ['بعد'], 'bahaadur': ['بہادر'], 'be adab': ['بے ادب'], 'be chain': ['بےچین'], 'be khabar': ['بے خبر'], 'be daagh': ['بے داغ'], 'be dard': ['بے درد'], 'be rahm': ['بے رحم'], 'be riyaa': ['بے ریا'], 'be zabaan': ['بے زبان'], 'be sharm': ['بے شرم'], 'be sabr': ['بے صبر'], 'be fikr': ['بے فکر'], 'be kaar': ['بے کار'], 'be waqoof': ['بے وقوف'], 'bayaan': ['بیان'], 'bezaar': ['بیزار'], 'bimaar': ['بیمار'], 'paar': ['پار', 'پار'], 'paas': ['پاس', 'پاس', 'پاس'], 'paas baan': ['پاسبان'], 'pak': ['پاک', 'پاک', 'پاک', 'پاک', 'پاک'], 'paagal': ['پاگل'], 'paani': ['پانی'], 'parwarish': ['پرورش'], 'pareshaan': ['پریشان'], 'pasand': ['پسند', 'پسند', 'پسند', 'پسند'], 'pashemaan': ['پشیمان'], 'pal': ['پل'], 'palak': ['پلک'], 'paighaam': ['پیغام'], 'paimaan': ['پیمان'], 'taj': ['تاج'], 'taarikh': ['تاریخ'], 'taak': ['تاک'], 'tabdeel': ['تبدیل', 'تبدیل'], 'takht': ['تخت', 'تخت'], 'tars': ['ترس', 'ترس', 'کھائے'], 'tarkeeb': ['ترکیب'], 'tasawwur': ['تصور'], 'taqdeer': ['تقدیر', 'تقدیر'], 'takleef': ['تکلیف', 'تکلیف'], 'tamaam': ['تمام'], 'teer': ['تیر', 'تیر'], 'tez': ['تیز', 'تيز'], 'Tapaknaa': ['ٹپکنا'], 'Takkar': ['ٹکر'], 'TooT': ['ٹوٹ'], 'saabit': ['ثابت', 'ثابت'], 'siqaafat': ['ثقافت'], 'jaadu': ['جادو'], 'jaagir': ['جاگیر'], 'jaahil': ['جاہل'], 'judaa': ['جدا'], 'judaaee': ['جدائی'], 'justjoo': ['جستجو'], 'jism': ['جسم', 'جسم'], 'jashn': ['جشن'], \"ja'l\": ['جال'], 'jigar': ['جگر'], 'jannat': ['جنت'], 'jang': ['جنگ'], 'jawaab': ['جواب'], 'josh': ['جوش', 'جوش'], 'jahaaz': ['جہاز'], 'chaadar': ['چادر'], 'chaaqoo': ['چاقو'], 'chaal': ['چال'], 'charaagh': ['چراغ'], 'chamak': ['چمک'], 'chand': ['چند', 'چاند', 'چند', 'چند'], 'cheez': ['چیز', 'چیز', 'چیز', 'چیز'], 'chain': ['چین', 'چین'], 'Haazir': ['حاضر'], 'Haakim': ['حاکم'], 'Haal': ['حال'], 'Haalat': ['حالت'], 'Haraam': ['حرام'], 'Hisaab': ['حساب'], 'Haseen': ['حسین'], 'Hazrat': ['حضرت'], 'Hifaazat': ['حفاظت'], 'Haqeeqat': ['حقیقت'], 'Hukm': ['حکم'], 'Hikmat': ['حکمت'], 'Haiseeyat': ['حیثیت'], 'khaas': ['خاص', 'خاص'], 'khaak': ['خاک'], 'khaalis': ['خالص'], 'khaam': ['خام', 'خام'], 'khaamosh': ['خاموش'], 'khaandaan': ['خاندان'], 'khuda': ['خدا', 'خدا', 'خدا', 'خدا'], 'kharaab': ['خراب', 'خراب'], 'khushk': ['خشک'], 'khanjar': ['خنجر'], 'khwaab': ['خواب'], 'khood': ['خود'], 'khoosh': ['خوش'], 'khoon': ['خون'], 'khayaal': ['خیال', 'خیال'], 'daad': ['داد', 'داد'], 'daastaan': ['داستان'], 'daagh': ['داغ', 'داغ'], 'daaman': ['دامن'], 'daraaz': ['دراز'], 'dard': ['درد', 'درد', 'درد', 'درد', 'درد'], 'dars': ['درس'], 'durust': ['درست'], 'durusht': ['درشت'], 'darmiyan': ['درمیان'], 'darya': ['دریا', 'دریا'], 'dastoor': ['دستور'], 'dushman': ['دشمن', 'دشمن'], 'dushwaar': ['دشوار'], 'dil': ['دل', 'دل', 'دل', 'دل', 'دل', 'سے', 'دل', 'دل', 'دل', 'دل', 'دل', 'ہوتا', 'دل'], 'dilbar': ['دلبر'], 'dil chasp': ['دلچسپ'], 'dil soz': ['دلسوز'], 'dil fareb': ['دلفریب'], 'dil kash': ['دلکش'], 'dimaagh': ['دماغ'], 'dunyaa': ['دنیا'], 'door': ['دور', 'دور', 'ڈور', 'رہنا', 'دور', 'دور'], 'daur': ['دور'], 'dost': ['دوست', 'دست', 'دوست', 'اور', 'دوست', 'دوست', 'دوست'], 'daulat': ['دولت'], 'deewaar': ['دیوار'], 'zaati': ['ذاتی'], 'zikr': ['ذکر', 'ذکر'], 'raaz': ['راز', 'یہ ایک'], 'raast': ['سچا'], 'rahm': ['رحم', 'رحم'], 'rukhsaar': ['رخسار'], 'rasm': ['رسم', 'رسم'], 'raftaar': ['رفتار', 'رفتار'], 'rafeeq': ['رفیق'], 'raqeeb': ['رقیب', 'رقیب'], 'ran.g': ['رنگ'], 'resham': ['ریشم', 'ریشم'], 'zabaan': ['زبان'], 'zaHmat': ['زحمت'], 'zakhm': ['زخم'], 'zukaam': ['زکام'], 'zameen': ['زمین', 'زمین'], 'zanjeer': ['زنجیر'], 'zindagi': ['زندگی', 'زندگی', 'زندگی', 'زندگی', 'زندگی', 'زندگی'], 'saaHil': ['ساحل'], 'saaz': ['ساز', 'ساز'], 'saaqee': ['ساقی'], 'saal': ['سال', 'سال'], 'saamaan': ['سامان'], 'saan.s': ['سانس'], 'saHar': ['سحر'], 'sakht': ['سخت', 'سخت'], 'sar': ['سر', 'سر', 'سر'], 'sazaa': ['سزا'], 'sust': ['سست'], 'sifaarish': ['سفارش'], 'safar': ['سفر'], 'safed': ['سفید'], 'sawaal': ['سوال'], 'soona': ['سونا'], 'shaakh': ['شاخ'], 'shaagird': ['شاگرد'], 'shaam': ['شام'], 'shaamil': ['شامل'], 'shaan': ['شان'], 'shaahtir': ['شہتیر'], 'shabnam': ['شبنم', 'شعبان'], 'sharaab': ['شراب'], 'sharaafat': ['شرافت'], 'shart': ['شرط', 'شرت', 'شرط'], 'sharm': ['شرم'], \"shuroo'\": ['شروع'], \"shi'r\": ['شیر'], 'shikaar': ['شکار'], 'shukr': ['شکر', 'شکر'], 'shakl': ['شکل'], 'shamsher': ['شمشیر'], 'shokh': ['شوخ', 'شوخ'], 'shauq': ['شوق'], 'shahr': ['شہر'], 'shaheed': ['شہید', 'شہید', 'شہید', 'شہد'], 'shekhi': ['شیخی'], 'sher': ['شیر'], 'saaf': ['صاف', 'صاف'], 'suHbat': ['صحبت'], 'sadr': ['صدر'], 'zaabit': ['ضابط', 'ضابط'], 'zaamin': ['حواله'], 'zarb': ['ضرب'], 'zaroor': ['ضرور', 'ضرور'], 'zaroorat': ['ضرورت'], 'zamaanat': ['ضمانت'], 'zameer': ['ضمیر'], 'taaqat': ['طاقت'], 'taraf': ['طرف', 'تعرف', 'طرف'], \"ta'n\": ['تان'], 'talab': ['طلب'], 'toofaan': ['طوفان'], 'zaalim': ['ظالم'], 'zulm': ['ظلم', 'ظلم', 'ظلم', 'ظلم'], \"'aajiz\": ['عاجز'], \"'aadat\": ['عادت'], \"'aadil\": ['عادل'], \"'aaqibat\": ['عاقبت'], \"'aalam\": ['عالم'], \"'ajab\": ['عجب'], \"'ilm\": ['علم'], \"'umr\": ['امر'], \"'awaam\": ['عوام'], \"'aurat\": ['عورت'], \"'aiyaash\": ['عیاش'], 'ghubaar': ['غبار'], 'ghaddaar': ['غدّار'], 'gharaz': ['غرض'], 'ghuroor': ['غرور', 'غرور'], 'gharib': ['غریب'], 'ghazal': ['غزل'], 'ghaflat': ['غفلت', 'غفلت'], 'ghalat': ['غلط'], 'ghaleez': ['غلیظ'], 'ghair': ['غیر', 'غیر', 'غیر', 'غیر', 'غير', 'غیر'], 'faazil': ['فاضل'], 'farz': ['فرض', 'فرض'], 'farq': ['فرق', 'فرق', 'فرق', 'ہے؟'], 'farmaan': ['فرمان'], 'faryaad': ['فریاد'], 'fareb': ['فریب', 'فریب'], \"faza'\": ['فضا'], 'fitrat': ['فطرت'], 'fikr': ['فکر'], 'fauj': ['فوج'], 'fahm': ['فہم'], 'qaabil': ['قابل'], 'qaatil': ['قاتل'], 'qaanoon': ['قانون'], 'qabr': ['قبر'], 'qubool': ['قبول'], 'qatl': ['قتل'], 'qadam': ['قدم'], 'qurbaan': ['قربان'], 'qareeb': ['قریب', 'قریب'], 'qasam': ['داغنے کا لوها'], 'qism': ['داغنے کا لوها'], 'qismat': ['قسمت'], 'qaum': ['قوم'], 'qaid': ['قید'], 'qeemat': ['قیمت'], 'kaar': ['مہم'], 'kaarwaan': ['کارواں'], 'kaaghaz': ['کاغذ'], 'kaafir': ['کافر', 'کافر'], 'kaafur': ['کافر'], 'kaafi': ['کافی'], 'kaam': ['کام', 'کام', 'لے وہ', 'کام', 'کام'], 'kaamraan': ['کامران'], 'kabootar': ['کبوتر'], 'kitaab': ['کتاب'], 'kasrat': ['کثرت'], 'karam': ['کرم'], 'kashti': ['کشتی', 'کشتی'], 'kashish': ['کشش', 'کشش'], 'kufr': ['کفر', 'کفر'], 'kul': ['کل'], 'kamzor': ['کمزور', 'کمزور'], 'kamaal': ['کمال'], 'kamaan': ['بو'], 'kamar': ['کمر'], 'kamee': ['کمی'], 'koshish': ['کوشش', 'کوشش'], 'kaul': ['کل'], 'kaif': ['کیف'], 'kaifiyyat': ['کیفیت'], 'giraan.': ['گراں'], 'gardish': ['گردش'], 'giriftaar': ['گرفتار'], 'garm': ['گرم'], 'guftgoo': ['گفتگو'], 'gul': ['گل', 'گيل', 'گل'], 'gum': ['غائب', 'گوم'], 'gum naam': ['گمنام'], 'gumaan': ['گمان'], 'gawaaraa': ['گوارا'], 'goyaa': ['گانے والی'], 'lughat': ['لغت'], 'lafz': ['لفظ', 'لفظ'], 'liyaaqat': ['لیاقت'], 'maa Haul': ['ماحول'], 'maatam': ['ماتم'], 'maal': ['مال', 'مال', 'مال'], 'maalik': ['مالک', 'مالک', 'مالک', 'مالک'], 'maayoos': ['مایوس'], 'mujrim': ['مجرم', 'مجرم'], 'majrooh': ['مجروح'], 'muHaafiz': ['محافظ'], 'maHabbat': ['محبت'], 'muHtaj': ['محتاج'], 'maHjoob': ['محجوب'], 'maHdood': ['محدود'], 'maHfil': ['محفل'], 'maHfooz': ['محفوظ'], 'mukhtasar': ['مختصر'], 'makhmal': ['مخمل'], 'madad': ['مدد'], 'mard': ['مرد', 'مرد'], 'mareez': ['مریض', 'مریض'], 'mizaaj': ['مزاج'], 'musaafir': ['مسافر'], 'mushkil': ['مشکل', 'مشکل'], 'mashhoor': ['مشہور'], 'museebat': ['مصیبت'], 'mazboot': ['مضبوط', 'مضبوط'], 'matlab': ['مطلب', 'مطلب', 'مطلب'], 'maghroor': ['مغرور'], 'muft': ['مفت'], 'muflis': ['مفلس'], 'mufeed': ['مفید'], 'muqaabil': ['مقابل'], 'maqaam': ['مقام'], 'muqaddam': ['مقدّم'], 'muqarrar': ['مقرر'], 'maqsad': ['مقصد', 'مقصد'], 'makkaar': ['مکار'], 'makaan': ['مکان'], 'mulk': ['ملک', 'ملک', 'ملک', 'ملک', 'ملک', 'ملک'], 'mumtaaz': ['ممتاز'], 'mumkin': ['ممکن', 'ممکن'], 'munaasib': ['مناسب'], 'manzil': ['منزل', 'منزل'], 'manzar': ['منظر'], 'manzoor': ['منظور', 'منظور'], 'maut': ['موت'], 'maujood': ['موجود', 'موجود'], 'mausam': ['موسم'], \"mauqa'\": ['موقع'], 'mom': ['موم'], 'muhaajir': ['مہاجر'], 'mihmaan': ['مہمان'], 'maidaan': ['میدان'], 'naa tamaam': ['ناتمام'], 'naa farmaan': ['نافرمان'], 'naa kaam': ['ناکام'], 'naa mumkin': ['نا ممکن'], 'naach': ['ناچ', 'ناچ'], 'naakhun': ['ناخن'], 'naazuk': ['نازک'], 'naak': ['ناک', 'ناک'], 'naalish': ['نالش'], 'naam': ['نام', 'نام', 'نام'], 'narm': ['نرم', 'نرم'], 'nazaakat': ['نزاکت'], 'nazdeek': ['نزدیک', 'نزدیک', 'نزدیک'], 'nisbat': ['نسبت'], 'nishaan': ['نشان'], 'naseeHat': ['نصیحت'], 'nizaam': ['نظام', 'نظام'], 'naqsh': ['نقش', 'نقش'], 'nuqsaan': ['نقصان'], 'naql': ['نقل'], 'nam': ['نام', 'نام', 'نام'], 'namaaz': ['نماز'], 'nau': ['نو'], 'nim': ['نم'], 'waahid': ['واحد'], 'waaridaat': ['واردات'], 'wujood': ['وجود'], 'wazn': ['وزن'], 'wazaahat': ['وضاحت'], 'watan': ['ملک'], 'wafaa': ['وفا'], 'waqt': ['وقت', 'وقت', 'وقت'], 'wakeel': ['وکیل', 'وکیل'], 'weeraan': ['ویران'], 'weeraani': ['ویرانی'], 'yaa': ['یا', 'یا'], 'yaad gaar': ['یادگار'], 'yaaqoot': ['یاقوت'], 'yateem': ['یتیم'], 'larkana': ['لاڑکانا'], 'turn': ['ٹيرن'], 'july': ['جوﻻٔي', 'جولائی', 'جيلي'], 'info': ['انفو'], 'chekoo5': ['چیکو'], 'one': ['ون', 'وني'], 'pare': ['پڑے'], 'pol': ['پول'], 'none': ['نونی'], 'krti': ['کرتی'], 'kejye': ['کیجیے'], 'roopa': ['روپا'], 'alluring': ['الليرنگ'], 'qbz': ['قبض'], 'married': ['مررید', 'میریڈ'], 'saadgimeri': ['سادگی'], 'bhang': ['بھنگ'], 'main': ['میں', 'مین', 'ميں', 'میں', 'میں', 'میں', 'میں', 'میں', 'میں', 'میں', 'میں', 'میں', 'میں', 'میں', 'میں', 'میں', 'میں', 'میں', 'میں', 'میں', 'میں', 'میں', 'میں', 'میں', 'میں', 'میں', 'میں', 'میں', 'میں', 'میں', 'میں', 'میں', 'میں', 'میں', 'میں', 'میں', 'میں', 'ٹیسٹ', 'میں', 'میں', 'میں', 'میں', 'کیا', 'میں', 'میں', 'میں', 'میں', 'میں'], '1000': ['١٠٠٠'], 'nahi': ['نھیں', 'نہانے', 'نہیں', 'نہیں', 'نہیں', 'نہیں', 'نہیں', 'نہیں', 'کرنا', 'نہیں', 'نہیں', 'نہیں', 'نہیں', 'نہیں', 'نہیں', 'نہیں', 'نہیں', 'نہیں', 'نہیں', 'نہیں', 'نہیں', 'نہیں', 'نہیں', 'نہیں', 'نہیں', 'نہیں', 'نہیں', 'نہیں', 'نہیں', 'نہیں', 'نہیں', 'نہیں', 'نہیں', 'نہیں', 'نہیں', 'نہیں', 'نہیں', 'نہیں', 'نہیں'], 'lasting': ['لاسٹنگ'], 'flower': ['فلوير'], 'jaib': ['جیب'], 'shikast': ['شکست'], 'nagri': ['نگری'], 'sohail': ['سہیل'], 'rebel': ['ریبل'], 'mutala': ['مطالعہ'], 'ranjish': ['رنجش'], 'jety': ['جیتنے'], 'goreela786ali': ['گوریلا'], 'bahir': ['باہر', 'باہر', 'باہر', 'باہر', 'باہر'], 'people': ['پيوپل'], 'pakaya': ['پکایا'], 'bhataknay': ['بھٹکنے'], 'uthen': ['اٹھیں'], 'bojh': ['بوجھ'], 'sani': ['سانی'], 'saya': ['سیا', 'سایہ'], 'asool': ['اصول', 'اصول'], 'mhtab': ['مہتاب'], 'thanda': ['ٹھنڈا'], 'lagna': ['لگنا'], 'lrny': ['لڑنے'], 'kitabon': ['کتابوں'], 'justice': ['جيسٹس'], 'marty': ['مارتے'], 'command': ['کمانڈ'], 'rakhti': ['رکھتی'], 'akele': ['اکیلے'], 'agr': ['اگر', 'اگر', 'اگر'], 'rabi': ['رابی', 'ابیع'], 'yr': ['یر', 'یار'], 'dita': ['دتا'], 'reject': ['ریجیکٹ'], 'chaghi1islamabd': ['چاغی'], 'hyye': ['ه'], 'taiz': ['تیز'], 'lohe': ['لوہے'], 'amjid': ['امجد'], 'rakhte': ['رکهتے', 'رکھتے'], 'ranjhay': ['رانجھے'], 'bettary': ['بیٹری'], 'today': ['ٹوڈے'], 'sari': ['سری', 'ساری', 'ساری'], 'masala': ['مسالا'], 'tanha': ['تنہا'], 'sunday': ['سانڈے', 'سنڈے'], 'aalam': ['عالم'], 'alin8': ['الینا'], 'hath': ['ہاته', 'ھاتھ', 'ہاتھ', 'هاتھ', 'ہاتھ'], 'hzrat': ['حضرات'], 'baba': ['بابا'], 'tanz': ['طنز'], 'petrol': ['پيٹرول'], 'wabasta': ['وابسطہ'], 'side': ['سادے'], 'kaghaz': ['کاغذ'], 'lamhon': ['لمحوں'], 'morgunmeri': ['مورگن'], 'taso': ['تصو'], 'absence': ['ابسنس'], '1': ['۱', '1', '1'], 'bhar': ['بھر', 'بهر'], 'neki': ['نیکی', 'نیکی'], 'yaraan': ['یاران'], 'dlata': ['دلاتا'], 'srdar': ['سردار'], 'pkrnay': ['پکڑنے'], 'bichare': ['بیچارے'], 'paglon': ['پاگلوں'], 'lena': ['لینا', 'لینا'], 'undrwere': ['انڈر'], 'romantic': ['رومںٹک', 'رومانٹک', 'رومینٹک'], 'dant': ['ڈانٹ', 'دانت'], 'yazeed': ['یزید'], 'oppression': ['وپپريسون'], 'kapro': ['کپڑوں'], 'hal': ['هال'], 'asif': ['آصف'], 'team': ['ٹیم', 'ٹیم', 'ٹیم', 'ٹیم'], 'duarani': ['دورانی'], 'smjho': ['سمجھو'], 'dobara': ['دوبارہ'], 'chezon': ['چیزوں'], 'kaho': ['کہو'], 'muskra': ['مسکرا'], 'haya': ['حیا'], 'global': ['گلوبل'], 'rema': ['ریما'], 'betho': ['بیٹھو'], 'khaty': ['کھاتے'], 'kuta': ['کتا'], 'memon': ['میمن', 'ميمون'], 'baith': ['بیٹه', 'بيٹھ'], 'to': ['تو', 'ٹو', 'تؤ', 'تو', 'تو', 'تو', 'تو', 'تو', 'تو', 'تو', 'تو', 'تو', 'تو', 'تو', 'تو', 'تو', 'تو', 'تو', 'تو', 'تو', 'تو', 'تو', 'تو', 'تو', 'تو', 'تو', 'تو', 'تو', 'تو', 'تو', 'تو', 'وہ', 'تو', 'تو', 'تو', 'تو', 'تو', 'تو', 'تو', 'تو', 'تو', 'تو', 'تو'], 'torna': ['توڑنا'], 'maghrur': ['مغرور'], 'hogi': ['ہوگئی', 'ہوگی', 'ہوگی', 'ہوگی'], 'bahar': ['باهر'], 'bachpan': ['بچپن'], 'thandi': ['ٹھنڈی'], 'bajti': ['بجتی'], 'khwa': ['خوا'], 'quality': ['کوالٹي'], 'incorrect': ['انسورريکٹ'], 'brtan': ['برتن'], 'mscit': ['مسکت'], 'milo': ['ملو', 'اس کو'], 'dawaa': ['دعوا'], 'drwazay': ['دروازے'], 'playboy': ['پلے'], 'khumaini': ['خمینی'], 'useful': ['يسيفيل'], 'khwabon': ['خوابوں'], 'confirm': ['کونفرم'], 'paigham': ['پیغام'], 'membr': ['ممبر', 'میمبر'], 'behna': ['بہنا'], 'aam': ['عام', 'آم'], 'garmi': ['گرمی'], 'storm': ['سٹورم'], 'loto': ['لوٹو'], 'kursi': ['کرسی'], 'ando': ['انڈو'], 'wrd': ['ورڈ'], 'bolen': ['بولیں'], 'pakaane': ['پکانے'], 'apko': ['اپکو', 'آپکو', 'کو تھوڑا'], 'original': ['ورگنال'], 'jhot': ['جھٹ'], 'intazam': ['انتظام'], 'bhai': ['بھای', 'بهای', 'بھأي', 'بھائی', 'بھائ', 'بهائی', 'بهائ', 'بھائی', 'بھائی', 'بھائی', 'بھائی', 'بھائی', 'بھائی', 'میں', 'بھائی', 'بھائی'], 'sekhy': ['سیکھے'], 'qasim': ['قاسم'], 'water': ['واٹر'], 'choo': ['چو'], 'wang': ['ونگ'], 'noshee': ['نوشی'], 'ghamgeen': ['غمگین'], 'jante': ['جانتے'], 'out': ['آوٹ'], 'husband': ['ہسبنڈ', 'ہسبنڈ'], 'un': ['ان', 'وں', 'ان', 'ان', 'ان', 'ان', 'ان', 'ان', 'ان'], 'kash': ['کاش', 'کاش'], 'paheli': ['پھیلی'], 'killer': ['کیللر'], 'telenor': ['ٹیلی'], 'akeli': ['اکیلی'], 'dukhaya': ['دکھایا'], 'sara': ['ساره', 'سرا'], 'table': ['ٹابل', 'ٹیبل'], 'gujranwala': ['گجرانوالا', 'گجرانوالہ'], 'later': ['لاٹر'], 'mazdoor': ['مزدور'], 'ari': ['اڑی'], 'milte': ['ملتے'], 'shid': ['شد'], 'usay': ['اسے', 'اسے', 'اسے', 'اسے'], 'akhir': ['آخر'], 'jazbat': ['جذبات'], 'mahol': ['ماحول'], 'ch': ['چوہدری'], 'mrb': ['مربی'], 'aahn': ['آہن'], 'barfee': ['برفی'], 'btana': ['بتانا'], 'zeus': ['زیوس'], 'raha': ['رھا', 'رہا', 'رہا', 'رہا', 'رہا', 'رہا', 'رہا', 'رہا', 'رہا', 'رہا'], 'gaya': ['گیاہ', 'گیا'], 'aalaat': ['آلات'], 'dehleez': ['دہلیز'], 'sahil': ['ساحل'], 'year': ['يير', 'یير'], 'panga': ['پنگا'], 'e': ['اوبیڈی', 'اے'], 'new': ['نیو', 'نيو'], 'chek': ['چیک'], 'coca': ['کوکا', 'کسا'], 'sarkon': ['سڑکوں'], 'shakhs': ['شخص'], 'occupy': ['وکيپي'], 'budai': ['بدی'], 'kiti': ['کیٹی'], 'hansa': ['ہنسا'], 'maloom': ['معلوم', 'معلوم'], 'giri': ['گری'], 'seriali': ['سیریل'], 'punjab': ['پنجاب'], 'lazy': ['لاذي'], 'bazti': ['عزتی'], 'garhi': ['گڑھی'], 'tusi': ['تسی'], 'tu': ['توں', 'تونے', 'تو', 'تو', 'تو', 'تو', 'تو', 'تو', 'تو', 'تو', 'تو', 'تو'], '28': ['٢٨'], 'zero': ['ذيرو'], 'sanbhal': ['سنبھال'], 'behrani': ['بحرانی'], 'lakeerain': ['لکیریں'], 'nepal': ['نپال', 'نيپال'], 'han': ['ہاں', 'ہان', 'هاں', 'یہاں', 'ہیں'], 'enough': ['انوگف'], 'notice': ['نوٹس'], '300': ['٣٠٠'], 'sinar': ['سنار'], '16': ['16'], 'mardon': ['مردوں'], 'beti': ['بیٹی'], 'sajan': ['ساجن'], 'heart': ['ہارٹ', 'حيرٹ'], 'number': ['نيمبير', 'نمبر'], 'beet': ['بیت', 'بيت'], 'kumar': ['کمار'], 'uthaya': ['اٹھایا'], 'neelam': ['نیلم'], 'market': ['مارکیٹ', 'مارکيٹ', 'مارکیٹ', 'مارکیٹ'], 'tongue': ['ٹونگيي'], 'rozana': ['روزانہ'], 'membrz': ['ممبرز'], 'parhne': ['پڑھنے'], 'kamaw': ['کما'], 'bety': ['بیٹے'], 'access': ['اکسيس'], 'beauty': ['بیوٹی'], 'sta': ['ستا'], 'pukhtoonkhva': ['پختون'], 'ikhtiyar': ['اختیار'], 'wahey': ['وہے'], 'yar': ['یارر', 'یار', 'یار', 'یار', 'یار'], 'parti': ['پڑتی'], 'loha': ['لوھا', 'لوها'], 'bath': ['باتھ'], 'adhora': ['ادھو'], 'bekar': ['بیکار'], 'maaon': ['ماؤں'], 'hbh': ['ہبہ'], 'wo': ['وو', 'وہ', 'وہ', 'وہ', 'وہ', 'وہ', 'وہ', 'وہ', 'وہ', 'وہ', 'وہ', 'وہ', 'وہ', 'وہ', 'وہ', 'وہ', 'وہ', 'وہ', 'وہ', 'وہ', 'وہ', 'وہ'], 'dekho': ['دیکھو', 'دکھو'], 'hone': ['هونے', 'ہونے'], 'yad': ['یاد', 'یاد', 'آئے'], 'sham': ['شام', 'شم', 'ہام'], 'lutf': ['لطف', 'لطف'], 'zubani': ['زبانی'], 'bijli': ['بجلی', 'بجلی'], 'include': ['انکليڈي'], 'darmian': ['درمیان'], 'sa': ['سا', 'سے', 'سا', 'سا', 'سا', 'سے', 'سا', 'سا', 'سا'], 'gane': ['گانے'], 'ahwal': ['احوال'], 'pakana': ['پکانا'], 'tazi': ['تازی'], 'kehne': ['کہنے'], 'membro': ['ممبروں'], 'reed': ['رید', 'ریڈ'], 'hira': ['حرا'], 'rakho': ['رکھو'], 'nehr': ['نہر'], 'baryani': ['بریانی'], 'jaya': ['جایا'], 'nadani': ['نادانی'], 'hota': ['هوتا', 'ہوتا', 'ھوتا', 'ہوتا', 'ہوتا', 'ہوتا', 'ہوتا', 'ہوتا', 'ہوتا', 'ہوتا', 'ہوتا', 'ہوتا', 'ہوتا'], 'khuley': ['کھلے'], 'kot': ['کوٹ'], 'san': ['ساں'], 'means': ['مینس', 'مینز'], 'alert': ['اليرٹ'], 'chatni': ['چٹنی'], \"hajoom'e'dostan\": ['ہجوم'], 'darogh': ['دروغ'], 'sheya': ['شیعہ'], 'allah': ['اللاه', 'اللہ', 'اللاہ', 'الله', 'اللہ', 'اللہ', 'اللہ', 'اللہ', 'اللہ', 'اللہ', 'اللہ', 'اللہ', 'اللہ'], 'khake': ['خاکی'], 'lift': ['لیفٹ', 'لفٹ'], 'imran': ['عمران'], 'bhari': ['بھری'], 'talash': ['تلاش'], 'bt': ['بت'], 'an': ['انتھ'], 'hua': ['ھوا', 'هوا', 'ہوا', 'ہوا', 'ہوا', 'تھا', 'ہوا'], 'hasil': ['حاصل', 'حاصل'], 'body': ['بوڈی'], 'likhen': ['لکھیں'], 'wajib': ['واجب'], 'hisab': ['حساب'], 'faisal': ['فیصل', 'فيسال', 'فيصل'], 'shanti': ['شانت'], 'wapda': ['واپڈا'], 'kb': ['کب'], 'zameerkon': ['ضمیر'], 'sahara': ['سہا', 'سہارا', 'سهارا'], 'humdard': ['ہمدرد'], 'marry': ['مارري'], 'nazarechopal': ['نظارے'], 'rubaro': ['روبرو'], 'aasoodgi': ['آسودگی'], 'gine': ['گنے'], 'udas': ['اداس'], 'boy': ['بو', 'بوي'], 'ta': ['تاکہ', 'تا'], 'nawaqif': ['ناواقف'], 'ras': ['راس'], 'remember': ['ريميمبير'], 'dadi': ['دادی'], 'complete': ['کومپلٹ'], 'ghairon': ['غیروں'], 'nikle': ['نکلے', 'نکلے'], 'mercy7halka': ['مرسی'], 'hate': ['ہاتے'], 'pathano': ['پٹھانوں'], '10': ['١٠'], 'kafiyat': ['کفایت'], 'hi': ['ہی', 'ہاے', 'ہائے', 'هاے', 'ھی', 'هی', 'ہاۓ', 'ہی', 'ہی', 'ہی', 'ہے', 'ہی', 'ہی', 'ہی', 'ہی', 'ہی', 'ہی', 'ہی', 'ہی', 'ہی', 'ہی', 'ہی', 'ہی', 'ہی', 'ہی'], 'choza': ['چوزہ'], 'ledy': ['لیڈی'], 'milenge': ['ملیں'], 'chahte': ['چاہتے', 'چاہتے', 'چاہتے'], 'rehta': ['رہتا', 'رہتا'], 'request': ['ریکوسٹ', 'ریکویسٹ', 'رقیسٹ', 'ریکو'], 'green': ['گرین'], 'a': ['آرہی', 'ا', 'آ', 'آ', 'آ'], 'for': ['فور'], 'm': ['محمّد'], 'c': ['سی', 'سی', 'سی'], 'no': ['نو', 'نو'], 'aps': ['آپس'], 'q': ['کیو', 'کیہں', 'کیوں', 'کیں', 'کیونکہ'], 'janab': ['جناب'], 'thehro': ['ٹھہرو'], 'ilaan': ['علان'], 'zy': ['ذی'], 'jenai': ['جینی'], 'wada': ['وعدہ', 'وداع', 'وعدہ'], 'rida': ['ردا'], 'utha': ['اٹھا'], 'wasalam': ['وسلام'], 'hujre': ['حجرے'], 'ston': ['ستوں', 'سٹون', 'ستو'], 'be': ['بے', 'بس'], 'free': ['فري', 'فری', 'فری', 'فری', 'فری'], 'traz': ['طرار'], 'sirf': ['صرف', 'صرف', 'صرف', 'صرف', 'صرف', 'صرف', 'صرف', 'صرف'], 'dhoni': ['دھونی'], 'bubli': ['ببلی'], 'charming': ['چارم'], '1999': ['۱۹۹۹'], 'khan': ['کہن', 'خان'], 'aanch': ['آنچ'], 'hasb': ['حسب'], 'grief': ['گريف'], 'kheli': ['کھیلی'], 'bahadur': ['بہادر', 'بهادر'], 'zeal': ['ذيل', 'زیل'], 'taar': ['تاڑ'], 'somra': ['سومرا'], 'country': ['کينٹري', 'کنٹری'], 'aadat': ['عادت'], 'apun': ['اپن'], 'thirty': ['تھرٹي'], '14': ['١٤'], 'farag': ['فارغ'], 'peace': ['پیس'], 'treat': ['ٹریٹ'], 'seng': ['سینگ'], 'silent': ['سلینتھ'], 'shuru': ['شروع', 'شورو', 'شروع'], 'loun': ['لونگی'], 'window': ['ونڈو'], 'shahd': ['شھد'], 'rabica': ['ربیکا'], 'whealr': ['وہیلر'], 'copy': ['کوپی', 'کپي'], '7': ['٧'], 'india': ['انڈیا'], 'wel': ['ویل'], 'dafa': ['دفع', 'دفا', 'بدنام', 'دفعہ'], 'qaboliat': ['قبولیت'], 'wadi': ['وادي'], 'rahat': ['راحت'], 'report': ['رپورٹ', 'ريپورٹ'], 'suna': ['سونا', 'سنا'], 'amanat': ['امانت', 'امانت'], 'hadees': ['حدیثِ'], 'mzahya': ['مزاحیہ'], 'shown': ['شون'], 'sene': ['سینے'], 'shareef': ['شریف', 'شریف'], 'adnan': ['عدنان'], 'tmhari': ['تمھاری'], 'she': ['شي'], 'pryshani': ['پریشانی'], 'suno': ['انو', 'سنو'], 'shadabitumhein': ['شادابی'], 'mene': ['مینے'], 'bari': ['بڑی', 'بڑی', 'بڑی', 'بڑی', 'بڑی'], 'kapre': ['کپڑے'], 'huma': ['ہما'], 'dont': ['دونٹ'], 'r': ['ر'], 'shadi': ['شادی', 'شادی'], 'choriyan': ['چوریاں'], 'stand': ['سٹانڈ'], 'anis': ['انیس'], 'sali': ['سالی'], 'tota': ['ٹوٹا', 'طوطا'], '30': ['30', '٣٠', 'تیس'], 'saima': ['ساما'], 'dozkhi': ['دوزخی'], 'hot': ['حوٹ', 'ھوٹ', 'هوٹ'], 'abass': ['عباس'], 'letay': ['لیتے'], 'sonia': ['سونیا'], 'jitne': ['جتنے'], 'bujha': ['بجھا'], 'faheem': ['فاحيم'], 'gana': ['گانا'], 'rota': ['روتا'], 'btaya': ['بتایا'], 'stain': ['سٹين'], 'girls': ['گرلس'], 'uska': ['اسکا'], 'mint': ['منٹ', 'منٹ', 'منٹ'], 'tahir': ['طاہر'], 'injustice': ['انجيسٹس'], 'nafratonka': ['نفرتوں'], 'getsensiblehi': ['گیٹ'], 'aya': ['آیا', 'آیا', 'آیا'], 'mehndi': ['مہندی'], 'pohanch': ['پہنچ'], 'rhi': ['رهی', 'رہی', 'رہی', 'رہی'], 'mere': ['ميرے', 'میرے', 'میرے', 'میری', 'میرے', 'میرے', 'میرے', 'میرے', 'میرے', 'میرے'], 'family': ['فاملي'], 'j': ['جے', 'جار'], 'nechy': ['نیچے'], 'borhi': ['بوڑھی'], 'minute': ['منيٹي'], 'behn': ['بین', 'بھن'], 'gehri': ['گہری'], 'bal': ['بال'], 'jahaz': ['جہاز'], 'sincere': ['سنسیر'], 'curtain': ['کرٹين'], 'dono': ['دونوں', 'دونو', 'دونوں', 'دونوں', 'دونوں', 'دونوں'], 'samjhaya': ['سمجھایا'], 'hai': ['هے', 'ہے', 'حے', 'ہے', 'ہے', 'ہے', 'ہے', 'ہے', 'ہے', 'ہے', 'ہے', 'عشق', 'ہے', 'ہے', 'ہے', 'ہے', 'ہے', 'ہے', 'ہے', 'ہے', 'ہے', 'ہے', 'ہے', 'ہے', 'ہے', 'ہے', 'ہے', 'ہیں', 'ہے', 'ہے', 'ہے', 'ہے', 'ہے', 'ہے', 'ہے', 'ہے', 'ہے', 'ہے', 'ہے', 'ہے', 'ہے', 'ہے', 'ہے', 'ہے', 'ہے', 'ہے', 'ہے', 'ہے', 'ہے', 'ہے', 'ہیں', 'ہیں', 'اس', 'ہے', 'ہے', 'ہے', 'ہے', 'ان', 'ہے؟', 'ہے', 'ہے', 'ہے', 'ہے', 'ہے', 'ہیں', 'ہے', 'ہے', 'ہے', 'ہے', 'ہے', 'ہے', 'ہے', 'ہے', 'ہے', 'ہے', 'ہے', 'ہے', 'ہے', 'ہے', 'ہے', 'ہے', 'ہے', 'ہے', 'ہے', 'ہے', 'ہے', 'ہے', 'ہے', 'ہے', 'ہے', 'ہے', 'ہے', 'ہے', 'ہے', 'ہے', 'ہے', 'ہے', 'ہے'], 'shuhrat': ['شہرت'], 'maat': ['مات'], 'joy': ['جوي'], 'dekhte': ['دیکھتے'], 'bjana': ['بجانا'], 'aabi': ['آبی'], 'afghanistan': ['افغانستان'], 'hona': ['ہونا', 'ہونا'], 'pseibbpu': ['پسی'], 'behoda': ['بیہودہ'], 'w': ['والسلام', 'وعلیکم'], nan: ['نان'], 'kha': ['کھا', 'کھا'], 'amal': ['عمل', 'عمل'], 'khara': ['کھڑا'], 'aan': ['آں'], 'azaan': ['ازاں', 'اذان'], 'jazb': ['جذب'], 'uthte': ['اٹھتے'], 'tangy': ['ٹانگیں'], 'phoolon': ['پھولوں'], 'wese': ['ویسے', 'ویسے'], 'parhata': ['پڑھاتا'], 'born2love': ['بورن'], 'kuriyan': ['کڑیاں'], 'pakistani': ['پاکستانی', 'پاکستانی'], 'jitna': ['جتنا', 'جتنا'], 'point': ['پوانٹ'], 'laal': ['لال'], 'sitaron': ['ستاروں'], 'badnasib': ['بدنصیب'], 'thing': ['تھنگ'], 'sarkar': ['سرکار', 'سرکار', 'سرکار', 'سرکار'], 'hifazat': ['حفاظت'], 'khu': ['خو'], 'barabar': ['برابر'], 'punch': ['پينچ'], 'maanind': ['مانند'], 'drna': ['ڈرنا'], 'khayalon': ['خیالوں'], 'shoo': ['شو'], 'krwat': ['کروٹ'], 'manga': ['مانگا'], 'rab': ['راب', 'رب'], 'cry': ['کري'], 'boby786': ['بوبی'], 'honey': ['ہنی', 'ہونی', 'هنی', 'ھنی', 'حونيي', 'ہونے'], 'bunk': ['بنک'], 'bro': ['برو', 'بروڈر'], 'heard': ['حيرڈ'], 'asim': ['اسم'], 'purana': ['پرانا', 'پرانا'], 'syed': ['سييڈ', 'سيد'], 'reply': ['ریپلاے', 'رپلی', 'ریپلائ', 'ریپلائی', 'ریپلاۓ', 'ریپلے', 'رپلائے'], 'ho': ['حو', 'ھو', 'ہو', 'ہو', 'ہو', 'ہو', 'پھر', 'ہو', 'ہو', 'ہو', 'ہو', 'ہو', 'ہو', 'ہو', 'ہو', 'ہو', 'ہو', 'ہو', 'ہو', 'ہو', 'ہو', 'ہو', 'ہو', 'ہو', 'ہو', 'ہو', 'ہو', 'ہو', 'ہو', 'ہو', 'ہو', 'ہو', 'ہو', 'ہو', 'ہو', 'ہو', 'ہو', 'ہو'], 'gujraat': ['گجرات'], 'shadeed': ['شدید'], 'jata': ['جاتا', 'جاتا'], 'sakti': ['سکتی'], 'bia': ['بیا'], 'happy': ['ح'], 'unknown': ['انکنون'], 'izhaar': ['اظہار'], \"jan'na\": ['جاننا'], 'jane': ['جانے'], 'waar': ['وار'], 'mo': ['موہ'], 'network': ['نیٹورک'], 'bheja': ['بھیجا'], 'load': ['لؤڈ', 'لوڈ'], 'beta': ['بیٹا'], 'kahani': ['کہانی'], 'tumhary': ['تمہارے', 'تمہارے', 'تمہارے'], 'send': ['سیند', 'سند', 'سینڈ', 'سنڈ'], 'ani': ['آنی'], 'mojood': ['موجود'], \"aa'oonga\": ['آونگا'], 'yaki': ['یکی'], 'cha': ['چا'], 'hurt': ['ہرٹ'], 'nasha': ['نعش'], 'adhore': ['ادھورے'], 'pati': ['پاتی'], 'phr': ['پهر'], 'dhammal': ['دھمال', 'دھم'], 'naha': ['نها', 'نہا'], 'baber': ['بابر'], 'stas': ['ستاس'], 'adhi': ['آدھی', 'ادھ'], 'krna': ['کرنا', 'کرنا'], 'chala': ['چلا', 'چلا', 'چلا'], 'shabab': ['شباب'], 'dozakh': ['دوزخ', 'دوزخ'], 'kandhar': ['کاندهار'], 'heroz': ['ہیروز'], 'ghar': ['غار', 'گهڑ', 'گھر', 'گھر', 'گھر', 'گھر', 'گھر', 'گھر', 'گھر', 'گھر', 'گھر'], 'bolne': ['بولنے', 'بولنے'], 'marne': ['مارنے'], 'find': ['فنڈ'], 'kala': ['کالا'], 'halaat': ['حالات', 'حالات'], 'leti': ['لیتی', 'لیتی'], 'wicto': ['وکٹوں'], 'khaloos': ['خلوص'], 'shariq': ['شارق'], 'roki': ['روکی'], 'ajata': ['آجاتا'], 'saani': ['سان', 'ثانی'], 'ghour': ['غور'], 'maheboob': ['محبوب'], 'bechta': ['بیچتا'], 'larki': ['لڑکی'], 'bethe': ['بیٹھے'], 'seekh': ['سیکھ'], 'sakhi': ['سخی'], 'dhoop': ['دھوپ'], 'morkha': ['مورخہ'], 'parinde': ['پرندے'], 'dekhun': ['دیکھوں'], 'dera': ['دیرا'], 'tumko': ['تمکو'], 'brother': ['بروتھر'], 'dikha': ['دکھا', 'دکھا'], 'nuqsan': ['نقصان'], 'azab': ['عزاب', 'عذاب'], 'guzra': ['گزرا'], '6urte': ['اڑتے'], 'lagao': ['لگاو', 'لاگو', 'لگاؤ'], 'pio': ['پیو'], 'zingoo': ['زنگو'], 'ba': ['با'], 'ghora': ['گھوڑا'], 'batil': ['باطل'], 'mutha': ['مٹھا'], 'rooh': ['روح'], 'ishthr': ['اشتہار'], 'banna': ['بننا'], 'parhi': ['پڑھی'], 'durtyguy345': ['ڈرٹی'], 'raat': ['را', 'رات'], 'thokar': ['ٹھوکر'], 'hazar': ['ہزار'], 'naali': ['نالی'], 'yhi': ['یہیں', 'یهی'], 'habibjaan': ['حبیب'], 'jauf': ['جوف'], 'zahir': ['ظاہر'], 'health1': ['ہیلتھ'], 'teen': ['تين'], 'wat': ['واٹ'], 'starz': ['سٹارز'], 'garmiyon': ['گرمیوں'], 'bat': ['بات', 'بات', 'بات', 'بات', 'بات'], 'pyasa': ['پیاسا'], 'tafre': ['تفری'], 'chahti': ['چاہتی', 'چاہتی'], 'mohar': ['موہر'], 'chahoge': ['چاہوگے'], 'matam': ['ماتم'], 'he': ['حي', 'ہیںک', 'ہے', 'ہی', 'ملا', 'ہی', 'ہی', 'ہے', 'ہے', 'ہی', 'ہی'], 'monday': ['مونڈے'], 'sahi': ['سہی', 'صحیح', 'صحیح', 'صحیح', 'صحیح'], 'sikha': ['سکھا'], 'fahim': ['فہیم', 'فاحم'], 'safdr': ['صفدر'], 'sultan': ['سلطان'], 'aarzi': ['عارضی'], 'suraj': ['سورج'], 'geet': ['گیت'], 'soda': ['سودا'], 'wazahteinkesi': ['وضاحتیں'], 'entery': ['انٹری'], 'muna': ['مونا'], 'khakar': ['کھاکر'], 'rule': ['رول'], 'ahem': ['اہم'], 'chuno': ['چنو'], 'daiyo': ['دیو'], 'tare': ['تارے'], 'urr': ['اڑ'], 'dora': ['دورہ'], 'chlen': ['چلیں'], 'past': ['پاسٹ'], 'aane': ['انے'], 'mehngai': ['مہنگائی'], 'mukhalfat': ['مخالفت'], 'cricket': ['کرکيٹ', 'کرکٹ'], 'enjoy': ['ینجوے', 'انجواے', 'انجوائے', 'انجونے'], 'pusht': ['پشت'], 'ginty': ['گنتی'], 'urdu': ['اردو', 'اردو'], 'thin': ['تھن', 'تھیں'], 'talib': ['طالب'], 'hoga': ['ھوگا', 'ہوگا', 'ہوگا', 'ہوگا', 'ہوگا'], 'karachi': ['کراچی'], 'farooq': ['فاروق', 'فاروک'], 'mola': ['مولا'], 'whenevr': ['وین'], 'print': ['پرنٹ'], 'khiladi': ['خلاد'], 'kro': ['کرو', 'کروگے'], 'chocklate': ['چوک'], 'goliyan': ['گولیاں'], 'force': ['فورس'], 'ang': ['انگ'], 'humor': ['حمو'], 'isly': ['اسلی'], 'sb': ['سب', 'سب', 'سب', 'سب', 'سب', 'سب', 'سب', 'سب', 'سب'], 'aftr': ['آفٹر'], 'yell': ['ييل'], 'etc': ['يٹس'], 'soulzy': ['سول'], 'gaaon': ['گاوں'], 'nklne': ['نکلنا'], 'tayari': ['تیاری'], 'hahahahahaha': ['ہاہا'], 'morning': ['مورنگ', 'مورننگ'], 'bazm': ['بزم'], 'appearance': ['اپپيرانس'], 'gali': ['گالی'], 'ghost': ['گوسٹ'], 'jado': ['جدو'], 'tango': ['ٹانگوں'], 'kya': ['کیا', 'کیاکیا', 'کیا', 'فرق', 'کیا', 'کیا'], 'dhali': ['ڈھلی'], 'imam': ['امام'], 'jinho': ['جنهوں', 'جنہوں'], 'aryan': ['ارین'], 'wohi': ['وہی', 'وہی', 'وہی', 'وہی', 'وہی'], 'furniture': ['فيرنٹير'], 'only': ['ونلي'], 'ab': ['آب', 'ابتو', 'اب', 'ہی', 'اب', 'اب', 'اب', 'اب', 'اب', 'اب', 'اب'], 'personal': ['پرسونل', 'پرنسل'], 'nigahein': ['نگاہیں'], 'samait': ['سمیٹ'], 'uthe': ['اٹھے'], 'galyon': ['گلیوں'], 'kahi': ['کہی', 'کہی'], 'milna': ['ملنا'], 'khana': ['کهانا', 'کھانا', 'کھانا', 'کھانا'], 'sahilli': ['سہیلی'], 'b': ['بھی', 'بهے', 'بہی', 'بی', 'بہ', 'ب', 'بهی', 'بھی', 'بھی', 'بھی', 'بھی', 'بھی', 'بھی', 'بھی', 'بھی', 'بھی', 'بھی', 'بھی', 'بھی', 'بھی'], 'grand': ['گرانڈ'], 'broadcast': ['براڈکاسٹ'], 'nigah': ['نگاہ'], 'elan': ['الان'], 'kaha': ['کہا', 'کہا', 'کہا', 'کہا', 'کہا'], 'hawale': ['حوالے'], 'soty': ['سوتے'], 'torny': ['توڑنے'], 'hain': ['هيں', 'هیں', 'ہیں', 'ھیں', 'ہیں', 'ہیں', 'ہیں', 'ہیں', 'ہیں', 'ہیں', 'ہیں', 'ہیں', 'ہیں', 'ہیں', 'ہیں', 'ہیں', 'ہیں', 'ہیں', 'ہیں', 'ہیں', 'ہیں', 'ہیں', 'ہیں؟', 'ہیں', 'ہیں', 'ہیں', 'ہیں', 'ہیں', 'ہیں', 'ہیں', 'ہیں', 'ہیں', 'ہیں', 'ہیں', 'ہیں', 'ہیں', 'ہیں', 'ہیں', 'ہیں', 'ہیں', 'ہیں', 'ہیں', 'ہیں', 'ہیں'], 'shana': ['شانہ'], 'khayal': ['خیال', 'خیال'], 'sukun': ['سکون'], 'kaamyab': ['کامیاب'], 'nt': ['نٹ'], 'chori': ['چوری'], 'tel': ['تیل'], 'ehsan': ['احسان'], 'books4': ['بوکس'], 'floor': ['فلور'], 'milatay': ['ملاتے'], 'hushe': ['ہوش'], 'dekhny': ['دیکھنے'], 'arzi': ['ارضی'], 'jaaun': ['جون'], 'bojhal': ['بوجھل'], 'gulam': ['غلام'], 'kinara': ['کنارا'], 'laso': ['لاس'], 'khadim': ['خادم', 'خادم'], 'pia': ['پیا'], 'fiza': ['فضا'], 'lamp': ['لامپ'], 'itna': ['اتنا', 'تنا'], 'jhote': ['جھوٹے'], 'always': ['الوايز'], 'motor': ['موٹر'], 'kashmir': ['کشمیر'], 'bardasht': ['برداشت', 'برداشت'], 'such': ['سچح', 'سچ ہے'], 'justaju': ['جستجو'], 'chawal': ['چاول'], 'borng': ['بورنگ'], 'azad': ['آزاد', 'آزاد'], 'horse': ['حورسي'], 'bhag': ['بھاگ'], '42': ['٤٢'], 'haqeeqat': ['حقیقت', 'یہ ترقی'], 'marwa': ['مروا'], 'angoor': ['انگور'], 'rani': ['رانی'], '6': ['6', '٦'], 'different': ['ڈففيرينٹ'], 'bnati': ['بناتی'], 'ameer': ['امیر', 'امےر'], 'dew': ['ڈیو'], 'aks': ['عکس'], 'nadan': ['نادان'], 'peety': ['پیتے'], 'bazar': ['بازار'], 'deadmen': ['ڈیڈ'], 'charaghoon': ['چراغوں'], 'dastan': ['داستان'], 'piyase': ['پیاسے'], 'charh': ['چڑھ', 'چڑھ'], 'professor': ['پروفسثور'], 'guzari': ['گزاری'], 'jmi': ['جمی'], 'deep': ['ڈيپ', 'دیپ'], 'mara': ['مارا'], 'pk': ['پک'], 'junoon': ['جنون', 'جنوں'], 'mubarik': ['مبارک', 'مبارک'], 'nashta': ['ناشتے', 'ناشتا', 'ناشتہ'], 'guzrna': ['گزرنا'], 'dia': ['دیا', 'دیاہے', 'دیا'], 'jinki': ['جنکی'], 'krta': ['کرتاتھا'], 'wajid': ['واجد'], 'gumnam': ['گمنام'], 'na': ['نا', 'ناسمجھ', 'نا', 'نہ', 'نہ', 'نہ', 'نہ', 'نے', 'نہ', 'نا', 'نہ', 'نہ', 'نہ', 'نہ', 'نہ', 'نہ', 'نہ', 'نہ', 'نہ', 'نا'], 'fauran': ['فورا'], 'drust': ['درست'], 'qabristan': ['قبرستان'], 'lahoriye': ['لاہوری'], 'chashni': ['چاشنی'], 'nazim': ['ناظم'], 'lago': ['لگو'], 'hotel': ['حوٹيل', 'ہوٹل'], 'ilzaam': ['الزام', 'الزام'], 'deni': ['دینی'], 'sargoshiyanteri': ['سرگوشیاں'], 'qabil': ['قابل'], 'kahawat': ['کہاوت'], 'guzar': ['گزار', 'گزار', 'گزر'], 'karobar': ['کاروبار'], 'wan': ['واں'], 'mehfilon': ['محفلوں'], 'gobhi': ['گوبھی'], \"kat'te\": ['کاٹتے'], 'ko': ['کؤ', 'کو', 'کو', 'کو', 'کو', 'کو', 'کو', 'کو', 'کو', 'کو', 'کو', 'کو', 'کو', 'کو', 'کو', 'کو', 'کو', 'کو', 'کو', 'کو', 'کو', 'کو', 'کو', 'کو', 'کو', 'کو', 'کو', 'کو', 'کو', 'کو', 'کو', 'کو', 'کو', 'کو', 'کو', 'کو', 'کو', 'کو', 'کو', 'کو', 'کو', 'کو', 'کو', 'کو', 'کو', 'کو', 'کو', 'کو', 'کو', 'کو', 'کو', 'کو', 'کو', 'کو', 'کو', 'کو', 'کو', 'کو'], 'profile': ['پروفائل'], 'zara': ['زرا', 'زارا', 'ذرا', 'ذرا'], '9': ['۹'], 'eman': ['امان'], 'daro': ['ڈرو'], 'salamat': ['سلامت'], 'sami': ['سمیع', 'سامی'], 'net': ['نیٹ', 'نيٹ', 'نیٹ'], 'parwa': ['پروا'], 'unhain': ['انھیں'], 'phool': ['پھول'], 'nzaron': ['نظروں'], 'dehshat': ['دہشت'], 'narazgi': ['ناراضگی', 'ناراضگی'], 'phephron': ['پھیپھڑوں'], 'sare': ['سارے', 'سرے'], 'parosi': ['پڑوسی'], 'sabhi': ['سبھی'], 'beat': ['بيٹ'], 'istiqbal': ['استقبال'], 'khair': ['خیر'], 'waqi': ['واقع'], 'bolti': ['بولتی'], 'march': ['مارچ'], 'khe': ['کھائی'], 'know': ['کنو'], 'wazu': ['وضو'], 'kafee': ['کافي'], 'yun': ['یوں'], 'akhtar': ['اختر'], 'achank': ['اچانک'], 'death': ['ڈيتھ'], 'jamhuriyat': ['جمہوریت'], 'meet': ['ميٹ'], 'semple': ['سمپل'], 'aayat': ['آیت'], 'apki': ['آپکی', 'آپ کی'], 'murgha': ['مرغا'], 'usne': ['اسنے'], 'wa': ['وا'], 'cheyia': ['چیا'], 'umat': ['امت'], 'soghat': ['سوغات'], 'rj': ['رج'], 'hell': ['هیل', 'حيل'], 'ghamon': ['غموں'], 'doobte': ['ڈوبتے'], 'rakh': ['رکھ', 'رکھ'], 'hashmi': ['ہاشمی'], 'syd': ['سید'], 'bant': ['بانٹ'], 'pehchanta': ['پہچانتا'], 'dhool': ['دھول'], 'your': ['يوار', 'یوٹ'], 'neend': ['نیند', 'نیند'], 'january': ['جانياري'], 'zaroriat': ['ضروریات'], 'taqazoon': ['تقاضوں'], 'zeshan': ['ذیشان'], 'path': ['پاتھ'], 'shap': ['شپ'], 'muhammed': ['ميحامميڈ'], 'ata': ['آتا', 'اتا'], 'raza': ['رضا', 'راذا'], 'hon': ['ھوں', 'هون', 'ہون', 'ہوں', 'ہوں', 'ہوں', 'ہوں'], 'aisi': ['ایسی', 'ایسی', 'ایسی'], 'cinema': ['سینما'], 'asghar': ['اصغر'], 'inteha': ['انتہا'], 'kahin': ['کہیں', 'کہیں', 'کہیں'], 'munibe': ['منیب'], 'dolat': ['دولت', 'دولت', 'دولت'], 'rm': ['رم'], 'guzarti': ['گزرتی'], 'nayab': ['نایاب'], 'bol': ['بول'], 'romi': ['رومی'], 'satana': ['ستان'], 'rashk': ['رشک'], 'chahiye': ['چاہیے', 'چاہیئے', 'چاہئے', 'وہ بھی', 'چاہئے', 'چاہئے', 'چاہئے', 'چاہیے'], 'paon': ['پاؤں'], 'ahmar': ['احمر'], 'frd': ['فرد'], 'dhote': ['دھوتے'], 'farhad0786': ['فرہاد'], 'paiso': ['پیسوں'], 'peche': ['پیچھے'], 'kashif': ['کاشف'], 'khalifa': ['خلیفہ'], 'haris': ['حارس'], 'sobia': ['ثوبیہ'], 'inteqal': ['انتقال'], 'para': ['پڑا', 'پڑا'], 'aabad': ['اباد'], 'shrmila': ['شرمیلا'], 'bechari': ['بیچاری'], 'mana': ['منع', 'منا', 'مانا', 'ماننا'], 'wahan': ['وهاں', 'وہاں', 'وہاں', 'وہاں'], 'pe': ['پے', 'پر', 'پر', 'پے', 'پے'], 'mehdood': ['محدود'], 'salman': ['سلمان'], 'uff': ['اف'], 'ehbaab': ['احباب'], 'rom0': ['رومو'], 'z': ['زی', 'زپر'], 'just': ['جيسٹ', 'جسٹ'], 'tamasha': ['تماشا'], 'zoya': ['زویہ', 'زویا'], 'bibi': ['بیبی'], 'punkxx': ['پنک'], 'majeed': ['مجید'], 'riohfz': ['ریو'], 'unlawful': ['انلاوفيل'], 'gaze': ['گاز'], 'jawani': ['جوانی'], 'sawal': ['سوال', 'سوال'], 'nikali': ['نکالی'], 'rah': ['راه', 'راہ'], 'libas': ['لباس', 'لباس'], 'direct': ['ڈريکٹ', 'ڈاریکٹ'], 'masoom': ['معصوم', 'معصوم'], 'ashes': ['اشيس'], 'kehta': ['کہتا'], 'karden': ['کردیں'], 'indians': ['انڈین'], 'najumi': ['نجومی'], 'apart': ['اپارٹ'], 'yahan': ['یہاں', 'یہاں', 'یہاں', 'یہاں'], 'infidel': ['انفڈيل'], 'bechaini': ['بیچینی'], 'hansta': ['ہنستا'], 'dakhi': ['دکھی'], 'lia': ['لیا', 'لیا'], 'rahe': ['رھے', 'رهے', 'رہے', 'رہے', 'رہے', 'رہے', 'رہے'], 'mera': ['ميرا', 'میرا', 'میرا'], 'ghor': ['گھوڑ'], 'shrt': ['شرط'], 'itla': ['اطلاع'], 'safhon': ['صفحوں'], 'halak': ['ہلاک'], 'mata': ['متا'], 'aaon': ['آوں'], 'choos': ['چوس'], 'shamil': ['شامل', 'شامل'], 'gay': ['گے', 'گے', 'گے', 'گے', 'گے'], 'dor': ['دوڑ'], 'aitbaar': ['اعتبار'], 'sweetpari22': ['ویت'], 'jati': ['جاتی', 'جاتی', 'جاتی', 'جاتی'], 'katrina': ['کترینا'], 'sochta': ['سوچتا'], 'life': ['لایف', 'لفي', 'لفی', 'لائف', 'لائف', 'لائف'], 'stati': ['ستاتی'], 'mother': ['موتھ'], 'hello': ['حيللو', 'ہاللو', 'ہیلو', 'حےلو'], 'jaaongajo': ['جاونگا'], 'haara': ['ہارا'], 'ahsan': ['احسن'], 'puri': ['پوری', 'پوری'], 'btata': ['بتاتا'], 'hurf': ['حرف'], 'musafir': ['مسافر'], 'dino': ['دنو', 'دنوں', 'دنوں'], 'likhta': ['لکھتا'], 'jhuk': ['جھک'], 'lazim': ['لازم'], 'khaya': ['کھایا'], 'goli': ['گولی'], 'bazi': ['بازی'], 'nai': ['نی', 'نہیں', 'نہیں', 'نہیں', 'نہیں', 'نہیں', 'نے'], 'thehra': ['ٹھہرا'], 'do': ['ڈو', 'ڈون', 'دوؤ', 'دو', 'دو', 'دو'], 'bhot': ['بھوت'], 'makan': ['مکان'], 'saas': ['ساس'], 'hope': ['هوپ'], 'jafri': ['جعفری'], 'jaweria': ['جویریہ'], 'momigulzindagi': ['مومی'], 'ruswa': ['رسوا'], 'krwana': ['کروانا'], 'ruka': ['رکا'], 'kharidaar': ['خریدار'], 'zaeef': ['ضعیف'], 'muqably': ['مقابلے'], 'tabhi': ['تبھی'], 'boond': ['بوند'], 'jaiso': ['جیسوں'], 'gustaakh': ['گستاخ'], 'wish': ['وش'], 'sohni': ['سوہنی'], 'pan': ['پان'], 'nechay': ['نيچے'], 'nasheen': ['نشین'], 'maro': ['مارو'], 'gila': ['گلا'], 'best': ['بيسٹ', 'بیسٹ'], 'phela': ['پهلا'], 'naya': ['نيا', 'نیا', 'نیا'], 'jor': ['جور'], 'dene': ['دینے'], 'shafiqahmad': ['شفیق'], 'king': ['کنگ'], 'shakhoon': ['شاخوں'], 'nshan': ['نشاں'], 'zaat': ['زات'], 'jawan': ['جوان'], 'tabah': ['تباہ'], 'lipti': ['لپٹی'], 'mauj0on': ['موجوں'], 'zaroori': ['ضروری', 'ضروری'], 'tameer': ['تعمير'], 'dude': ['ددے'], 'kahon': ['کہوں'], 'sky': ['سکي'], 'hychain': ['چين'], 'yahya': ['ياحيا', 'يحيا'], 'tijarat': ['تجارت'], 'ashamed': ['اشاميڈ'], '8': ['٨', '8'], 'money': ['مونيي'], 'ujar': ['اجاڑ'], 'ujre': ['اجڑے'], 'noise': ['نوسي'], 'bachon': ['بچوں', 'بچوں'], 'sfjan2': ['سف'], 'sehta': ['سہتا'], 'ky': ['کیے'], 'contrary': ['کونٹراري'], 'chairman': ['چیرمین'], 'lao': ['لاؤ'], 'umar': ['يمار', 'امر'], 'der': ['دار', 'دیر'], 'dosry': ['دوسرے'], 'guftugo': ['گفتگو'], 'zahbi': ['ظہبی'], 'abi': ['ابی'], 'maad': ['ماد'], 'ajar': ['اجر'], 'soratehal': ['صورتحال'], 'saly': ['سالے'], 'btati': ['بتاتی'], 'kren': ['کريں', 'کریں', 'کریں', 'کریں'], 'dete': ['دیتے'], 'pehle': ['پہلے'], 'thora': ['تھوڑا', 'تنگ'], 'burey': ['برے'], 'shayad': ['شاید'], 'block11': ['بلوک'], 'leni': ['لینی'], 't': ['ت', 'ٹی'], 'afwa': ['افواہ'], 'me': ['مے', 'میں', 'میں', 'میں', 'میں', 'میں', 'می', 'میں', 'میں', 'میں', 'میں', 'میں', 'میں', 'میں', 'میں', 'میں'], 'slow': ['سلو'], 'ajao': ['آجاؤ'], 'tahare': ['تہارے'], 'bolo': ['بولوں', 'بولبو', 'بولو'], '0': ['٠٠'], 'hafiz': ['حافظ', 'حافظ'], 'us': ['يس', 'سے', 'پر', 'اس', 'اس', 'کے', 'اس', 'اس', 'تھا', 'اس', 'اس', 'اس', 'اس', 'مبارک'], 'bande': ['بندے'], 'tarefen': ['تعریفیں'], 'pehchantay': ['پہچانتے'], 'baloch': ['بلوچ'], 'waqar': ['وقار'], 'begum': ['بیگم'], 'mita': ['مٹا'], 'shazia': ['شازیہ'], 'faqiron': ['فقیروں', 'فقروں'], 'moqa': ['موقع'], 'manta': ['مانتا'], 'bje': ['بجے'], 'asal': ['اصل'], 'tauras': ['ٹورس'], 'arshad': ['ارشاد', 'ارشد'], 'thukrate': ['ٹھکراتے'], 'behroz': ['بہروز'], 'prna': ['پڑنا'], 'much': ['مچھ'], 'boyfriend': ['بويفرينڈ'], 'so': ['سو', 'سو'], 'mafhoom': ['مفہوم'], 'breakup': ['بریک'], 'godh': ['گود'], 'hykabi': ['هي'], 'target': ['ٹارگٹ'], 'crazy': ['کراذي'], 'fool': ['فول'], 'khabrii': ['خبری'], 'sunana': ['سنانا'], 'aaho': ['آہو'], 'mohtaj': ['محتاج'], 'hear': ['حير'], 'interest': ['انٹريسٹ'], 'refrence': ['ریفرنس'], 'abdul': ['عبدل'], 'krwai': ['کروائی'], 'shikway': ['شکوے'], 'tarmeem': ['ترمیم'], '18': ['١٨', '18'], 'jugno': ['جگنو'], 'naslain': ['نسلیں'], 'aasan': ['آسا', 'آسان'], 'juka': ['جکا'], 'meri': ['میری', 'میرٹ', 'میر', 'ميری', 'مری', 'میری', 'میری', 'میری', 'میری'], 'femly': ['فیملی'], 'sunehri': ['سنہری'], 'mehrabpur': ['مہراب'], 'chuma': ['چوما'], 'acha': ['اچھا', 'اچھا', 'اچھا', 'اچھا', 'اچھا', 'اچھا', 'اچھے', 'اچھا', 'اچھا', 'اچھا', 'اچھا', 'اچھا', 'اچھا', 'اچھا', 'اچھا', 'اچھا', 'اچھا', 'اچھا', 'اچھا', 'اچھا', 'اچھا', 'اچھا'], 'wapis': ['واپس'], 'ulta': ['الٹا'], 'lala': ['لالہ'], 'basana': ['بسانا'], 'zain': ['زین'], 'here': ['هیر', 'ہیر'], 'speed': ['سپیڈ'], 'kabotar': ['کبوتر'], 'leta': ['لیتا'], '5': ['5', '٥', '۵', '5'], 'insha': ['انشاء', 'انشاللہ', 'انشا'], 'phelana': ['پھیلانا'], 'mobile': ['مو', 'موبایل', 'موبلے', 'موبائل', 'موبائل'], 'aasaib': ['آسیب'], 'interested': ['انٹرسٹد', 'انٹرسٹیڈ'], 'baatein': ['باتيں'], 'kn': ['کن'], 'ghus': ['گھس'], 'ghafil': ['غافل'], 'karao': ['کراؤ'], 'kahti': ['کہتی'], 'lali': ['لالی'], 'sog': ['سوگ'], 'thek': ['ٹھیک'], 'hyd': ['حیدرآباد'], 'news': ['نوس', 'نيوز'], 'tuesday': ['ٹييسڈے'], 'anda': ['انڈا'], 'alone': ['الونرائیڈر', 'الون'], 'pani': ['پانی', 'پانی', 'پانی', 'پانی'], 'ans': ['آنس', 'انس', 'آنسر'], 'queen': ['قوین'], 'kholi': ['کھلی'], 'thirst': ['تھرسٹ'], 'pehnana': ['پہنانا'], 'not': ['نوٹ'], 'mushtaq': ['مشتاق'], 'tasweer': ['تصوير'], 'rangon': ['رنگوں'], 'abdullah': ['عبدللہ'], 'panjtani': ['پنج'], 'insan': ['انسان', 'انسان', 'کی عقل', 'انسان', 'انسان', 'انسان', 'انسان'], 'barf': ['برف'], 'uljhano': ['الجھنوں'], 'tasleem': ['تسلیم'], 'faseeh': ['فصیح'], 'bakhshi': ['بخشی'], 'obtain': ['وبٹين'], 'btaon': ['بتاوں'], 'bechny': ['بیچنے'], 'funz': ['فونز'], 'keke': ['کي'], 'ufone': ['فون', 'یوفون', 'Ufone'], 'hastiyan': ['ہستیاں'], 'tayar': ['تیار'], 'harnay': ['ہارنے'], 'tmhary': ['تمھارے'], 'multan': ['ملتان'], 'khiltay': ['کھلتے'], 'kho': ['کھو', 'کھو'], 'banta': ['بنتا', 'بنتا', 'بنتا'], 'jaisa': ['جیسا', 'جیسا', 'جیسا', 'جیسا'], 'hawas': ['حواس'], 'song': ['سونگ'], 'farman': ['فرمان'], 'gol': ['گول'], 'tbiyt': ['طبعیت'], 'usko': ['اسکو', 'دور'], 'bahaaron': ['بہاروں'], 'barbie': ['باربی'], 'idot': ['دوٹ', 'ادو'], 'doosra': ['دوسرا'], 'kasor': ['قصور'], 'dhoonda': ['ڈھونڈا'], 'het': ['ہیٹ'], 'atawo': ['آٹا'], 'dikhane': ['دکھانے'], 'maazi': ['ماضی'], 'chore': ['چوڑیاں'], 'chance': ['چانس'], 'rakhna': ['رکھنا', 'رکھنا'], 'ten': ['ٹين'], 'aridian': ['عیدین'], 'worthless': ['ورٹھ'], 'tm': ['تم', 'تم'], 'khilta': ['کھلتا'], 'andaz': ['انداز', 'انداز'], 'smarty': ['سمرتی'], 'lambi': ['لمبی'], 'rizwan': ['رضوان'], 'lagi': ['لگی'], 'niny': ['نینی'], 'pashtoonpa': ['پشتون'], 'acceptance': ['اکسيپٹانس'], 'breast': ['بريسٹ'], 'khoobi': ['خوبی'], 'gaoon': ['گاؤں'], 'de': ['دے', 'ڈے', 'دے', 'دے', 'دے', 'دے', 'دے', 'دے', 'دے'], 'msaly': ['مسالے'], 'mazak': ['مزاق'], 'ge': ['گي'], 'hyrat': ['حیرت'], 'wade': ['وادے'], 'udhar': ['ادھار'], 'bikhri': ['بکھری'], 'mitro': ['میٹرو'], 'kabhi': ['کبھی', 'کبھی', 'کبھی', 'کبھی'], 'jotey': ['جوتے'], 'gari': ['گاڑی', 'گھر'], 'roshni': ['روشنی', 'روشنی'], 'usually': ['يسياللي'], 'barish': ['بارش', 'بارش'], 'koko': ['کوکو'], 't-shirt': ['ٹشرٹ'], 'shabash': ['شاباش'], 'pyari': ['پیاری', 'پیاری'], 'physical': ['پحيسکال'], 'hand': ['حانڈ'], 'krdo': ['کردو'], 'sheeshay': ['شیشے'], 'serious': ['سيراوس'], 'add': ['اد'], 'iltija': ['التجا'], 'pencil': ['پينسل', 'پینسل'], 'sis': ['سیس'], 'alfaz': ['الفاظ', 'الفاظ'], 'time': ['تمی', 'ٹایم', 'نہیں', 'ٹائم'], 'thehre': ['ٹھہر'], 'details': ['ڈیٹیل'], 'prwana': ['پروانہ'], 'mass': ['ماس'], 'nibha': ['نبھا'], 'khushbo': ['خشبو', 'خوشبو'], 'dilasa': ['دلاسا'], 'cel': ['سیل'], 'jhoot': ['جھوٹ', 'جھوٹ', 'جھوٹ'], 'quetta': ['کویٹا'], 'dmagh': ['دماغ'], 'chhor': ['چھور'], 'mukhlis': ['مخلص'], 'soe': ['سوے'], 'dugna': ['دگنا'], 'janta': ['جانتا'], 'hussain': ['حسین', 'حسسیں'], 'hui': ['هوی', 'ہوئی', 'ہوئی', 'ہوئی'], 'surkh': ['سرخ'], 'english': ['انگلش', 'ينگلش'], 'yaqeen': ['یقین', 'یقین'], 's': ['س'], 'prat': ['پرت'], 'super': ['سوپر'], 'thaka': ['تھکا'], 'glass': ['گلاس'], 'utar': ['اتار', 'اتر'], 'unhon': ['انہوں'], 'sath': ['ساتھ', 'ساته', 'ساتھ', 'ساتھ', 'ساتھ', 'ساتھ', 'ساتھ'], 'zimb': ['زمبابوے'], 'jari': ['جاری'], 'zard': ['زرد'], 'zarur': ['ضرور'], 'sube': ['صوبے'], 'abundance': ['ابانڈانس'], 'asit': ['است'], 'dance': ['ڈانس', 'دانس'], 'dhamakha': ['دھماکہ'], 'likhun': ['لکھوں'], 'pasha': ['پاشا'], 'adam': ['آدم'], 'bathoro': ['بٹھورو'], 'nashe': ['نشے'], 'trat': ['ترت'], 'qasmein': ['قسمیں'], 'didaar': ['دیدار'], 'poetry': ['پویٹری', 'پؤیٹری', 'پؤيٹری'], 'nama': ['نامہ'], \"itaa'at\": ['اطاعت'], 'lag': ['لاگ', 'لگ', 'لگ'], 'almi': ['علمی', 'عالمی'], 'sataya': ['ستایا'], 'of': ['آف'], 'tufaan': ['طوفان'], 'naukar': ['نوکر', 'نوکر'], 'shor': ['شور'], 'thunder': ['ٹهندر'], 'mafia': ['مافیا'], 'dress': ['ڈريس'], 'kuch': ['کچ', 'کچہ', 'وچ', 'کچھ', 'کچھ', 'کچھ', 'کچھ', 'کچھ', 'کچھ', 'کچھ', 'کچھ', 'کچھ', 'کچھ', 'کچھ', 'کچھ', 'کچھ', 'کچھ', 'دن پہلے', 'کچھ'], 'dhalti': ['ڈھلتی'], 'lagain': ['لگیں'], 'khamosh': ['خاموش', 'خاموش'], 'inhain': ['انهیں'], 'bayan': ['بیان', 'بیان'], 'jami': ['جامی'], 'quick': ['کوک'], 'chal': ['چل', 'چل پڑتے', 'چل سکتا'], 'samsung': ['سامسنگ'], 'qaadri': ['قادری'], 'taliban': ['طالبان'], 'kundi': ['کنڈی'], 'raise': ['ريسي'], 'ashk': ['اشک'], 'kato': ['کاٹو'], 'pari': ['پڑی', 'پری'], 'manee': ['معني'], 'galian': ['گالیاں'], 'jaan': ['ج', 'جان'], 'tarafdar': ['طرفدار'], 'waqai': ['واقعی'], 'saki': ['سکی', 'سکی'], 'problem': ['پروبليم'], 'four': ['فوار'], 'hosly': ['حوصلے'], 'sake': ['سکے'], 'basr': ['بسر'], 'jeene': ['جینے'], 'com': ['کوم'], 'khila': ['کھلا'], 'sweet': ['سویٹ', 'سویٹ'], 'pane': ['پانے'], 'phenkte': ['پھینکتے'], 'chopaal': ['چوپال'], 'twenty': ['ٹوينٹي'], 'bja': ['بجا'], 'ghasib': ['غاصب'], 'it': ['اٹ', 'یت'], 'czone': ['زون'], 'dua': ['دوا', 'دعا', 'دعا'], 'talawt': ['تلاوت'], 'ne': ['نیہ', 'نے', 'نے', 'نے', 'نے', 'نے', 'نے', 'نے', 'نے', 'نے', 'نے', 'نے', 'نے', 'نے', 'نے', 'نے', 'نے', 'نے', 'نے', 'نے'], 'legal': ['ليگل'], 'saat': ['سات'], 'sad': ['ساڈ'], 'world': ['ورلڈ'], 'samajhti': ['سمجھتی'], 'aar': ['آڑ'], 'bhara': ['بھرا'], 'mrna': ['مرنا'], 'students': ['سٹوڈنٹس'], 'roof': ['روف'], 'mem': ['میم'], 'april': ['اپرل', 'اپریل'], 'bikhra': ['بکھرا'], 'peyam': ['پیام'], 'kindness': ['کنڈنيس'], 'yaha': ['یهاں'], 'walo': ['والو'], 'sindhi': ['سندھی'], 'ankhain': ['آنکھیں'], 'roti': ['روٹي', 'روٹی'], 'badnam': ['بدنام'], 'help': ['حيلپ', 'ہیلپ', 'هیلپ'], 'yellow': ['ييللو'], 'unhen': ['انہیں'], 'meetingpoint': ['میٹنگ'], 'mk': ['مک'], 'sign': ['سگن'], 'equal': ['يکيال'], 'totay': ['طوطے'], 'nigahon': ['نگاہوں'], 'truck': ['ٹرک', 'ٹرکک'], 'maan': ['مان'], 'amazing': ['اماذنگ'], 'tomorrow': ['ٹوموررو'], 'jo': ['جو', 'جو', 'جو', 'جو', 'جو', 'جو', 'جو', 'جو', 'جو', 'جو', 'جو', 'جو', 'جو', 'جو', 'جو', 'جو', 'جو', 'جو', 'جو', 'جو', 'جو', 'جو', 'جو', 'جو', 'جو', 'جو', 'جو', 'جو', 'جو', 'جو', 'جو', 'جو', 'جو'], 'form': ['فورم'], 'pendi': ['پنڈی'], 'ehataram': ['احترام'], 'ikram': ['اکرام'], 'live': ['لایوو'], 'jagta': ['جاگتا'], 'asman': ['آسمان'], 'horaha': ['ہورہا'], 'kesa': ['کیسا'], 'hadi': ['ہادی'], 'jhal': ['جھل'], 'bor': ['بور'], 'lot': ['لوٹ'], 'badulatwarna': ['بدولت'], 'pehchaan': ['پہچان'], 'parh': ['پڑھ'], 'naseeb': ['نصیب'], 'sheet': ['شیٹ'], 'standard': ['سٹانڈارڈ'], 'hamari': ['ہماری', 'ہماری', 'ہماری'], 'achar': ['اچار'], 'mystery': ['مسٹری'], 'hoti': ['هوتی', 'ھوتی', 'ہوت', 'ہوتی', 'ہوتی', 'ہوتی', 'ہوتی', 'ہوتی', 'ہوتی', 'ہوتی', 'ہوتی', 'ہوتی'], 'apka': ['اپکا', 'آپکا'], 'car': ['کار'], 'drink': ['ڈرنک'], 'jalen': ['جلیں'], 'shah': ['شاہ', 'شاہ', 'شاہ'], 'bandh': ['بانڈ'], 'guarantor': ['گيارانٹر'], 'raatain': ['راتیں'], 'bahrpoor': ['بھرپور'], 'rakhi': ['رکھی'], 'palkain': ['پلکیں'], 'riazs': ['ریاض'], 'roth': ['روتھ'], 'mojooda': ['موجودہ'], 'kara': ['کرا'], 'anarkali': ['انار'], 'saath': ['ساٹھ', 'ساتھ', 'ساتھ', 'ہیں'], 'return': ['ريٹيرن'], 'zarfk': ['ظرف'], 'bolay': ['بولے'], 'arooj': ['اوج'], 'mazee': ['ماضي'], 'sayanafrat': ['سایا'], 'waliullah': ['ولی'], 'toqeer': ['توقیر'], 'muhammad': ['ميحامماڈ', 'محمد'], 'bulwaon': ['بلوا'], 'khalwat': ['خلوت'], 'laale': ['لالے'], 'sapna': ['سپنا'], 'itminan': ['اطمینان'], 'jao': ['جاؤ', 'جاﺅ'], 'shab': ['شب'], 'array': ['اررے'], 'nick': ['نیک'], 'kamalia': ['کمالیہ'], 'rainy': ['رینی'], 'jhooly': ['جھولے'], 'shewa': ['شیوا'], 'dekh': ['ديکھ', 'دیکھ', 'دیکھ'], 'sabot': ['ثبوت'], 'lareb63': ['لاریب'], 'quota': ['کوٹا'], 'husan': ['حسان'], 'chalte': ['چلتے'], 'zabt': ['ضبط'], 'shakil': ['شکیل'], 'dakhl': ['دخل'], 'apna': ['اپنا', 'اپنا', 'اپنا', 'اپنے', 'اپنا', 'اپنا', 'اپنا'], 'aain': ['آییں'], 'cenashahzadi': ['سینا'], 'ap': ['آپ', 'اپ', 'آپ', 'آپ', 'آپ', 'آپ', 'آپ', 'آپ', 'آپ', 'آپ', 'آپ', 'آپ', 'آپ', 'آپ', 'آپ'], 'jaldi': ['جلد', 'جلدی', 'جلدی', 'جلدی'], 'teesra': ['تيسرا'], 'oba': ['وبا'], 'instant': ['انسٹانٹ'], 'raz': ['راز'], 'hansi': ['ہنسی'], 'darling': ['ڈارلنگ'], 'rakhta': ['رکھتا', 'رکهتا'], 'aeyna1': ['اینا'], 'hera': ['ہرا'], 'dhal': ['ڈھل', 'ڈھال', 'دھل'], 'jhuka': ['جھکا'], 'ao': ['آو', 'آؤ'], 'ahmed': ['احمد', 'احميڈ'], 'nana': ['نانا'], 'insaf': ['انصاف'], 'sanwal': ['سانول'], 'darwaza': ['دروازا', 'دروازہ'], 'nishter': ['نشتر'], \"janib'e'manzil\": ['جانب'], 'maghz': ['مغز'], 'ae': ['آے'], 'islamianstars': ['اسلامیان'], 'kanto': ['کاٹوں'], 'chole': ['کھولے'], 'need': ['نيڈ', 'نید'], 'dhamaka': ['دھماکا'], '24': ['٢٤'], 'hm': ['همنشیں'], 'andaza': ['اندازہ'], 'rain': ['رين'], 'la': ['لا'], 'pao': ['پاوں', 'پاو'], 'dala': ['ڈالا'], 'khali': ['خالی'], 'bandgi': ['بندگی'], 'bndon': ['بندوں'], 'hour': ['حوار'], 'behl': ['بہل'], 'august': ['ايگيسٹ'], 'paka': ['پکا'], 'december': ['ڈيسيمبير'], 'metha': ['میٹھا'], 'quran': ['قرآن', 'قرآن'], 'mazduri': ['مزدوری'], 'khoya': ['کھویا'], 'shi': ['شی'], 'ulajh': ['الجھ'], 'noman': ['نومن'], 'sasti': ['سستی'], 'danial': ['دانیال'], 'khilona': ['کھلونا'], 'usama': ['اسامہ'], 'unka': ['انکا'], 'could': ['کيلڈ'], 'kam': ['کام', 'کام', 'بند', 'کرنے', 'کم', 'کم', 'کام'], 'maang': ['مانگ'], 'ufaq': ['افق'], 'gunah': ['گناہ', 'گناہ'], 'ulti': ['الٹی'], 'lanch': ['لانچ'], 'jinko': ['جنکو'], 'dani': ['دانی'], 'firaq1': ['فراق'], 'hamesha': ['ہمیشہ', 'ہمیش', 'ہمیشہ'], 'zulfain': ['زلفیں'], 'aspect': ['اسپيکٹ'], 'sharjel': ['شرجیل'], 'crowd': ['کروڈ'], 'janbaz32': ['جانباز'], 'dekhta': ['دیکھتا'], 'soya': ['سویا'], 'pher': ['پھیر'], 'nimazo': ['نمازوں'], 'doon': ['دوں'], 'wastay': ['واسطے'], 'dod': ['دود', 'ڈوڈ'], 'rao': ['راؤ'], 'fairy': ['فیری'], 'tirmizi': ['ترمزی'], 'khilate': ['کھلاتے'], 'often': ['وفٹين'], 'bacha': ['بچا'], 'loose': ['لوسي'], 'mila': ['ملا', 'ملا', 'ملا'], 'yaro': ['یارو'], 'subhan': ['سبحان'], 'from': ['فروم'], 'k': ['کے', 'ک', 'کوکہا', 'کے', 'کہ', 'کا', 'کہ', 'کے', 'کر', 'کہ', 'کہ', 'کہ', 'کہ', 'کہ', 'کے', 'کہ', 'کی', 'کی', 'کے', 'کے', 'کہ', 'کے', 'کے', 'کہ', 'کے', 'کے', 'کے', 'کے', 'کے', 'کہ', 'کے', 'کہ', 'کے', 'یہ', 'کے', 'کے', 'کے', 'کہ', 'کہ', 'کے', 'کر', 'کر', 'کے', 'کہ', 'کے', 'کہ', 'کے', 'کہ', 'کہ', 'کہ', 'کہ', 'کے', 'کے', 'کہ', 'کے', 'کہ', 'کے', 'کے', 'کے', 'کے', 'کے', 'کے', 'کے', 'کے', 'کہ', 'کے', 'کے', 'کہ', 'کہ', 'کہ', 'کہ', 'کے', 'کے', 'کے', 'کے'], 'student': ['سٹوڈنٹ', 'سٹيڈينٹ'], 'masroof': ['معروف'], 'tarzan': ['ٹارزن'], 'hobby': ['هوبی'], 'attari': ['اتاری'], 'lamhe': ['لمحے'], 'create': ['کریٹ'], 'kana': ['کانا'], 'jotioon': ['جوتیوں'], 'babu': ['بابو'], 'bheer': ['بھیڑ'], 'zuhaib': ['زوہیب'], 'shan': ['شان'], 'kami': ['کمی', 'کمی'], 'smile': ['سمایل'], 'wasi': ['واسی', 'وصی'], 'sulaiman': ['سلیمان'], 'khak': ['خاک'], 'jeete': ['جیتے'], 'lga': ['لگان'], 'munasib': ['مناسب'], 'sindhu': ['سندھو'], 'hatheli': ['ہتھیلی'], 'dalo': ['ڈالو'], 'kitni': ['کتنی', 'کتنی'], 'dagh': ['داغ', 'داغ'], 'seet': ['سیتا'], 'department': ['ڈیپارٹمنٹ'], 'batla': ['بتلا'], 'rawaj': ['رواج'], 'paltu': ['پالتو'], 'saqib': ['ثاقب'], 'dila': ['دلا'], 'rechilli': ['رچ'], 'dubi': ['ڈوبی'], 'kml3': ['کمل'], 'rawani': ['روانی'], 'apno': ['اپنوں'], 'hamara': ['ہمارا'], 'wabastgi': ['وابستگی'], 'paaon': ['پاؤ'], 'deepfriends': ['ڈیپ'], 'type': ['ٹيپي'], 'ok': ['وک', 'کیوں', 'اوکے'], 'khol': ['کھول'], 'lagte': ['لگتے'], 'banata': ['بناتا'], 'fail': ['فیل', 'فیل'], 'pait': ['پیٹ'], 'amna': ['آمنہ', 'امنہ'], 'jhank': ['جھانک'], 'rest': ['ریسٹ'], 'fine': ['فاین'], 'usi': ['اسی', 'اسی', 'اسی'], 'tareeki': ['تاریکی'], 'taluq': ['تعلق'], 'nafs': ['نفس'], 'kahan': ['کہاں'], 'ami': ['امی', 'امی'], 'kisne': ['کسنے'], 'krb': ['کرب'], 'toll': ['تولل'], 'infaradi': ['انفرادی'], 'rosh': ['روش'], 'aqeel': ['عقیل'], 'jahgra': ['جھگڑا'], 'purpose': ['پيرپوسي'], 'awake': ['واک'], 'ate': ['اتے', 'آتے'], 'chulta': ['چلتا'], 'kishmish': ['کشمش'], 'fida': ['فدا'], 'chahat': ['چاہت'], 'sogawar': ['سوگوار'], 'deikhen': ['دیکھیں'], 'um': ['امِ'], 'len': ['لیں', 'لیں'], 'badshah': ['بادشاہ'], 'mosam': ['موسم'], 'marhaba': ['مرحبا'], 'chalo': ['چلو', 'چلو', 'چلو'], 'anokha': ['انوکھا'], 'school': ['سکول'], 'waheed': ['وحید'], 'jan': ['جان', 'جانِ', 'جان', 'جان'], 'doraan': ['دوران'], 'birthday': ['برتھڈے'], 'badli': ['بدلی'], 'hijr': ['ہجر'], 'suche': ['سچے'], 'dear': ['ڈیر', 'دیر'], 'hru': ['ہرو'], 'keyo': ['کيوں'], 'warid': ['وارد'], 'way': ['وے'], 'bara': ['بڑا', 'بڑا', 'بڑا'], 'sms': ['سمس'], 'mamu': ['ماموں'], 'mumtaz': ['ميمٹاذ'], 'shurli': ['شرلی'], 'last': ['لاسٹ', 'لاسٹ'], 'isharay': ['اشارے'], 'bhejoon': ['بھیجوں'], '31': ['٣١'], 'hero': ['حيرو'], 'order': ['ورڈير'], 'yakh': ['یخ'], 'dangr': ['دنگ'], 'soyen': ['سویاں'], 'pehla': ['پہلا'], 'daku': ['ڈاکو'], 'kral': ['کرل'], 'gunahon': ['گناہوں', 'گناہوں'], 'musalmano': ['مسلمانوں'], 'kaj': ['کاج'], 'thak': ['تھک'], 'mama': ['مما'], 'hamain': ['ھمیں'], 'islami': ['اسلامی'], 'ameendil007': ['امین'], 'malahhhhhh': ['ملاح'], 'and': ['اند'], 'jia': ['جیا'], 'fear': ['فير'], 'tmez': ['تمیز'], 'arsa': ['عرصہ', 'عرصہ'], 'seeda': ['سیدھا'], 'hathi': ['ہاتھی'], 'kamyabi': ['کامیابی', 'راز', 'کامیابی'], 'shedai': ['شیدائی'], 'khilonon': ['کھلونوں'], 'jhagre': ['جھگڑے'], 'gya': ['گیا', 'گیا', 'گیا', 'گیا'], 'faryad': ['فریاد'], 'lekin': ['لکین', 'لیکن', 'لیکن'], 'rahi': ['راہی', 'رہی', 'رہی', 'رہی', 'رہی', 'رہی', 'رہی', 'رہی', 'رہی', 'تہی'], 'jahad': ['جہاد'], 'momin': ['مومن', 'مومن', 'مومن'], 'bngla': ['بنگلہ'], 'khas': ['خاص', 'خاص', 'خاص'], 'sagar': ['ساگر'], 'gloom': ['گلوم'], 'atta': ['عطا', 'عطا'], 'karta': ['کرٹ', 'کرتا', 'کرتا', 'کرتا', 'کرتا', 'کرتا', 'کرتا', 'کرتا'], 'marna': ['مارنا', 'مرنا'], 'tho': ['تھو'], 'bloom': ['بلوم'], 'jana': ['جانا', 'جاناں', 'جانا', 'جانا'], 'jalte': ['جلتے'], 'chura': ['چورا'], 'bagara': ['بگاڑا'], 'khata': ['کھاتا'], 'bm': ['بم'], 'khona': ['کھونا'], 'mansooba': ['منصوبه'], 'lehaz': ['لحاظ'], 'pleasure': ['پليسير'], 'choti': ['چوٹی', 'چھوٹی', 'چھوٹی'], 'roya': ['رویا'], 'pila': ['پلا'], 'tolia': ['تولیہ'], 'ishaa': ['عشاء'], 'dalay': ['ڈالے'], 'argument': ['ارگيمنٹ'], 'rahen': ['راہیں'], 'sardi': ['سردی'], 'qurb': ['قرب'], 'zmen': ['زمیں'], 'boorrha': ['بوڑھا'], 'inhabited': ['انحابٹڈ'], 'warkatal': ['وارک'], 'milti': ['ملتی', 'ملتی'], 'gunahgar': ['گناہگار'], 'aram': ['آرام'], 'gandi': ['گندی'], 'ghari': ['گھڑی'], 'baghdad': ['بغداد'], 'stone': ['سٹوني'], 'sikhana': ['سکھانا'], 'namalom': ['نامعلوم'], 'tapish': ['تپیش'], 'quickly': ['کوکلي'], 'altaf': ['الطاف'], 'morr': ['موڑ'], 'sorry': ['سورری', 'سوری'], 'zulfon': ['زلفوں'], 'hme': ['همیں'], 'uthane': ['اٹھانے'], 'g': ['گ', 'جی'], 'nikalo': ['نکالو'], 'adalat': ['عدالت'], 'moti': ['موٹی', 'موتی'], 'ask': ['آسک'], 'grdin': ['گردن'], 'dump': ['ڈمپ'], 'jismoon': ['جسموں'], 'ronay': ['رونے'], 'jagte': ['جاگتے'], 'khud': ['خد', 'خود', 'خود'], 'shikayat': ['شکایات', 'شکایت'], 'aansu': ['آنسو'], 'taqdeerain': ['تقدیریں'], 'farhan': ['فرحاں'], 'titliyan': ['تتلیاں'], 'bored': ['بوريڈ'], 'sakna': ['سکنا'], 'khadija': ['خدیجہ'], 'hamid': ['حامد'], 'kafro': ['کافروں'], 'musharraf': ['ميشارراف'], 'sekh': ['سکھ'], 'deed': ['دید'], 'zaib143': ['زیب'], 'pyaron': ['پیاروں'], 'makhn': ['مکھن'], 'hina': ['حنا'], 'rely': ['ریلی'], 'nikli': ['نکلی'], 'surat': ['صورت'], 'pakistan': ['پاکستان', 'پاکستان', 'پاکستان', 'پاکستان', 'پاکستان', 'پاکستان', 'پاکستان'], 'leja': ['لیجا'], 'inqalaab': ['انقلاب'], 'end': ['ينڈ', 'اینڈ'], 'choor': ['چور'], 'anmol': ['انمول', 'ہے'], 'hazoor': ['حضور'], 'behtaren': ['بہترین'], 'bikhrne': ['بکھرنے'], 'tanoli': ['تنولی'], 'samjha': ['سمجھا'], 'pana': ['پانا'], 'baho': ['بہو'], 'fozia': ['فوزیہ'], 'galti': ['غلطی'], 'jadon': ['جدوں'], 'zaidi': ['زیدی'], 'kitab': ['کتاب'], 'sumaira': ['سمیرا'], 'tadad': ['تعداد'], 'pasa': ['پاسا'], 'blank': ['بلانک'], 'fake': ['فاکي'], 'seena': ['سينا'], 'ent': ['انت'], 'roky': ['روکے'], 'bura': ['برا', 'برا', 'برا', 'برا', 'برا'], 'jagaey': ['جاگے'], 'fatohat': ['فتوحات'], 'karti': ['کاری'], 'har': ['ہار', 'ہر', 'ہر', 'ہر', 'ہر', 'ہر'], 'ha': ['ها', 'ہ', 'ہے', 'ہے', 'ہے', 'ہے', 'ہے', 'ہے', 'ہے', 'ہے', 'ہے', 'ہے', 'ہے', 'ہے', 'ہے', 'ہے', 'ہے'], 'hasti': ['ہستی'], 'fesle': ['فیصلے'], 'baap': ['باپ'], 'frank': ['فرانک'], 'badla': ['بدلا'], 'toti': ['طوطی'], 'guna': ['گنا'], 'jurwa': ['جروا'], 'mangtay': ['مانگتے'], 'bki': ['بکی'], 'shoaib': ['شعیب'], 'away': ['آوے'], 'khulq': ['خلق'], 'mong': ['مونگ'], '1700': ['١٧٠٠'], 'lanti': ['لعنتی'], 'faraz': ['فراز'], 'nakhun': ['ناخن'], 'parindon': ['پرندوں'], 'teno': ['تنو'], 'jungle': ['جنگل', 'جنگل'], 'pnuawan2310': ['پنو'], 'chakr': ['چکر'], 'murghi': ['مرغی'], 'cheeta': ['چیتا'], 'piaro': ['پیرو'], 'mujahid': ['مجاہد'], 'dijia': ['دیجیئے'], 'february': ['فيبرياري'], 'less': ['ليس'], 'chez': ['چيز', 'اب الٹ'], 'goldn': ['گولڈن'], 'jese': ['جیس', 'جیسے', 'جیسے'], 'ibrar': ['ابرار'], 'nakhre': ['نخرے'], 'mre': ['مرے'], 'bhaijan': ['بھیجیں'], 'dalal': ['دلال'], 'waris': ['وارث'], 'milne': ['ملنے', 'ملنے'], 'pyare': ['پیارے', 'پیارے'], 'blood': ['بلوڈ'], 'bald': ['بالڈ'], 'chorangi': ['چورنگی'], 'enemy': ['ينيمي'], 'baten': ['باتیں', 'باتیں'], 'jheel': ['جھیل'], 'footpath': ['فوت'], 'korray': ['کوڑے'], 'musafat': ['مسافت'], 'pechy': ['پیچے'], 'silence': ['سلينس'], 'swab': ['ثواب'], 'bhulaya': ['بھلایا'], 'cheer': ['چیر'], 'dream': ['ڈریم'], 'art': ['ارٹ'], 'mawaqay': ['مواقع'], 'numb': ['نمب'], 'harris': ['حاررس'], 'ehtjaj': ['احتجاج'], 'lash': ['لاش'], 'hockey': ['حوکيي'], 'labi': ['لابی'], 'farma': ['فرما'], 'gadha': ['گدھا'], 'ik': ['اک', 'ایک', 'ایک'], 'ati': ['آتی', 'آتی', 'آتا'], 'parhti': ['پڑھتی'], 'sathi': ['ساتھی'], 'sulagte': ['سلگتے'], 'bheje': ['بھیجتی'], 'kese': ['کیسے', 'کسی', 'کیسے', 'کیسے'], 'soni': ['سونی'], 'zaror': ['ظرور'], 'trbiat': ['تربیت'], 'foot': ['فوٹ'], 'funkar': ['فنک'], 'karte': ['کرتے'], 'sajdon': ['سجدوں'], 'laga': ['لگا', 'لگا', 'لگا'], 'kawa': ['کوا'], 'aazmane': ['آزمانے'], 'heere': ['ہیرے'], 'maya': ['مایا'], 'biwi': ['بیوی', 'بیوی'], 'sok': ['سوک'], 'qasi': ['قاسی', 'قصی'], 'kheriyat': ['خیریت'], 'baron': ['بڑوں'], 'paki': ['پاکی', 'پکی'], 'unki': ['انکی'], 'gupta': ['گپتا'], 'hogya': ['ہوگیا'], 'wam': ['وام'], 'pairon': ['پیروں'], 'wali': ['والی', 'والی'], 'saqi': ['ساقی'], 'marte': ['مرتا'], 'fani': ['فانی'], 'circket': ['کرک'], 'zamane': ['زمانے'], 'phirtay': ['پھرتے'], 'abao': ['آباؤ'], 'peeney': ['پینے'], 'sabit': ['ثابت'], 'saudi': ['سعودی'], 'uski': ['اسکی'], 'take': ['تاکے'], 'zama': ['زما', 'ذمانا'], 'pata': ['پتا', 'پتا'], 'lath': ['لات'], 'darse': ['درس'], 'diwar': ['دیوار'], 'maskean': ['مسکین'], 'rehti': ['رہتی'], 'tariko': ['طریقوں'], 'hosloon': ['حوصلوں'], 'bha': ['بھا'], 'zubaida': ['زبیدہ'], 'sufyan': ['سفیان'], 'noor': ['نور'], 'appiel': ['اپیل'], 'city': ['سٹی', 'سٹي'], 'bujhi': ['بجھی'], 'yaad': ['یادِ', 'یاد'], 'bell': ['بیل'], 'habs': ['حبس'], 'lamb': ['لامب'], 'konsa': ['کونسا'], 'guest': ['گیسٹ', 'گيسٹ'], 'on': ['آن', 'ان'], 'fifty': ['ففٹي'], 'september': ['سيپٹيمبير'], 'shea': ['شیا'], 'alina': ['علینہ', 'علینا'], 'dydy': ['ڈیڈی'], 'cofi': ['کوفی'], 'phir': ['پھر', 'پھر', 'پھر', 'پھر', 'پھر', 'پھر', 'جیسا', 'پھر', 'پھر', 'پھر', 'پھر'], 'purani': ['پرانی'], 'mundaø': ['منڈا'], 'dngr': ['ڈنگر'], 'thikana': ['ٹھکانہ'], 'ahtisab': ['احتساب'], 'laray': ['لڑے'], 'peecha': ['پیچھا'], 'khalid': ['خالد'], 'learn': ['ليرن'], 'rakhtay': ['رکھتے'], 'jagoo': ['جاگو'], 'masroofiyat': ['مصروفیت'], 'saba': ['صبا', 'سبا'], 'lagaya': ['لگایا'], 'bach': ['بچ'], 'beautiful': ['بييٹفيل'], 'pakro': ['پکڑو'], 'deta': ['ديتا', 'دیتا', 'دیتا', 'دیتا', 'دیتا'], 'corner': ['کرنير'], 'pakistanio': ['پاکستانیوں'], 'plastic': ['پلاسٹک', 'پﻻسٹک'], 'paron': ['پروں'], 'pocho': ['پوچھو'], 'lauta': ['لوٹا'], 'totka': ['ٹوٹکا'], 'sindh': ['سنده'], 'ziada': ['زیادہ', 'زیادہ', 'زیادہ'], 'imamat': ['امامت'], 'sada': ['صدا', 'سدا', 'سادہ'], 'continue': ['کونٹینو'], 'pathron': ['پتھروں'], 'karo': ['کرونگا', 'کارو', 'کرو', 'کرو', 'کرو', 'کرو', 'کرو'], 'whole': ['ہول'], 'smjhe': ['سمجھے'], 'princes': ['پرنسس'], 'lrna': ['لڑنا'], 'zong': ['زونگ', 'ذونگ', 'زونگ'], 'ain': ['عین'], 'rhoge': ['رہوگے'], 'bhula': ['بھلا', 'بھولا'], 'milata': ['ملاتا'], 'tor': ['توڑ', 'طور', 'توڑ'], 'choom': ['چوم'], 'aazmaty': ['آزماتے'], 'orbit': ['وربٹ'], 'chbi': ['چابی'], 'baby': ['بابي'], 'gi': ['گی', 'گی', 'گی', 'گی'], 'jano': ['جانو'], 'admiral': ['اڈمرل'], 'barishon': ['بارشوں'], 'aye': ['آءے', 'آئے'], 'aghosh': ['آغوش'], 'guzara': ['گزارا', 'گزارا'], 'lagta': ['لگتا', 'لگتا', 'لکھتا'], 'jawab': ['جواب', 'جواب'], 'mehnga': ['مہنگا'], 'hote': ['ھوتے', 'ہوتے', 'ہوتے؟', 'ہوتے'], 'bhej': ['بھیج'], 'guzaarna': ['گزارنا'], 'jaganay': ['جگانے'], 'darasal': ['دراصل'], 'tha': ['تها', 'تھا', 'تہ', 'تھا', 'تھا', 'اس', 'تھا', 'تھا', 'تھا', 'تھا', 'تھا', 'وائٹ', 'تھا', 'تھا', 'تھا', 'تھا', 'تھا', 'تھا', 'تھا', 'تھا'], 'lots': ['لوٹس'], 'masi': ['ماسی'], 'milta': ['ملتا', 'ملتا'], 'galay': ['گلے'], 'donay': ['دونے'], 'mazrat': ['معذرت'], 'behron': ['بہروں'], 'betha': ['بیٹھا'], 'smjhi': ['سمجھی'], 'hatne': ['ہٹنے'], 'balti': ['بالٹی'], 'muskrany': ['مسکرانے'], 'bagair': ['بغیر'], 'smartpoetry': ['مارٹ'], 'peda': ['پیدا', 'پیدا'], 'rok': ['روک'], 'sharkit': ['شرکت'], 'khainchta': ['کھینچی'], 'maqsood': ['مقصود'], 'rukh': ['رخ'], 'taaj': ['تاج'], 'khaerat': ['خیرات'], 'ma': ['ما', 'میں', 'ماں', 'میں', 'میں', 'میں', 'میں', 'میں', 'میں'], 'enter': ['ينٹر'], 'khush': ['خوش'], 'mujhe': ['مجھے', 'مجھے', 'مجھے', 'مجھے', 'مجھے', 'مجھے', 'مجھے'], 'nibhane': ['نبھانے'], 'guzrifaraz': ['گزری'], 'umeedein': ['امیدیں'], 'yadon': ['یادوں'], 'krne': ['کرنے', 'کرنے'], 'rukay': ['رکے'], 'bachna': ['بچنا'], 'bheegi': ['بھیگی'], 'bachiyan': ['بچیاں'], 'artificial': ['ارٹفکال'], 'khane': ['کھانے'], 'khilonay': ['کھلونے'], 'afsorda': ['افسردہ'], 'mar': ['مار', 'مر'], 'baton': ['باتوں', 'باتوں'], 'engrz': ['انگریز'], 'parha': ['پڑھا'], 'aaloo': ['آلو'], 'babloo': ['ببلو', 'ببلو'], 'nehayet': ['نہایت'], 'fahad': ['فاحاڈ'], 'khr': ['خر'], 'kafi': ['کافی', 'کافی', 'کافی'], 'gira': ['گرا'], 'darood': ['درود'], 'nasoorjazb': ['ناسور'], 'or': ['ور', 'اور', 'اور', 'اور', 'اور', 'اور', 'اور', 'اور', 'اور', 'اور', 'اور', 'اور', 'اور', 'اور', 'اور', 'اور'], 'khel': ['کھيل', 'کھیل'], 'di': ['دی', 'دی'], 'ror': ['رور'], 'kamran': ['کامران'], 'jisay': ['جسے'], 'agha': ['آغا'], 'laj': ['لاج'], 'sory': ['سوری'], 'girne': ['گرنے'], 'shahzada': ['شہزادہ'], 'jhom': ['جھوم'], 'jazbati': ['جذباتی', 'جزباتی'], 'likh': ['لکھ', 'لکھ', 'لکھ', 'لکھ'], 'poem': ['پويم'], 'aouni': ['اونی'], 'dheere': ['دھیرے'], 'gharibon': ['غریبوں'], 'kiam': ['قیام'], 'areyan': ['آریان'], 'jaye': ['جاے', 'چاہے', 'جائے', 'جائے', 'گا یہ'], 'thi': ['تھی', 'تھ', 'تھی', 'تھی', 'تھی', 'تھی', 'تھی', 'تھی', 'تھی', 'تھی', 'تھی', 'تھی'], 'bread': ['بريڈ'], 'shut': ['شٹ', 'شٹ اپ'], 'andr': ['اندھر'], 'zahra': ['زہرا'], 'tumhe': ['تمہیں'], 'aisay': ['ایسے'], 'joke': ['جوک'], 'thori': ['تھوڑ', 'تھوڑی'], 'strong': ['سٹرونگ'], 'shahi': ['شاہی'], 'welcome': ['ویلکیم', 'ويلکم'], 'halat': ['حالت'], 'sochne': ['سوچنے'], 'ascension': ['اسسينسون'], 'aazma': ['آزما'], 'hkomt': ['حکومت'], 'sochti': ['سوچتی'], 'wait': ['ویٹ'], 'thanks': ['تھنکس'], 'shrk': ['شرک'], 'shak': ['شک', 'شک نہیں'], 'hont': ['ہونٹ'], 'grd': ['گرد'], 'tips': ['ٹپس'], 'kalmat': ['کلمات'], 'rona': ['رونا', 'دھونا', 'رونا'], 'flmn': ['فلمیں'], 'juice': ['جوس'], 'lain': ['ليں'], 'bolna': ['بولنا'], 'biknay': ['بکنے'], 'nicotinesms': ['نکوٹین'], 'pehli': ['پہلی', 'پہلی', 'پہلی'], 'walid': ['والد'], 'khabron': ['خبروں'], 'rang': ['رنگ'], 'omar': ['ومار'], 'freedom': ['فريڈوم'], 'ajnabi': ['اجنبی'], 'karwata': ['کرواتا'], 'seri0us': ['سیریس'], 'tabdeeliyan': ['تبدیلیاں'], 'izat': ['عزت', 'عزت'], 'hawa': ['حوا'], 'rakha': ['رکھا', 'رکھا', 'رکھا', 'رکھا'], 'mastung': ['مستونگ'], 'ignorant': ['گنورانٹ'], 'clas': ['کلاس'], 'property': ['پروپيرٹي'], 'dubai': ['دبی'], 'aunt': ['آنٹ'], 'base': ['باسي'], 'seerat': ['سیرت'], \"kabab's\": ['کباب'], 'griftar': ['گرفتار'], 'chlaon': ['چلاؤں'], 'dstoor': ['دستور'], 'mena£=siom£': ['مینا'], 'desh': ['دیش'], 'frwrd': ['فورڈ'], 'rich': ['راچ'], 'bithao': ['بٹھاو'], 'yummi': ['یومی'], 'breaker': ['بریکر'], 'shoe': ['شوي'], 'phat': ['پھٹ'], 'qadir': ['قاد'], 'iftakhar': ['افتخار'], 'jinnah': ['جنناح'], 'jama': ['جما'], 'mohal': ['محال'], 'sleep': ['سليپ'], 'bingoo': ['بنگو'], 'tournament': ['ٹورنامنٹ'], 'mano': ['مانو'], 'rngin': ['رنگین'], 'bangali': ['بنگالی'], 'rupy': ['روپے'], 'rasta': ['راستہ'], 'hun': ['هوں', 'ہوں', 'ھوںج', 'ہوں'], 'dosti': ['دوستی', 'دوستی'], 'maha': ['مہا'], 'majburam': ['مجبورا'], 'under': ['انڈير', 'اندر'], 'kehna': ['کہنا', 'کہنا', 'کہنا'], 'aasmani': ['آسمانی'], 'panah': ['پناہ'], 'hansna': ['ہنسنا'], 'khat': ['خط'], 'fat': ['فات'], 'rohi': ['روہی'], 'boryat': ['بوریت'], 'nida': ['ندا'], 'sochna': ['سوچنا'], 'makhi': ['مکھی'], 'kazmi': ['کاظمی'], 'maza': ['مزا', 'مزہ'], 'ihsasat': ['احساسات'], 'wts': ['وٹس'], 'barh': ['بڑھ', 'بڑھ'], 'haji': ['حاجی'], 'motu': ['موٹو'], 'acquire': ['اککور'], 'head': ['حيڈ', 'ہیڈ'], 'purely': ['پيريلي'], 'janwar': ['جانور'], 'warsa': ['وارسا'], 'thay': ['تھے', 'تھے', 'تھے'], 'honton': ['ہونٹوں'], 'chuke': ['چکے'], 'sege': ['سگے'], 'asadullah': ['اسدولاه'], 'karbala': ['کربلا'], 'shafqat': ['شفقت'], 'all': ['آل'], 'hojata': ['ہوجاتا'], 'udasi': ['اداسی'], 'jaam': ['جام'], 'faizan': ['فیضان'], '11': ['11', '١١'], 'ansariboys': ['انصاری'], 'anjo': ['انجو'], 'lungagirl': ['لونگا'], 'darbanaisey': ['دربان'], 'baano': ['بانو'], 'wah': ['واہ', 'واہ', 'واہ'], 'maghfrat': ['مغفرت'], 'apnanay': ['اپنانے'], 'charcha': ['چرچا'], 'ehsas': ['احساس'], 'afghan': ['افغان'], 'nap': ['ناپ'], 'ink': ['انک'], 'mehroomi': ['محرومی'], 'thore': ['تھوڑے'], 'wasim': ['وسیم', 'وسیم'], 'jalanay': ['جلانے'], 'iraaqi': ['عراقی'], 'sam': ['سام'], 'deka': ['دیکها'], 'okkashan': ['کاشان'], 'user': ['صارف'], 'blky': ['بلکه'], 'tarazo': ['ترازو'], 'bikhre': ['بکھرے'], 'kahey': ['کاہے'], 'saja': ['سجا'], 'afzal': ['افضل', 'افضل'], 'underneath': ['انڈيرنيتھ'], 'rabta': ['رابطہ'], 'dukh': ['دکھ', 'دکھ'], 'mohammad': ['موحامماڈ'], 'qureshi': ['قریشی'], 'iskool': ['اسکول'], 'mood': ['موڈ'], 'zuban': ['زبان'], 'zaleel': ['ذلیل'], 'band': ['بند', 'ہے', 'بند'], 'razi4u': ['رازی'], 'nice': ['نایس', 'نائس'], 'film': ['فلم'], 'marikese': ['ماری'], 'code': ['کوڈ', 'کود', 'کوڈ'], 'sakhti': ['سختی'], 'nal': ['نال'], 'tktey': ['تکتے'], 'bi': ['بای'], 'sacha': ['سچا'], 'kaanch': ['کانچ'], 'qatil': ['قاتل'], 'zowq': ['زوق'], 'snga': ['سنگا'], 'assalam': ['اسلام'], 'samaa': ['سما'], 'angan': ['آنگن'], 'fuzail': ['فضیل'], 'aamir': ['آمر', 'عامر'], 'real': ['ریل', 'ریئل'], 'cool': ['کول'], 'story': ['سٹوري', 'اسٹوری', 'اسٹوری'], 'laitay': ['ليتے'], 'gift': ['گفٹ', 'گفٹ'], 'ki': ['کی', 'کی', 'کی', 'کی', 'کی', 'کام', 'کی', 'کی', 'کی', 'کی', 'کی', 'کی', 'کی', 'کی', 'کی', 'کی', 'کی', 'کی', 'کی', 'کی', 'کی', 'کی', 'کی', 'کی', 'کی', 'کی', 'کی', 'کی', 'کی', 'کی', 'کی', 'کی', 'کی', 'کی', 'کی', 'کی', 'کی', 'کی', 'کی', 'کی', 'کی', 'کی', 'کی', 'کی', 'کی', 'کی', 'کی', 'کی', 'کی', 'کی', 'کی', 'کی', 'کی', 'کی', 'کی', 'کی', 'کی', 'کی', 'کی'], 'roz': ['روز', 'روز'], 'chaha': ['چاہا'], 'dosri': ['دوسری'], 'zra': ['ذرا'], 'lana': ['لانا'], 'keeta': ['کیتا'], 'rastay': ['راستے'], '2': ['2', '٢', 'دو', 'دو', '2', '2'], 'fresh': ['فريش'], 'ghante': ['گھنٹے'], 'janti': ['جانتی'], 'romaan': ['رومان'], 'sitare': ['ستارے'], 'shahzad': ['شہزاد'], 'bnai': ['بنای'], 'pairwi': ['پیروی'], 'sajaya': ['سجایا'], 'programmer': ['پروگرامر', 'پروگراممير'], 'cheezen': ['چیزیں'], 'mohammed': ['موحامميڈ'], 'tag': ['ٹاگ'], 'paise': ['پیسے'], 'awazen': ['آوازیں'], 'ofer': ['آفر'], 'charhao': ['چڑھاؤ', 'چڑھاﺅ'], 'army': ['آرمی'], 'appeal': ['اپپيل'], 'krwao': ['کرواؤں'], 'chay': ['چاۓ', 'چائے'], 'masoomiyat': ['معصومیت'], 'barha': ['بڑھا'], 'le': ['لے', 'لے', 'نہیں', 'لے', 'لے', 'لی', 'لے'], 'doori': ['دوری'], 'i': ['ای', 'اای'], 'chahye': ['چاہی', 'چاہئے', 'چاہئے', 'تھا', 'چاہئے', 'چاہئے'], 'smjhdar': ['سمجھدار'], 'person': ['پيرسون'], 'aqal': ['عقل', 'کرنا'], 'btao': ['بتاؤ', 'بتاﺅ'], 'hoja': ['ہوجا'], 'is': ['اسس', 'اس', 'اس', 'اس', 'اس', 'اس', 'اس', 'اس', 'اس', 'اس', 'اس', 'اس', 'اس', 'اس', 'اس', 'اس', 'اس', 'اس', 'اس', 'اس', 'اس', 'اس', 'اس', 'اس', 'اس', 'اس', 'اس', 'اس', 'اس', 'اس', 'اس'], 'mghrb': ['مغرب'], '200': ['٢٠٠'], 'zer': ['زیر'], 'khoob': ['خوب'], 'hamare': ['ہمارے', 'ہمارے'], 'whats': ['واٹس'], 'khoshi': ['ہوشی'], \"sarmaya'e\": ['سرمایا'], 'achi': ['اچھی', 'اچھی', 'اچھی', 'اچھی', 'اچھی', 'اچھی'], 'shet': ['شيٹ'], 'chat': ['چاٹ'], 'umeed': ['امید', 'امید', 'امید'], 'londy': ['لوند'], 'barasti': ['برستی'], 'afrad': ['افراد'], 'rukhi': ['رخی'], 'mani': ['منی', 'مانی'], 'alag': ['الگ'], 'fazeelat': ['فضیلت'], 'iccr': ['اکڑ', 'اکر'], 'planet': ['پلانيٹ'], 'rokyn': ['روکیں'], 'khudkushi': ['خودکشی'], 'player': ['پلايير', 'پلیئر'], 'fish': ['فش'], 'basta': ['بستا'], 'yani': ['یعنی', 'یعنی'], 'bhok': ['بھوک'], 'iraq': ['عراق'], 'andheron': ['اندھیروں'], 'prho': ['پڑو'], 'pore': ['پورے'], 'trust': ['ٹرسٹ'], 'haqeer': ['حقیر'], 'taraadub': ['تارا'], 'humain': ['ہمیں'], 'siraj': ['سراج'], 'sherwani': ['شیرو'], 'araha': ['آرہا'], 'chuki': ['چکی', 'ہے اس', 'چکی'], 'sentence': ['سینٹینس'], 'singh': ['سنگھ'], 'dihaaray': ['دہاڑے'], 'jera': ['جرا'], 'lutai': ['لٹا'], 'adakaar': ['اداکار'], 'paint': ['پینٹ'], 'tabiyat': ['طبیعت'], 'teri': ['تیری'], 'sajday': ['سجدے'], 'set': ['سیٹ', 'سیٹ'], 'apas': ['اپس', 'آپس'], 'ishaara': ['اشاره'], 'naye': ['نیے'], 'arsalan': ['ارسلان'], 'shrafat': ['شرافت'], 'banti': ['بنتی'], 'bharta': ['بھرتا'], 'alcohol': ['الکوحلٹارزن', 'الکوہو', 'کوھول'], 'lene': ['لینے'], 'mad': ['ماڈ'], 'juma': ['جمعہ'], 'after': ['افٹر'], 'koyal': ['کویل'], 'khandan': ['خاندان'], 'jork': ['جوڑ'], 'pinjray': ['پنجرے'], 'bithana3': ['بٹھانا'], 'shahadat': ['شہادت'], 'shakoor': ['شکور'], 'rasmi': ['رسمی'], 'keen': ['کين'], 'tere': ['تیرے'], 'rehman': ['رحمان'], 'zainab': ['زینب'], 'arbaz20': ['ارباز'], 'kpeeta': ['پیتا'], 'tujhe': ['تجھے', 'تجھے'], 'hazir': ['حاضر'], 'hydrabad': ['حیدر'], 'qandeel': ['قندیل'], 'alhamdolillah': ['الحمد'], 'manane': ['منانے'], 'ungliyon': ['انگلیوں'], '20': ['٢٠'], 'rehna': ['رہنا', 'چاہئے', 'رہنا'], 'badaam': ['بادام'], 'galia': ['گلیاں'], 'want': ['وانٹ'], 'half': ['هاف'], 'burn': ['بيرن'], 'iqbal': ['اقبال'], 'bathroom': ['باته'], 'lrkion': ['لڑکیوں'], 'bakhair': ['بخیر'], 'sardaron': ['سرداروں'], 'logon': ['لوگوں', 'لوگوں', 'لوگوں', 'لوگوں'], 'like': ['لکي'], 'bnao': ['بناؤ'], 'got': ['گوٹ'], 'sona': ['سوں'], 'my': ['مي'], 'deen': ['دین', 'دین', 'دین', 'دین'], 'mazar': ['مزار'], 'phar': ['پھاڑ'], 'chahne': ['چاہنے'], 'two': ['ٹوو'], 'hoor': ['حور'], 'ghareeb': ['غریب'], 'badlay': ['بدلے'], 'awam': ['عوام'], 'rehmana': ['رحمانہ'], 'abu': ['ابو'], 'tenu': ['تنوع', 'تینوں'], 'aasi': ['آسی'], 'qbren': ['قبریں'], 'simt': ['سمت'], 'stdy': ['سٹڈی'], 'likhna': ['لکھنا'], 'badalti': ['بدلتی'], 'parhna': ['پڑھنا'], 'doob': ['ڈوب'], 'khatarnak': ['خطرناک'], 'great': ['گريٹ'], 'smj': ['سمجھ'], 'toheen': ['توہین'], '3': ['٣', '3', 'تین', '3', '3', '3', '3'], 'talabilm': ['طالبعلم'], 'shuk': ['شق'], '11pmparya': ['۱۱'], 'dba': ['دبا'], 'afridi': ['آفریدی'], 'basen': ['بسیں'], 'card': ['کارڈ'], 'sachi': ['سچی'], 'jesi': ['جیسی'], 'america': ['امریکہ'], 'neeli302': ['نیلی'], 'nawab': ['نواب'], 'chup': ['چپ'], 'dasht': ['دشت'], 'gardi': ['گردی'], 'glow': ['گلو'], 'aao': ['آؤں'], 'krdi': ['کردی'], 'larkian': ['لڑکیاں'], 'dushmane': ['دشمنی'], 'old': ['ولڈ'], 'job': ['جوب', 'جاب', 'جاب'], 'flag': ['فلاگ'], '250': ['٢٥٠'], 'chot': ['چوٹ'], 'nasir': ['ناصر'], 'preet': ['پریت'], 'dhoka': ['دھوکا', 'دھوکہ'], 'tol': ['تول'], 'maiz': ['ميز'], 'philosopher': ['پحلوسوپحير'], 'shia': ['شیاء'], 'nidhal': ['نڈھال'], 'eye': ['ييي'], 'good': ['گووڈ'], 'jouni': ['جونی'], 'zardari': ['زرداری'], 'kashmakash': ['کشمکش'], 'laden': ['لادن'], 'mukhatib': ['مخاطب'], 'karke': ['کرکے'], 'road': ['روڈ'], 'khula': ['خلا'], 'ilawa': ['علاوہ', 'علاوہ'], 'log': ['لوگ', 'لوگ', 'لوگ', 'لوگ', 'لوگ', 'لوگ', 'لوگ', 'لوگ', 'لوگ', 'لوگ', 'لوگ', 'لوگ'], 'khof': ['خوف'], 'jagaya': ['جگایا'], 'bar': ['بار', 'باربار'], 'darje': ['درجے'], 'kamyaab': ['کامياب'], 'jalil10': ['جلیل'], 'ujaly': ['اجالے'], 'khaansi': ['کھانسی'], 'lari': ['لڑی'], 'kehte': ['کہتے', 'کہتے'], 'mittay': ['مٹتے'], 'parta': ['پڑتا', 'پڑتا'], 'sunan': ['سنان'], 'umeedon': ['امیدوں', 'امیدوں'], 'siwa': ['سوا'], 'cheetiye': ['چیتے'], 'spurd': ['سپرد'], 'hahaha': ['ہاہاہا', 'ھا'], 'kesi': ['کیسی'], 'mahajir': ['مہاجر'], 'kimat': ['قیمت'], 'kotesri': ['تیسری'], 'majid': ['ماجد'], 'follow': ['فوللو'], 'kaman': ['کمان'], 'mansoobtum': ['منسوب'], 'haseeb': ['حسیب'], 'mithasjab': ['مٹھاس'], 'selab': ['سیلاب'], 'kheilta': ['کھیلتا'], 'wasta': ['واسطہ'], 'balochi': ['بلوچی'], 'ajab': ['عجب'], 'chali': ['چلی', 'حالی'], 'halchal': ['ہلچل'], '15': ['١٥', '۱۵'], 'jeeta': ['جیتا', 'جیتا'], 'pukhto': ['پختو'], 'adhoraø¤!œ£ent': ['ادھورا'], 'daily': ['ڈیلی'], 'khwahish': ['خواہش'], 'dada': ['دادا'], 'kon': ['کون', 'کون', 'کون', 'کون', 'کون', 'کون'], 'nami': ['نمی'], 'doing': ['ڈوینگ'], 'mahiyarab': ['ماہیا'], 'sana': ['ثنا'], 'moj': ['موج'], 'bnaya': ['بنایا'], 'hyat': ['حیات'], 'tujh': ['تجھ'], 'limu': ['لیموں'], 'islamic': ['اسلامیک'], 'trip': ['ٹرپ'], 'khamoshi': ['خاموشی', 'خاموشی', 'خاموشی'], 'dehe': ['دہی'], 'truth': ['تروته'], 'mulaqat': ['ملاقات'], 'wafat': ['وفات'], 'phelata': ['پھیلاتا'], 'ajmalmmdaslam': ['اجمل'], 'sawera': ['سویرا'], 'slap': ['سلاپ'], 'october': ['کٹوبير'], 'mitana': ['مٹانا'], 'god': ['گوڈ'], 'ubharnay': ['ابھرنے'], 'prince': ['پرنس', 'پریس'], 're': ['رے'], 'multitecsawariya': ['ملٹی'], 'sonu': ['سونو'], 'jazzy': ['جاز'], 'baha': ['بها'], 'milawt': ['ملاوٹ'], 'tang': ['تنگ', 'کر رہی'], 'khushiyon': ['خوشیوں'], 'khatre': ['خطرے'], 'jlne': ['جلنے'], 'btain': ['بٹے'], 'lo': ['لو', 'لوںگا', 'لؤ', 'لو'], 'gain': ['گیں'], 'kal': ['کال', 'کل', 'کل', 'کل'], 'mili': ['ملی', 'ملی'], 'zana': ['زنا'], 'talkshalk': ['ٹالک'], 'jokes': ['جوکس', 'جوک'], 'scren': ['سکرین'], '500': ['٥٠٠'], 'niazi011': ['نیازی'], 'jani': ['جانی'], 'assembly': ['اسيمبلي'], 'bethy': ['بیٹھی'], 'che': ['چی'], 'pocha': ['پوچھا'], 'roshan': ['روشن'], 'brain': ['برين'], 'skip': ['سکپ'], 'jeena': ['جینا'], 'also': ['آلسو'], 'honor': ['حونور'], 'wehshat': ['وحشت'], 'dosaro': ['دوسروں'], 'raw': ['راو'], 'zalim': ['ظالم', 'ظالم'], 'june': ['جيني'], 'sabr': ['صابر'], 'iqra': ['اقرا'], 'stringzoye': ['سٹرنگز'], 'sadqay': ['صدقے'], 'raseli': ['رسیلی'], 'puranay': ['پرانے'], 'chemistryblogsadaf': ['کیمسٹری'], 'paish': ['پیش'], 'bulding': ['بلڈنگ'], 'momineen': ['مومنین'], 'rent': ['رينٹ'], 'dosto': ['دوستوں'], 'parhta': ['پڑھتا'], 'faisla': ['فیصلہ'], 'mante': ['مانتے'], 'krdgi': ['کردگی'], 'honge': ['ہونگے'], 'behta': ['بہتا'], 'bhayia': ['بھیا'], 'adhoori': ['ادھوری'], 'larazte': ['لرزتے'], 'kharab': ['خراب', 'خراب'], 'younis': ['یونس'], 'go': ['گو'], 'raah': ['راہ'], 'mishaaao': ['میشا'], 'bahane': ['بہانے', 'کا بوجھ'], 'agni': ['اگنی'], 'sharmaya': ['شرمایا'], 'zahen': ['ذہین'], 'yes': ['ييس', 'ییس'], 'ajheeran': ['اجیرن'], 'kalo': ['کالو'], 'piti': ['پیٹی'], 'kiun': ['کیوںکہ'], 'lagatar': ['لگاتار'], 'non': ['نون'], 'swim': ['سوم'], 'mnahil': ['مناہل'], 'jaogi': ['جوگی'], 'haleem': ['حلیم'], 'banda': ['بندا', 'ایک'], 'fast': ['فاسٹ'], 'silk': ['سلک'], 'samne': ['سامنے'], 'suroor': ['سرور', 'سرور'], 'rubbish': ['ريببش'], 'taulo': ['تالو'], 'masla': ['مثلا'], 'prety': ['پریتی'], 'panda': ['پانڈا'], 'patloon': ['پتلون'], 'faslegul': ['فصل'], 'doobnay': ['ڈوبنے'], 'stall': ['سٹال'], 'bahao': ['بہاو'], 'thamay': ['تھامے'], 'pity': ['پٹي'], 'konse': ['کونسے'], 'likhne': ['لکھنے'], 'warq': ['ورق', 'ورقہ'], 'jain': ['جین'], 'charsiokoi': ['چارسو'], 'rashiid': ['راشد'], 'rep': ['ریپ'], 'stop': ['سٹوپ'], 'likhti': ['لکھتی'], 'rabia': ['رابعہ'], 'daryauon': ['دریاؤں'], 'saza': ['سزا'], 'aziz': ['عزیز'], 'jasmin': ['جاسم'], 'krni': ['کرنی'], '17': ['١٧'], 'start': ['سٹارٹ', 'اسٹارٹ'], 'stupid': ['سٹوپڈ'], 'lunch': ['لنچ'], 'wahab': ['وہاب'], 'hafeez': ['حفیظ'], 'isa': ['اسا'], 'kabhokatha': ['بھوکا'], 'tyre': ['ٹير'], 'chiknikuriraja': ['چکنی'], 'zindagane': ['زندگانی'], 'pora': ['پورا'], 'trunk': ['ٹرينک'], 'snkk': ['سنک'], 'idea': ['ادیا', 'آئیڈیا'], 'nazish': ['نازش'], 'rajput': ['راجپوت'], 'ye': ['ي', 'یے', 'یہ', 'یہ', 'یہ', 'یہ', 'یہ', 'یہ', 'یہ', 'یہ', 'یہ', 'یہ', 'یہ', 'کا', 'مول', 'یہ', 'تم', 'یہ', 'یہ', 'یہ', 'یہ', 'یہ', 'یہ'], 'minhas': ['منہاس'], 'imprisonment': ['مپرسونمنٹ'], 'intro': ['انٹروڈکشن'], 'kaat': ['کاٹ'], 'maseeha': ['مسیحا'], 'japan': ['جاپان'], 'warn': ['وارن'], 'rehte': ['رہتے', 'رہتے'], 'nibhaya': ['نبھایا'], 'girl': ['گرل'], 'brwe': ['بروے'], 'galtiob': ['غلطیوں'], 'alcoholnahi': ['الکوحل'], 'dair': ['دير', 'دیر'], 'shariyat': ['شریعت'], 'akhund': ['اخوند'], 'bimaari': ['بیماری'], 'ankhon': ['آنکھوں'], 'mehshar': ['محشر'], 'parwah': ['پرواہ'], 'itwaar': ['اتوار'], 'chahon': ['چاہوں'], 'israr': ['اسرار'], 'pidda': ['پیڈ'], 'minimum': ['منميم'], 'poch': ['پوچھ'], 'ura': ['اڑا', 'اڑا'], 'krwa': ['کروا'], 'aja': ['آجا'], 'apne': ['اپنے', 'اپنے', 'اپنے', 'اپنے', 'اپنے', 'اپنے', 'اپنے', 'اپنے', 'اپنے', 'اپنے', 'اپنے', 'اپنے'], 'dooba': ['ڈوبا'], 'lagana': ['لگانا', 'لگانا'], 'maand': ['ماند'], 'sending': ['سینڈنگ'], 'mah': ['ماہ'], 'karega': ['کریگا'], 'paate': ['پاتے'], 'chalak': ['چالاک'], 'malal': ['ملال'], 'deewaaron': ['دیواروں'], 'muslmanu': ['مسلمانو'], 'anaa': ['انا'], 'future': ['فيٹير', 'فیوچر'], 'seekha': ['سیکھا'], 'logo': ['لوگو', 'لوگوں'], 'ramgar': ['رام'], 'tarapta': ['تڑپتا'], 'ajkal': ['آجکل'], 'krana': ['کرانا'], 'anoushey': ['انوشے'], 'sundr': ['سندر'], 'nazuk': ['نازک'], 'aunti': ['آنٹی'], 'keechar': ['کیچڑ'], 'kachra': ['کچرا'], 'khudaya': ['خدایا'], 'ajdaad': ['اجداد'], 'shami': ['شامی'], 'behosh': ['بیہوش'], 'boli': ['بولی'], 'charha': ['چڑھا'], 'chachey': ['چاہیں'], 'sken': ['سکیں'], 'ga': ['گا', 'گا', 'گا', 'گا', 'گا', 'گا', 'گا', 'گا', 'گا', 'گا', 'دن', 'گا'], 'farsh': ['فرش'], 'da': ['د', 'دا'], 'knot': ['کنوٹ'], 'aisa': ['ایسا', 'ایسا', 'ایسا', 'ایسا', 'ایسا', 'ایسا'], 'nine': ['ناین'], 'nikla': ['نکلا'], 'internet': ['انٹرنیٹ', 'انٹرنیٹ', 'انٹرنیٹ'], 'pillow': ['پللو'], 'zaheer': ['ظہیر'], 'toton': ['طوطوں'], 'yaaden': ['یادیں'], 'hans': ['هنس'], 'step': ['سٹيپ', 'سٹیپ', 'سٹیپ'], 'walon': ['والوں', 'والوں'], 'lashen': ['لاشیں'], 'apni': ['اپنی', 'اپنی', 'اپنی', 'اپنی', 'اپنی', 'اپنی', 'اپنی', 'اپنی'], 'wale': ['والے', 'والے', 'والے', 'والے'], 'sach': ['سچ'], 'tareen': ['ترین', 'ترین'], 'bachi': ['بچی'], 'aus': ['اوس'], 'mushhoor': ['مشہور'], 'innocent': ['اننکينٹ'], 'tukra': ['ٹکرا'], 'this': ['تہس', 'تھس'], 'harsh': ['حارش'], 'mirza': ['مرزا'], 'rukhsana': ['رخسانہ'], 'inaam': ['انعام'], 'sangakara': ['سنگاکارا'], 'lrai': ['لڑائی'], 'bheeg': ['بھیگ'], 'likhte': ['لکھتے'], 'hatthon': ['ہاتوں'], 'poni': ['پونڈ'], 'gzrega': ['گزرے'], 'tao': ['تاو'], 'kscnumaz': ['کسک'], 'perwaaz': ['پرواز'], 'tpkta': ['ٹپکتا'], 'api': ['آپی'], 'phook': ['پھونک'], 'inhi': ['انہی'], 'batsman': ['بٹس'], 'chuka': ['چکا', 'چکا'], 'raqs': ['رقص'], 'wazaht': ['وضاحت'], 'kitna': ['کتنا', 'کتنا'], 'held': ['ھیلڈ'], 'dehekte': ['دہکتے'], 'farmaya': ['فرمایا'], 'bharosay': ['بھروسے'], 'rasool': ['رسول'], 'musalman': ['مسلمان'], 'ghami': ['غمی'], 'mastana': ['مستانہ'], 'andar': ['اندر'], 'malool': ['ملول'], 'zabr': ['زبر'], 'kor': ['کور'], 'sha': ['شا'], 'sunsan': ['سنسان'], 'dekha': ['دیکھا', 'دیکھا', 'دیکھا', 'دیکھا', 'لکھا'], 'kahe': ['کہے'], 'rose': ['روسے'], 'haaro': ['ہارو'], 'rana': ['رانا'], 'chwal': ['چول'], 'namazi': ['نمازی'], 'pas': ['پاس', 'پاس', 'پاس', 'پاس'], 'khilti': ['کھلتی'], 'oka': ['وکا'], 'pochi': ['پوچھی'], 'bhulana': ['بھولنا'], 'dolly': ['ڈولی'], 'sheri55': ['شیری'], 'google': ['گوگل'], 'atraaf': ['اطراف'], 'koney': ['کونے'], 'softchat': ['سوفٹ'], 'talian': ['تالیاں'], 'munafqat': ['منافقت'], 'mast': ['مست'], 'tabeeb': ['طبیب'], 'ajeeb': ['عجیب', 'عجیب'], 'lake': ['لاکي'], 'soomro': ['سومورو'], 'saad': ['سعد'], 'buzdar£(taunsa£': ['بزدار'], 'aakar': ['آکر'], 'fareedi': ['فریدی'], 'aurton': ['عورتوں'], 'letter': ['ليٹٹر'], 'aj': ['آج', 'اج', 'آج', 'آپ', 'آج', 'آج', 'آج'], 'aakhri': ['آخری'], 'unko': ['انکو'], 'raja': ['راجا'], 'sumaya': ['سمایا'], 'ikhtiyarat': ['اختیارات'], 'lal': ['لعل'], 'muth': ['متھ'], 'nibhatay': ['نبھاتے'], '100': ['١٠٠'], 'wajood': ['وجود', 'وجود'], 'ponch': ['پونچھ'], '4': ['٤', '4'], 'darkeyes': ['ڈارک'], 'aftab': ['آفتاب'], 'zoq': ['ذوق'], 'balon': ['بالوں'], 'hajat': ['حاجت'], 'parasti': ['پرستی'], 'bhagna': ['بھاگنا'], 'seeru': ['سیرو'], 'zubair': ['زبیر'], 'qurban': ['قربان'], 'jala': ['جلا'], 'qyamat': ['قیامت'], 'dreamzz': ['ڈریمز'], 'titli': ['تتلی'], 'muskarahat': ['مسکراہٹ'], 'rakhni': ['رکھنی'], 'bharosa': ['بھروسہ'], 'doobti': ['ڈوبتی'], 'rahin': ['رہیں'], 'nabi': ['نبی'], 'rafaqat': ['رفاقت'], 'raftagan': ['رفتگاں'], 'dharka': ['دھڑکا'], 'bombom': ['بوم'], 'shop': ['شوپ'], 'hakdar': ['حقدار'], 'diwana': ['دیوانہ'], 'ali': ['علی', 'علیؓ'], 'nishani': ['نشانی'], 'qualified': ['کوالفيڈ'], 'bech': ['بیچ'], 'raho': ['رہو', 'رہو'], 'fawad': ['فواد'], 'adha': ['آدھا'], 'razi': ['رضی'], 'tootne': ['ٹوٹنے'], 'mizaj': ['مزاج'], 'korey': ['کورے'], 'mehr': ['مہر'], 'ibadat': ['عبادت'], 'kashmiri': ['کشم'], 'ungli': ['انگلی'], 'junaid12': ['جنید'], 'taron': ['تاروں'], 'tark': ['ترک'], 'arty': ['آرٹی'], 'tumhen': ['تمھیں'], 'jaga': ['جگا', 'جگہ', 'جگہ'], 'bekhudi': ['خودی'], 'ache': ['اچھے', 'اچھے'], 'ameen': ['امين', 'آمین'], 'marzi': ['مرضی', 'مرضی'], 'paya': ['پایا'], 'ghr': ['گهر'], 'kaliyoo': ['کلیوں'], 'part': ['پارٹ'], 'infidelity': ['انفڈيلٹي'], 'khurmi': ['خرمی'], 'moon': ['مون'], 'hotgirl302': ['ہوٹ'], 'masrof': ['مصروف'], 'admi': ['آدمی'], 'concrete': ['کونکريٹي'], 'daman': ['دامن'], 'taraash': ['تراش'], 'test': ['ٹیسٹ', 'واش'], 'niswar': ['نسوار'], 'aa': ['آ', 'آ', 'آ', 'آ', 'آچکی', 'آ'], 'chehre': ['چہرے'], 'barbad': ['برباد', 'برباد'], 'janane': ['جاننے'], 'dog': ['ڈوگ'], 'chirag': ['چراغ'], 'kharch': ['خرچ'], 'pahar': ['پہاڑ'], 'sadi': ['سادی'], 'itafaq': ['اتفاق'], 'namos': ['ناموس'], 'dunya': ['دنیا', 'دنیا'], 'uthna': ['اٹھنا'], 'perho': ['پرہو'], 'aggregate': ['اگگريگيٹ'], 'chkron': ['چکروں'], 'cast': ['کاسٹ'], 'mazor': ['معذور'], 'manaya': ['منایا'], 'hmmmmm': ['ہمم'], 'nagwar': ['ناگوار'], 'pain': ['پين'], 'ally': ['اللي'], 'manata': ['مناتا'], 'actor': ['اکٹر'], 'andheray': ['اندھیرے'], 'mujay': ['مجے', 'مجھے'], 'khafa': ['خفا'], 'talkh': ['تلخ'], 'able': ['ابل'], 'bikta': ['بکتا'], 'aadatein': ['عادتیں'], 'rooms': ['رومز'], 'lakh': ['لاکھ'], 'football': ['فٹبال'], 'juharabad': ['جوہر'], 'pina': ['پینا'], 'tukron': ['ٹکڑوں'], 'sarika': ['سارک'], 'unlmitd': ['لمیٹڈ'], 'metr': ['میٹر'], 'tell': ['ٹیل'], 'dhamakay': ['دھماکے'], 'kalpana': ['کلپنا'], 'qaboo': ['قابو'], 'azeem': ['عظیم'], 'aana': ['آنا'], 'khubsurat': ['خوبصورت', 'خوبصورت'], 'dari': ['داری'], 'khon': ['خوں'], 'rehne': ['رهنے'], 'ghussay': ['گھسے'], 'hanste': ['ہنستے'], 'samajhta': ['سمجھتا'], 'breakfast': ['بريکفاسٹ'], 'shama': ['شمع'], 'ayesha': ['ایشا'], 'tina': ['ٹینا'], 'sang': ['سنگ'], 'koni': ['کونی'], 'sheikh': ['شیخ'], 'mazay': ['مزے'], 'lgani': ['لگانی'], 'ntasha': ['نتاشا'], 'baanhon': ['باہوں'], 'okay': ['وکے'], 'silamat': ['سلا'], 'friend': ['فرينڈ'], 'buri': ['باری', 'بری', 'بری'], 'mayaar': ['معیار'], 'rafzi': ['رافضی'], 'gehray': ['گہرے'], 'nakami': ['ناکامی', 'ناکامی'], 'ninety': ['ننيٹي'], 'beth': ['بیٹھ'], 'kijye': ['کیجیئے'], 'laya': ['لایا'], 'yap': ['یاپ'], 'influence': ['انفليينس'], 'wahin': ['وہیں', 'وہیں'], 'zaida': ['زیدہ', 'زیادہ'], 'sota': ['سوتا'], 'haasa': ['ہاسا'], 'itni': ['اتنی', 'اتنی', 'اتنی', 'اتنی', 'اتنی'], 'steel': ['سٹيل'], 'mubtala': ['مبتلا'], 'guzrta': ['گزرتا'], 'lakiron': ['لکیروں'], 'gado': ['گدو'], 'jurm': ['جرم'], 'agaya': ['آگیا', 'آگیا'], 'frm': ['فرم'], 'mung': ['منگ'], 'sialkot': ['سیالکوٹ'], 'diye': ['دیے'], 'kason': ['کسوں'], 'kitne': ['کتنے', 'کتنے'], 'saka': ['سکا'], 'manzor': ['منظور', 'منظور', 'منظور'], 'za': ['زا'], 'deobandi': ['دیوبند'], 'bolty': ['بولتے'], 'bolta': ['بوتا'], 'forty': ['فورٹي'], 'jhukna': ['جھکنا'], 'masoma': ['معصومہ'], 'dhala': ['ڈھلا'], 'landa': ['لان'], 'during': ['دورنگ'], 'anwar': ['انور'], 'tahreeren': ['تحریریں'], 'joint': ['جونٹ'], 'thandak': ['ٹھنڈک'], 'muskratay': ['مسکراتے'], 'teacher': ['ٹیچر'], 'lend': ['لينڈ'], 'group': ['گروپ'], 'pioneer': ['پانیر'], 'yahi': ['یہی', 'یہی', 'یہی'], 'krwani': ['کروانی'], 'chandni': ['چاندنی'], 'khari': ['کھڑی'], 'sho': ['شوٹ'], 'anjan': ['انجان'], 'its': ['اٹس'], 'lambay': ['لمبے'], 'score': ['سکور', 'اسکور', 'اسکور'], 'jawad': ['جواد'], 'hosla': ['حوصلہ'], 'asma': ['اسما'], 'utho': ['اٹھو'], 'geela': ['گیلا'], 'tumhari': ['تمہاری'], 'aadi': ['عادی'], 'ghata': ['گھٹا'], 'numbr': ['نومبر'], 'gstones': ['ستون'], 'shesha': ['شیشہ'], 'tootay': ['ٹوٹے'], 'kisi': ['کسی', 'کسی', 'کسی', 'کسی', 'کسی', 'کسی', 'کسی', 'کسی', 'کسی', 'کسی', 'کسی', 'کسی', 'کسی', 'کسی', 'کسی'], 'akash': ['آکاش'], 'mujh': ['مجھ', 'مجھ', 'مجھ'], 'bangladesh': ['بنگلادیش'], 'ulatne': ['الٹنے'], 'sans': ['سانس'], 'dilon': ['دلوں', 'دلوں'], 'killing': ['کللنگ'], 'hard': ['حارڈ'], 'roni': ['رونی'], 'rehan': ['ریحان'], 'chalnay': ['چلنے'], 'topic': ['ٹوپک'], 'think': ['تھنک'], 'patri': ['پٹری'], 'hojao': ['ہوجاؤ'], 'angotha': ['انگوٹھا'], 'law': ['لاو'], 'zahid': ['زاہد'], 'sunta': ['سنتا'], 'h': ['ہپ', 'ہے', 'ہے', 'ہے'], 'bhatkay': ['بھٹکے'], 'gaar': ['گار'], 'skm': ['سکم'], 'sehra': ['صحرا'], 'shortcut3': ['شورٹ'], 'line': ['لاین'], 'jahan': ['جهان', 'جہاں', 'جہاں', 'جہاں'], 'ghum': ['گھوم', 'غم میں'], 'umad': ['امڈ'], 'bula': ['بلا'], 'mahi': ['ماہی'], 'mehrban': ['مہربان'], 'bhool': ['بھول', 'بھول'], 'dena': ['دینا', 'دینا'], 'baraakss': ['برعکس'], 'palkon': ['پلکوں'], 'danish': ['دانش'], 'labon': ['لبوں'], 'waqiye': ['واقعے'], 'sahb': ['صاحب'], 'adad': ['عدد'], 'tumen': ['تمیں'], 'jaon': ['جاوں'], 'qom': ['قوم', 'قوم', 'قوم'], 'uske': ['اسکے'], 'sanwarti': ['سنوارتی'], 'jalti': ['جلتی'], 'gherat': ['غیرت'], 'maheroozwaalaikum': ['مہروز'], 'namaz': ['نماز'], 'nazi': ['نازی'], 'power': ['پووڑ'], 'ablees': ['ابلیس'], 'both': ['بوتھ'], 'phal': ['پھل'], 'intzar': ['انتظار'], 'hisar': ['حصار'], 'khareed': ['خرید'], 'bne': ['بنے', 'بنے'], 'bnda': ['بندہ'], 'pachaas': ['پچاس'], 'sabun': ['صابن'], 'blacker': ['بلاکر'], 'nom': ['نوم'], 'ibraheem': ['ابراہیم'], 'jazbe': ['جذبے'], 'kharida': ['خریدا'], 'pyara': ['پیارا'], 'ungliyan': ['انگلیاں'], 'marizo': ['مریضوں'], 'ahmad': ['احماڈ'], 'train': ['ٹرین'], 'masti': ['مستی'], 'sajid': ['ساجد'], 'dakhil': ['داخل'], 'heran': ['حیران'], 'nikal': ['نکال', 'نکال'], 'mout': ['موت'], 'guilt': ['گولٹ'], 'soti': ['سوتی'], 'khawaja': ['خواجہ'], 'branch': ['برانچ'], 'u': ['امبر'], 'ka': ['کا', 'کے', 'کا', 'کا', 'کا', 'کا', 'کا', 'کا', 'کا', 'کا', 'کیا', 'کہ', 'کا', 'کا', 'کا', 'کا', 'کا', 'ہی', 'کا', 'کا', 'کا', 'اور', 'ہے-', 'کا', 'کا', 'کا', 'کا', 'کا', 'کا', 'کا', 'کا', 'دیتے', 'ہے', 'کا', 'کا', 'کا', 'کا', 'کا', 'کا', 'کا', 'کا', 'کا', 'کا'], 'alweda': ['الوداع'], 'afaq': ['آفاق'], 'cherry': ['چ'], 'mdl': ['مڈل'], 'kare': ['کرے', 'کرے', 'کرے', 'کرے'], 'dekhni': ['دیکھنی'], 'zbrdast': ['زبردست'], 'ya': ['یا', 'یا', 'یا', 'یہ', 'یا', 'بہت', 'یا'], 'larka': ['لڑکا', 'لڑکا', 'لڑکا', 'لڑکا'], 'paper': ['پاپير'], 'lakeer': ['لکیر'], 'hijab': ['حجاب'], 'ja': ['جا', 'جا', 'جا'], 'nu': ['نوں'], 'maria': ['ماریا'], '160': ['١٦٠'], 'smjhne': ['سمجھنے'], 'karwa': ['کڑوا'], 'choha': ['چوہا'], 'police': ['پولیس', 'پولیس'], 'dosh': ['دوش'], 'kamra': ['کمرا'], 'nafees': ['نفیس'], 'lahore': ['لاهور', 'لاہور'], 'naina': ['نینا'], 'zarqaw1y': ['زرقا'], 'kanjosi': ['کنجوسی'], 'ifrah': ['افرا'], 'pooron': ['پوروں'], 'uncle': ['انکل'], 'egg': ['يگگ'], 'masomen14labikyahussainkisi': ['معصومین'], 'haerani': ['حیرانی'], 'rop': ['روپ'], 'yasir': ['یاسر'], 'masha': ['ماشاء'], 'lagti': ['لگتی'], 'taskeen': ['تسکین'], 'mobirock': ['موبی'], 'chilaya': ['چلایا'], 'chaho': ['چاہو'], 'latikehti': ['لاتی'], 'rag': ['راگ'], 'agaz': ['آغاز'], 'barson': ['برسوں'], 'paroo1me': ['پارو'], 'anjane': ['انجانے'], 'attend': ['اتینڈ'], 'phoncha': ['پہونچا'], 'bees': ['بيس'], 'naraz': ['ناراض'], 'idhr': ['ادھر'], 'qabool': ['قبول'], 'zya': ['زیا'], 'rukn': ['رکن'], 'bta': ['بتا', 'بتا'], 'khatir': ['خاطر'], 'ghalib': ['غالب'], 'chwkidar': ['چوکیدار'], 'bhoolta': ['بھولتا'], 'salam': ['سلام'], 'try': ['ٹري'], 'pakron': ['پکڑوں'], 'socha': ['سوچا'], 'hue': ['ہوے', 'ہوئے'], 'naaz': ['ناز'], 'contribute': ['کونٹربيٹي'], 'dalta': ['ڈالتا'], 'ainda': ['آیندہ', 'آئندہ', 'آئندہ'], 'house': ['حويوز'], 'darti': ['ڈرتی'], 'manate': ['مناتے'], 'jung': ['جنگ'], 'tehqeeq': ['تحقیق', 'تحقیق'], 'blasts!m': ['بلاسٹ'], 'deewangi': ['دیوانگی'], 'sportsman': ['سپورٹس'], 'aitraaz': ['اعتراض'], 'bio': ['بیولوجی'], 'taqseem': ['تقسیم'], 'zr': ['ذ'], 'te': ['تے'], 'khul': ['کھل', 'کھل'], 'oil': ['آئل'], 'kati': ['کٹی'], 'hoi': ['ہوئی', 'ہوئی'], 'payaz': ['پیاز'], 'daal': ['ڈال'], 'kar': ['کر', 'کر', 'کر', 'کر', 'بات', 'کر', 'کر', 'کر', 'کر', 'کر', 'کر', 'کر', 'کر', 'کر', 'کر', 'کر', 'کر', 'کر', 'کر', 'کر', 'کر'], 'light': ['لائٹ', 'لائٹ'], 'brown': ['براﺅن'], 'karain': ['کریں', 'کریں', 'کریں'], 'lehson': ['لہسن'], 'adrak': ['ادرک'], 'paste': ['پیسٹ'], 'dain': ['دیں'], 'lye': ['لئے'], 'kety': ['کہتے'], 'dosro': ['دوسروں'], 'bilkul': ['بالکل', 'بالکل', 'بالکل', 'بالکل'], 'involve': ['انوالو'], 'merzi': ['مرضی'], 'ker': ['کر', 'کر', 'کر', 'کر', 'تھی', 'کر', 'کر', 'کر', 'کر', 'کر', 'کر'], 'lay': ['لیں', 'لے'], 'os': ['اس', 'اس', 'اس', 'اس'], 'day': ['دے', 'دے'], 'sekty': ['سکتے'], 'saktay': ['سکتے'], 'nhi': ['نہیں', 'نہیں', 'نہیں', 'نہیں', 'نہیں', 'نہیں', 'نہیں', 'نہیں', 'نہیں', 'نہیں'], 'nay': ['نے', 'نے', 'نے', 'نے', 'نے'], 'short': ['شارٹ', 'شارٹ'], 'khelo': ['کھیلو'], 'gey': ['گے', 'گے'], 'becharay': ['بیچارے'], 'nahin': ['نہیں', 'نہیں', 'نہیں'], 'khelon': ['کھیلوں'], 'hia': ['ہے', 'ہے'], 'hawaon': ['ہواﺅں'], 'mian': ['میں'], 'hoon': ['ہوں', 'ہوں', 'ہوں', 'ہوں', 'ہوں', 'ہوں', 'ہوں', 'ہوں'], 'aaj': ['آج', 'آج', 'آج', 'آج', 'آج', 'عید', 'آج'], 'khushi': ['خوشی', 'خوشی', 'خوشی'], 'ke': ['کہ', 'کہ', 'کہ', 'کی', 'کی', 'کی', 'کے', 'کے', 'کی', 'کی', 'کی', 'کہ', 'کے', 'کے', 'کے', 'کے', 'کے', 'کے', 'کے', 'کی', 'کے', 'کے', 'کے', 'کے', 'کے', 'کے', 'کے', 'کے', 'کے', 'کے', 'کی', 'کے', 'کے', 'کہ', 'کے', 'کہ', 'کہ', 'کے', 'کے', 'کے', 'کے', 'کہ'], 'sub': ['سب', 'سب', 'سب', 'سب', 'سب'], 'dum': ['دم', 'دم'], 'nazar': ['نظر', 'ناراض', 'نظر'], 'performance': ['پرفارمنس'], 'woh': ['وہ', 'وہ', 'اپنے', 'رہتی', 'وہ', 'وہ', 'وہ', 'وہ', 'وہ', 'وہ', 'محبت', 'وہ', 'وہ', 'وہ', 'وہ'], 'badtameez': ['بدتمیز', 'بدتمیز'], 'jate': ['جاتے'], 'sehmay': ['سہمے'], 'hoe': ['ہوئے', 'ہوئی', 'ہوئی'], 'shaklen': ['شکلیں'], 'bhi': ['بھی', 'بھی', 'بھی', 'بھی', 'بھی', 'بھی', 'بھی', 'چاہنے', 'بھی', 'بھی', 'بھی', 'بھی', 'کر', 'بھی', 'بھائی', 'بھی', 'بھی', 'بھی', 'بھی', 'بھی', 'بھی', 'بھی', 'بھی', 'بھی', 'بھی', 'بھی', 'بھی', 'بھی', 'بھی', 'بھی', 'بھی', 'بھی', 'بھی', 'بھی', 'بھی', 'بھی', 'بھی'], 'honi': ['ہونی', 'ہونی', 'ہونی', 'ہونی'], 'pr': ['پر', 'پڑ'], 'security': ['سیکیوریٹی'], 'active': ['ایکٹیو', 'ایکٹیو'], 'kia': ['کیا', 'کیا', 'کیا', 'کیا', 'کیا'], 'connect': ['کنیکٹ'], 'pursa': ['پرسہ'], 'kerne': ['کرنے'], 'bhare': ['بھرے'], 'koi': ['کوئی', 'کوئی', 'کوئی', 'کوئی', 'کوئی', 'کوئی', 'کوئی', 'اس', 'کوئی', 'کوئی', 'کوئی', 'کوئی', 'کوئی', 'کوئی', 'کوئی', 'کوئی', 'کوئی'], 'ahi': ['آئے'], 'masle': ['مسئلے'], 'ro': ['رو', 'رو'], 'pesa': ['پیسہ'], 'honay': ['ہونے', 'ہونے'], 'matlb': ['مطلب'], 'own': ['اون'], 'kertay': ['کرتے'], 'samajhne': ['سمجھنے'], 'chornay': ['چھوڑنے'], 'ghalti': ['غلطی'], 'mat': ['مت'], 'karna': ['کرنا', 'کر دیتی', 'کرنا', 'کرنا', 'کرنا', 'کرنا', 'کرنا', 'کرنا'], 'chahay': ['چاہے'], 'hojaaye': ['ہوجائے'], 'jab': ['جب', 'جب', 'جب', 'جب', 'جب', 'جب', 'جب', 'جب', 'جب', 'جب', 'جب', 'جب'], 'tak': ['تک', 'ہر', 'تک', 'تک', 'تک', 'تک', 'تک', 'تک', 'تک', 'تک', 'تک'], 'himmat': ['ہمت'], 'wheel': ['ویل'], 'chair': ['چیئر'], 'par': ['پر', 'پر', 'پر', 'پر', 'پر', 'پر', 'پر'], 'sargarmiyon': ['سرگرمیوں'], 'mein': ['میں', 'میں', 'میں', 'میں', 'میں', 'میں', 'میں', 'میں', 'میں', 'میں', 'میں', 'یاد', 'میں', 'میں', 'میں', 'انسان', 'میں', 'میں', 'میں', 'میں', 'میں', 'میری'], 'lage': ['لگے'], 'aur': ['اور', 'اور', 'اور', 'اور', 'اور', 'اور', 'اور', 'اور', 'اور', 'اور', 'اور', 'اور', 'اور', 'اور', 'اور', 'اور', 'اور', 'اور', 'اور', 'اور', 'کا', 'اور', 'اور', 'اور', 'اور', 'اور', 'اور', 'اور', 'اور', 'بھائی', 'اور', 'اور', 'اور', 'اور', 'اور', 'اور', 'اور', 'اور', 'اور', 'اور', 'اور', 'اور', 'اور', 'اور', 'اور', 'اور', 'اور', 'اور', 'اور', 'اور'], 'se': ['سے', 'سے', 'سے', 'سے', 'سے', 'سے', 'سے', 'سے', 'سے', 'سے', 'سی', 'سے', 'سے', 'سے', 'بھرا', 'سی', 'سے', 'سے', 'سے', 'سے', 'سے', 'سے', 'سے', 'سے', 'سے', 'سے', 'سے', 'سے', 'سے', 'سے', 'سے', 'پوچھا', 'سے', 'سے', 'ہے', 'سے', 'سے', 'سے', 'سے', 'سے', 'آج', 'سے', 'سے', 'ہلکا', 'سے', 'سے', 'سے', 'سے', 'سے', 'سے', 'سے', 'سے', 'سے'], 'parwardigar': ['پروردگار'], 'bakhash': ['بخش'], 'rehem': ['رحم', 'رحم'], 'sab': ['سب', 'سب', 'سب', 'سب', 'سب', 'سب', 'سب', 'سب', 'سب', 'سب', 'سب', 'سب', 'سب', 'سب'], 'behtar': ['بڑا', 'بہتر'], 'karne': ['کرنے', 'کرنے', 'کرنے', 'کرنے', 'کرنے'], 'wala': ['والا', 'والا', 'والا', 'والا', 'والا', 'والا', 'والا'], 'bohat': ['بہت', 'بہت', 'ہے', 'بہت', 'بہت'], 'kartay': ['کرتے', 'کرتے'], 'samjh': ['سمجھ', 'سمجھ'], 'sy': ['سے', 'سے', 'سے', 'سے', 'سے', 'سے'], 'drama': ['ڈرامے', 'ڈراما', 'ڈرامے', 'ڈرامے', 'ڈرامے', 'ڈرامے', 'ڈرامہ', 'اچھا', 'ڈرامہ', 'ڈرامہ', 'ڈرامہ'], 'enterain': ['انٹرٹین'], 'samjte': ['سمجھتے'], 'hy': ['ہیں', 'کو', 'ہے', 'ہے', 'ہے', 'ہے', 'ہے؟', 'ہے'], 'kabi': ['کبھی'], 'waja': ['وجہ', 'وجہ'], 'bante': ['بنتے'], 'ek': ['ایک', 'ایک', 'ایک', 'ایک'], 'juta': ['جوتا'], 'baar': ['بار', 'بار', 'بار', 'بار'], 'waly': ['والے'], 'per': ['پر', 'ترس', 'پر', 'پر', 'پر', 'پر', 'پر', 'پر', 'پر', 'پر', 'پر', 'پر'], 'kaisa': ['کیسا'], 'tum': ['تم', 'تم', 'تم', 'تم', 'تم', 'تم', 'تم', 'کرتا', 'تم', 'تم', 'سے', 'تم', 'تم'], 'station': ['اسٹیشن'], 'chor': ['چھوڑ'], 'bete': ['بیٹے'], 'ney': ['نے', 'نے'], 'bareek': ['باریک'], 'beeni': ['بینی'], 'her': ['ہر', 'ہر', 'ہر', 'ہر', 'ہر'], 'dramay': ['ڈرامے', 'ڈرامے'], 'tabsara': ['تبصرہ'], 'kerti': ['کرتی', 'کرتی', 'کرتی'], 'shaitani': ['شیطانی', 'شیطانی'], 'hein': ['ہیں', 'ہیں', 'ہیں', 'ہیں', 'ہیں', 'ہیں', 'بہنے'], 'larkyan': ['لڑکیاں'], 'larkay': ['لڑکے'], 'parte': ['ہیں'], 'aik': ['ایک', 'ایک', 'ایک', 'دفعہ', 'ایک', 'ایک', 'ایک', 'ایک', 'ایک', 'ایک', 'ایک', 'ایک', 'ایک', 'ایک', 'ایک', 'خزانہ', 'ایک', 'دیکھا', 'ایک', 'ایک', 'ایک', 'ایک', 'ایک'], 'mozu': ['موضوع'], 'bht': ['بہت', 'بہت', 'بہت', 'بہت', 'بہت'], 'kheench': ['کھینچ'], 'rhy': ['رہی'], 'kyun': ['کیوں', 'کیوں', 'کیوں'], 'dosra': ['دوسرا'], 'lagata': ['لگتا'], 'marai': ['میرے'], 'dosthi': ['دوستی'], 'karogi': ['کروگی'], 'hadd': ['حد تک'], 'hr': ['چیز', 'ہر'], 'ult': ['ہے'], 'vesay': ['ویسے'], 'khyal': ['خیال'], 'experience': ['ایکسپیرینس'], 'hay': ['ہے', 'ہے', 'ہے', 'ہے', 'ہے', 'ہے', 'ہے؟', 'ہے', 'ہے؟', 'ہے', 'ہے', 'ہے', 'ہے'], 'pta': ['پتا', 'پتا', 'پتا'], 'bablu': ['ببلو'], 'hen': ['ہیں'], 'takay': ['تاکہ'], 'hum': ['ہم', 'ہم', 'ہم', 'ہم', 'ہم', 'ہم', 'ہم', 'ہم', 'ہم', 'ہم', 'ہم', 'ہم'], 'dekhen': ['دیکھیں'], 'kay': ['کہ', 'کے', 'کہ', 'کوئی', 'کہ', 'کے', 'کہ', 'کے', 'لئے', 'کے', 'کے', 'کے', 'کے', 'کہ', 'کے', 'کے'], 'kiya': ['کیا', 'کیا', 'کیا', 'کیا', 'کیا'], 'khilatay': ['کھیلاتے'], 'paisa': ['پیسہ'], 'rishton': ['رشتوں'], 'bkwas': ['بکواس'], 'lgta': ['لگتا'], 'dakhte': ['دیکھتے'], 'kun': ['کیوں'], 'koe': ['کوئی'], 'majbur': ['مجبور'], 'kr': ['کر', 'کر'], 'gussa': ['غصہ'], 'hill': ['ہل گیا'], 'mgr': ['مگر'], 'tareeka': ['طریقہ'], 'iritating': ['ارریٹیٹنگ'], 'ishq': ['میں'], 'may': ['انسان', 'میں'], 'eid': ['عید', 'عید'], 'bina': ['بینا'], 'haddi': ['ہڈی'], 'kabab': ['کباب'], 'khayen': ['کھائیں'], 'y': ['مزے'], 'keren': ['کریں'], 'bili': ['بلی', 'بلی'], 'fut': ['بٹ'], 'gehre': ['گہرے'], 'kuen': ['کنویں'], 'gir': ['گر'], 'gai': ['گئی', 'گی', 'گئی', 'گئی'], 'uper': ['اوپر'], 'jump': ['جمپ'], 'piche': ['پیچھے'], 'batao': ['بتاﺅ'], 'asa': ['ایسا'], 'falak': ['فلک', 'فلک'], 'phuphi': ['پھوپھی'], 'sabaq': ['سبق'], 'bivion': ['بیویوں'], 'apnay': ['اپنے', 'والے'], 'shoron': ['شوہروں'], 'pur': ['پر'], 'kurna': ['چاہئے'], 'jataty': ['جتاتے'], 'batein': ['باتیں', 'باتیں', 'باتیں', 'باتیں'], 'read': ['ریڈ'], 'achai': ['اچھی'], 'tarha': ['طرح', 'طرح', 'طرح', 'طرح'], 'buhtan': ['بہتان'], 'eik': ['ایک', 'ایک'], 'meray': ['میرے'], 'sai': ['سے', 'سے'], 'rahy': ['رہے', 'رہے'], 'yeh': ['یہ', 'یہ', 'یہ', 'یہ', 'یہ', 'یہ', 'یہ', 'یہ', 'یہ'], 'cousin': ['کزن'], 'khrab': ['خراب'], 'iss': ['اس', 'اس', 'اس', 'اس', 'اس', 'اس', 'اس'], 'sir': ['سر', 'سر'], 'bs': ['بس'], 'coment': ['کومینٹ'], 'bra': ['بڑا'], 'kram': ['کرم'], 'ni': ['نہیں'], 'howa': ['ہوا'], 'uf': ['اف'], 'agy': ['آگے'], 'bhala': ['بھلا'], 'asy': ['ایسے'], 'doston': ['دوستو'], 'dooshman': ['دشمن'], 'bhaly': ['بھلے'], 'mai': ['میں', 'میں', 'میں', 'میں', 'میں', 'تہہ', 'میں', 'میں', 'میں', 'میں'], 'tareeqa': ['طریقے'], 'kerian': ['کریں'], 'kerain': ['کریں'], 'lagee': ['لگے'], 'laraai': ['لڑائی'], 'kerni': ['کرنی'], 'pareshan': ['پریشان'], 'hoo': ['ہوں'], 'hidayat': ['ہدایت'], 'tala': ['تعالیٰ'], 'janey': ['جانے'], 'esay': ['ایسے'], 'olad': ['اولاد', 'اولاد'], 'sharif': ['شریف'], 'tabedar': ['تابعدار'], 'nemat': ['نعمت'], 'karsakthy': ['کرسکتے'], 'toh': ['تو'], 'enthazar': ['انتظار'], 'soli': ['سولی'], 'pa': ['پر'], 'divorce': ['ڈائیورس'], 'balkey': ['بلکہ'], 'bachoon': ['بچوں', 'بچوں'], 'impact': ['امپیکٹ'], 'miyan': ['میاں'], 'oh': ['اور'], 'shaid': ['شاید'], 'agree': ['ایگری'], 'kah': ['کہہ'], 'samajh': ['سمجھ', 'سمجھ'], 'rahay': ['رہے', 'رہے', 'رہے', 'رہے', 'رہے', 'رہے'], 'rishwat': ['رشوت'], 'naheee': ['نہیں'], 'hur': ['ہر'], 'doosrey': ['دوسرے'], 'sun': ['سن'], 'meaning': ['مینینگ'], 'jabh': ['جب بندہ'], 'badnaam': ['ہو جائے'], 'chahe': ['بھی'], 'jesa': ['کام'], 'liey': ['لئے', 'لئے'], 'tarjumay': ['ترجمے'], 'parho': ['پڑھو'], 'takey': ['تاکہ'], 'ankhein': ['آنکھیں'], 'jaein': ['جائیں', 'جائیں'], 'apney': ['اپنے', 'اپنے'], 'ikatha': ['اختیار'], 'pehly': ['پہلے', 'پہلے'], 'ilzam': ['الزام'], 'zad': ['زد'], 'shaadi': ['شادی'], 'bachnay': ['بچنے'], 'liye': ['لئے', 'لئے', 'میں', 'لئے', 'لئے', 'لئے', 'لئے', 'لئے', 'لئے', 'لئے', 'لئے', 'لئے', 'لیے'], 'heroin': ['ہیروین'], 'kiraaye': ['کریں'], 'ashiq': ['عاشق'], 'hire': ['ہایر'], 'kerna': ['کرنا', 'کرنا'], 'bohot': ['بہت', 'بہت', 'بہت', 'بہت'], 'ghisa': ['گھسا'], 'pita': ['پٹا'], 'si': ['سی'], 'movies': ['موویز'], 'repeat': ['ریپیٹ'], 'gusa': ['غصہ'], 'episode': ['ایپیسوڈ', 'ایپیسوڈ'], 'bachaye': ['بچائے'], 'aise': ['ایسی'], 'larkiyo': ['لڑکیوں'], 'say': ['سے', 'سے', 'سے', 'سے', 'شکر', 'سے', 'سے'], 'shukar': ['شکر', 'گزار'], 'warna': ['ورنہ', 'ورنہ'], 'bunda': ['بندہ'], 'izzt': ['عزت'], 'limits': ['لمٹس'], 'nahe': ['نہیں', 'نہیں'], 'billo': ['بلو'], 'ahista': ['آہستہ', 'آہستہ', 'آہستہ'], 'jaa': ['جا'], 'jagha': ['جگ رونا'], 'dhona': ['کیا'], 'aulad': ['اولاد'], 'huti': ['ہوتی'], 'maa': ['ماں'], 'mujhay': ['مجھے'], 'aati': ['آتی', 'آتی'], 'middle': ['مڈل'], 'class': ['کلاس'], 'shadiyon': ['شادیوں'], 'fuzool': ['فضول'], 'kharchi': ['خرچی', 'خرچی'], 'udhaar': ['ادھار'], 'dramon': ['ڈراموں'], 'kaas': ['خاص'], 'muhazab': ['مہذیب'], 'hii': ['ہی'], 'program': ['پروگرام'], 'samee': ['سمیع'], 'meherbani': ['مہربانی'], 'osi': ['اسی'], 'silsilay': ['سلسلے'], 'kari': ['کڑی'], 'dosron': ['دوسروں', 'دوسروں'], 'character': ['کریکٹر', 'کریکٹر'], 'py': ['پہ'], 'kichar': ['کیچڑ'], 'uchal': ['اچھال'], 'waise': ['ویسے'], 'es': ['اس', 'اس'], 'dekhne': ['دیکھنے'], 'larke': ['لڑکے'], 'pechee': ['پیچھے'], 'gayee': ['گئے', 'گئی'], 'jua': ['جوا'], 'khelta': ['کھیلتا'], 'isi': ['اسی'], 'shooting': ['شوٹنگ', 'شوٹنگ'], 'dekhaya': ['دکھایا'], 'wesay': ['ویسے'], 'bus': ['آپ', 'بس'], 'dekhti': ['دیکھتی', 'دیکھتی'], 'dekhana': ['دیکھنا'], 'qadoosi': ['قدوسی'], 'sahab': ['صاحب'], 'bewa': ['بیوہ'], 'zehan': ['ذہن', 'ذہن'], 'atak': ['اٹک'], 'jaty': ['جاتے', 'جاتی'], 'osay': ['اسے'], 'yehin': ['یہاں'], 'jb': ['جب'], 'keray': ['کرے', 'کریں'], 'muj': ['مجھ'], 'pahly': ['پہلے'], 'keh': ['کہہ', 'کہہ', 'کہ'], 'ajj': ['آج'], 'khraab': ['خراب'], 'logoon': ['لوگوں'], 'zubanain': ['زبانیں'], 'barri': ['بڑی'], 'tarbiyat': ['تربیت'], 'bacho': ['بچوں'], 'keya': ['کیا'], 'gham': ['غم کم', 'غم میں'], 'karny': ['کے لئے'], 'ly': ['ڈرامہ'], 'dubara': ['دوبارہ'], 'lanat': ['لعنت'], 'bhejta': ['بھیجتا'], 'kch': ['کچھ'], 'jis': ['جس', 'جس', 'جس', 'ملو', 'جس', 'جس'], 'pakeeza': ['پاکیزہ'], 'mohabbat': ['محبت'], 'bakhoobi': ['بخوبی'], 'andooz': ['اندوز'], 'rha': ['رہا', 'رہا', 'رہا'], 'kwahish': ['خواہش'], 'pura': ['پورا'], 'kadar': ['قدر'], 'rania': ['رانیا'], 'tumhare': ['تمہارے'], 'mashware': ['مشورے'], 'qiston': ['قسطوں'], 'khatam': ['ختم', 'ختم'], 'jae': ['جائے'], 'koun': ['کون'], 'title': ['ٹائٹل'], 'rakhwana': ['رکھوانا'], 'comment': ['کمنٹ', 'کمنٹ', 'کمنٹ'], 'khod': ['خود', 'خود'], 'dosoron': ['دوسروں'], 'up': ['کیوں'], 'kyoun': ['کہتے'], 'kahatay': ['ہو'], 'daykhny': ['دیکھنے'], 'chahta': ['چاہتا', 'چاہتا'], 'interesting': ['انٹرسٹنگ'], 'sister': ['سسٹر'], 'ny': ['نے', 'نے'], '1st': ['فرسٹ'], 'siwayee': ['سوائے'], 'ganay': ['گانے'], 'nahee': ['نہیں', 'نہیں', 'نہیں'], 'ghatiya': ['گھٹیا', 'گھٹیا', 'گھٹیا'], 'soch': ['سوچ'], 'moonh': ['منہ'], 'bulbulay': ['بلبلے', 'بلبلے'], 'acting': ['ایکٹنگ'], 'momo': ['مومو'], 'mujhy': ['مجھے'], 'tabsary': ['تبصرے'], 'achy': ['اچھے'], 'lagty': ['لگتے'], 'izteraab': ['اضطراب'], 'lakin': ['لیکن', 'لیکن', 'لیکن', 'لیکن'], 'dekhi': ['دیکھی', 'دیکھی'], 'sharbat': ['شربت'], 'aftar': ['افطار'], 'full': ['فل جگ'], 'jag': ['سے'], 'bahra': ['ہوا'], 'director': ['ڈائریکٹر'], 'sahib': ['صاحب'], 'boht': ['بہت', 'بہت', 'بہت'], 'umeedain': ['امیدیں'], 'legaey': ['لگائی'], 'pherna': ['پھیرنا'], 'yehi': ['یہی', 'یہی', 'یہی'], 'inetzaar': ['انتظار'], 'thee': ['تھی'], 'badelty': ['بدلتی'], 'rehati': ['رہتی'], 'lerka': ['لڑکا'], 'ban': ['بن', 'بن', 'بن', 'بن'], 'shehr': ['شہر'], 'muslamanoo': ['مسلمانوں'], 'samaj': ['سمجھ'], 'farmaqee': ['فرمائے'], 'kernay': ['کرنے', 'کرنے', 'کا ٹائم'], 'bhee': ['بھی'], 'utna': ['اتنا'], 'hee': ['ہی'], 'mujhey': ['مجھے'], 'kii': ['کی'], 'vote': ['ووٹ'], 'down': ['ڈاﺅن'], 'marney': ['مرنے'], 'valey': ['والے'], 'hotey': ['ہوتے'], 'hn': ['ہیں'], 'zinda': ['زندہ', 'زندہ'], 'pathar': ['پتھر'], 'doobta': ['ڈوبتا؟'], 'duniya': ['دنیا', 'دنیا', 'دنیا', 'دنیا', 'دنیا'], 'saanp': ['سانپ'], 'din': ['دن', 'دن', 'دن', 'یہاں', 'دن', 'جس', 'دن'], 'laye': ['لائے'], 'ramzan': ['رمضان'], 'karein': ['کریں', 'کریں'], 'adhay': ['آدھے'], 'zaeeda': ['زیادہ'], 'miss': ['مس کرنے'], 'pauda': ['پودا'], 'sukha': ['سوکھا'], 'murjhaya': ['مرجھایا'], 'huwa': ['ہوا'], 'itne': ['اتنے'], 'kyon': ['کیوں'], 'bohut': ['بہت'], 'aesi': ['ایسی', 'ایسی'], 'boojh': ['بوجھ'], 'kerte': ['کرتے'], 'ur': ['اور'], 'ahmiyat': ['اہمیت'], 'kerney': ['کرنے'], 'lie': ['لئے', 'لئے'], 'bolte': ['بولتے'], 'tarf': ['طرف'], 'bata': ['بتا'], 'balkeh': ['بلکہ', 'بلکہ'], 'logoun': ['لوگوں'], 'peh': ['پے'], 'tehqeq': ['تحقیق', 'تحقیق'], 'our': ['اور', 'اور'], 'baray': ['بارے'], 'jantay': ['جانتے'], 'saari': ['ساری'], 'lagay': ['لگے'], 'makhlok': ['مخلوق'], 'bethoun': ['بیٹھوں'], 'doosro': ['دوسروں'], 'insaniyat': ['انسانیت'], 'khidmat': ['خدمت', 'خدمت'], 'sochte': ['سوچتے'], 'baqi': ['باقی'], 'taraqi': ['ترقی', 'ترقی', 'ترقی', 'زینہ'], 'magar': ['مگر', 'مگر', 'مگر'], 'jaise': ['جیسے'], 'qatra': ['قطرہ', 'قطرہ', 'قطرہ'], 'samnadar': ['سمنددر'], 'pass': ['پاس'], 'machar': ['مچھر'], 'marnay': ['مارنے'], 'spray': ['اسپرے'], 'insaaf': ['انصاف'], 'teenon': ['تینوں'], 'masail': ['مسائل'], 'aham': ['اہم'], 'maafi': ['معافی', 'معافی'], 'baarh': ['بڑھ'], 'abb': ['اب'], 'korner': ['کونر'], 'mubarak': ['مبارک'], 'humein': ['ہمیں'], 'mil': ['مل'], 'gae': ['گئی'], 'teh': ['دل'], 'ghuzar': ['ہوں'], 'sakay': ['سکے'], 'lijiye': ['لیجئے'], 'chote': ['چھوٹے'], 'kafe': ['کافی'], 'ham': ['ہم'], 'donu': ['دونوں'], 'compare': ['کمپیئر'], 'sakte': ['سکتے', 'سکتے', 'سکتے'], 'laykin': ['لیکن', 'لیکن'], 'deir': ['دیر'], 'wazahat': ['وضاحت'], 'rights': ['رائٹس'], 'tareef': ['تعریف', 'تعریف'], 'bemaar': ['بیمار'], 'reshtay': ['رشتے'], 'ziyada': ['زیادہ', 'زیادہ', 'زیادہ', 'زیادہ'], 'pershan': ['پریشان'], 'hotay': ['ہوتے', 'ہوتے', 'ہوتے', 'ہوتے'], 'ittehad': ['اتحاد'], 'paida': ['پیدا', 'پیدا'], 'karde': ['کردے'], 'aameen': ['امین'], 'muskan': ['مسکان'], 'agai': ['آگئی'], 'lab': ['لب'], 'khain': ['کہیں'], 'ghareebon': ['غریبوں'], 'mazaq': ['مذاق', 'مذاق'], 'tumhara': ['تمہارا'], 'urain': ['اڑائیں'], 'kyonke': ['کیونکہ'], 'gada': ['گدا', 'گدا'], 'lagt': ['لگتی'], 'uss': ['اس'], 'hila': ['ہلا'], 'dya': ['دیا'], 'goya': ['گویا'], 'mutafiq': ['متفق'], 'jub': ['جب'], 'kainaat': ['کائنات'], 'tab': ['تب', 'تب'], 'science': ['سائنس'], 'jitni': ['جتنی'], 'pichlay': ['پچھلے'], '60': ['60'], 'salon': ['سالوں', 'سالوں'], 'pichle': ['پچھلے'], 'hazaron': ['ہزاروں'], 'niji': ['نجی'], 'sector': ['سیکٹر'], 'liya': ['لیا', 'لیا'], 'transporters': ['ٹرانسپوٹرز'], 'dar': ['درحقیقت'], 'zeena': ['کامیابی'], 'railway': ['ریلوے'], 'engines': ['انجنز'], 'fuel': ['فیول'], 'faraham': ['فراہم'], '1888': ['1888'], 'hisay': ['حصے'], 'sheesham': ['شیشم'], 'darakht': ['درخت'], 'khuch': ['کچھ'], 'toot': ['توت'], 'baans': ['بانس'], 'trees': ['ٹریز'], 'lagaye': ['لگائے'], 'gaye': ['گئے', 'گئے'], 'lazmi': ['لازمی'], 'izafa': ['اضافہ', 'اضافہ'], 'sakta': ['سکتا', 'سکتا', 'سکتا', 'سکتا'], 'pace': ['پیس'], 'battry': ['بیٹری'], 'karen': ['کریں', 'کریں', 'کریں'], 'idhar': ['ادھر'], 'junaid': ['جنید'], 'irfan': ['عرفان'], 'sal': ['سال'], 'mahman': ['مہمان'], 'bowler': ['بولر'], 'akram': ['اکرم'], 'bewaqoof': ['بیوقوف'], 'kisam': ['قسم'], 'bare': ['بارے', 'بڑے'], 'sri': ['سری'], 'lanka': ['لنکا'], 'aakhree': ['آخری'], 'over': ['اوور'], 'khail': ['کھیل'], 'rahee': ['رہے', 'رہی'], '264': ['264'], 'tarah': ['طرح', 'طرح', 'طرح', 'طرح', 'طرح'], 'men': ['میں', 'میں'], 'yah': ['یہ'], 'match': ['میچ', 'میچ', 'میچ'], 'dilchaspee': ['دلچسپی'], 'bating': ['بیٹنگ'], 'star': ['اسٹار'], 'bhe': ['بھی'], 'najwano': ['نوجوانوں'], 'twaja': ['توجہ'], 'markaz': ['مرکز'], 'bowling': ['بالنگ'], 'bani': ['بنی'], 'behas': ['بحث'], 'naheen': ['نہیں'], 'karon': ['کروں'], 'but': ['بٹ'], 'chota': ['چھوٹا'], 'mota': ['موٹا'], 'cricketer': ['کرکٹر'], 'mojoda': ['مجھے'], 'as': ['از'], 'players': ['پلیئرز'], 'marasam': ['مراسم'], 'barey': ['بڑے'], 'lihaz': ['لحاظ'], 'sey': ['سے', 'سے'], 'europe': ['یورپ'], 'kis': ['کس', 'کس'], 'mae': ['میں'], 'nain': ['نے کچھ'], 'pehlay': ['ایک', 'پہلے', 'پہلے'], 'yahn': ['تھریڈ'], 'thread': ['اس میں'], 'likha': ['سیریز'], 'series': ['کر دی'], 'white': ['ہے پاک'], 'wash': ['نے'], 'post': ['پوسٹ'], 'jeet': ['جیت'], 'champions': ['چمپینز'], 'bunnay': ['بننے'], 'qualities': ['کوالٹی'], 'emandaree': ['ایمانداری'], 'education': ['ایجوکیشن'], 'improve': ['امپروو'], 'ensaf': ['انصاف'], 'aman': ['امن'], 'laen': ['لائیں'], 'nek': ['نیک'], 'koee': ['کوئی'], 'yaar': ['یار'], 'galat': ['غلط'], 'haarta': ['ہارتا'], 'fixing': ['فکسنگ'], 'janay': ['جانے', 'جانے', 'جانے'], 'lagatay': ['لگاتے'], 'batoon': ['باتوں'], 'jatey': ['جاتے'], 'loog': ['لوگ'], 'aenda': ['آئندہ'], 'tareeqe': ['طریقے'], 'tayyar': ['تیار'], 'chahy': ['چاہئے'], 'trick': ['ٹریک'], 'china': ['چائنا'], 'kaisai': ['کیسے'], 'muje': ['مجھے'], 'packege': ['پیکج'], 'hazrat': ['حضرت'], 'ra': ['سے'], 'poocha': [': دوست', 'پوچھا'], 'jai': ['جائے'], 'tabeyat': ['طبیعت'], 'narmi': ['نرمی'], 'sakhawat': ['سخاوت'], 'dushmnon': ['دشمن'], 'mehboob': ['محبوب'], 'bana': ['بنا', 'بنا', 'بنا', 'بنا'], 'deti': ['دیتی', 'دیتی'], 'naakaam': ['ناکام'], 'haath': ['ہاتھ', 'ہاتھ', 'ہاتھ'], 'aae': ['آئے'], 'huwe': ['ہوئے'], 'zamana': ['زمانہ', 'زمانہ'], 'samjhay': ['سمجھے', 'سمجھے', 'سمجھے'], 'tumharay': ['تمہارے'], 'haq': ['حق'], 'behter': ['بہتر'], 'bajaye': ['بجائے'], 'seepi': ['سیپی'], 'sanp': ['سانپ', 'سانپ'], 'munah': ['منہ'], 'girta': ['گرتا'], 'ussay': ['اسے'], 'zehar': ['زہر'], 'seep': ['سیپ'], 'tumhain': ['تمہیں', 'تمہیں', 'تمہیں'], 'aaiy': ['آئے', 'تو سمجھو'], 'samjho': ['سمجھو', 'تم سے'], 'muhabbat': ['محبت'], 'kartey': ['کرتے'], 'billi': ['بلی'], 'dey': ['دے'], 'chaheye': ['چاہئے'], 'baghair': ['بغیر'], 'ilm': ['علم'], 'nimatun': ['نعمتوں'], 'gunahu': ['گناہوں'], 'tauba': ['توبہ'], 'bhalai': ['بھلائی'], 'hujata': ['ہوجاتا'], 'mehfil': ['محفل'], 'tanhai': ['تنہائی'], 'shaksh': ['شخص'], 'takabur': ['تکبر'], 'mitti': ['مٹی', 'مٹی', 'مٹی', 'مٹی'], 'zindgi': ['زندگی', 'زندگی'], 'bri': ['بڑی'], 'sachaai': ['سچائی'], 'qabristaan': ['قبرستان'], 'likhi': ['لکھی'], 'aatay': ['آتے', 'آتے'], 'kbhi': ['کبھی'], 'dimagh': ['دماغ'], 'hoty': ['ہوتے'], 'rishty': ['رشتے'], 'badlty': ['بدلتے'], 'tarhan': ['طرح'], 'pair': ['پیر'], 'niche': ['نیچے'], 'chahyay': ['چاہئے'], 'qabar': ['قبر', 'قبر'], 'jaiy': ['جائے'], 'insano': ['انسانوں'], 'nhe': ['نہیں'], 'guzry': ['گزرے'], 'jany': ['جانے'], 'tour': ['طور'], 'katt': ['کٹ جائے'], 'kahna': ['کہنا'], 'words': ['ورڈز'], 'sunna': ['سننا'], 'chahen': ['چاہیں'], 'chu': ['چھو'], 'bada': ['بڑا'], 'aib': ['عیب', 'عیب'], 'doosron': ['دوسروں'], 'qaraar': ['قرار'], 'izzat': ['عزت', 'عزت'], 'lafzon': ['لفظوں', 'لفظوں'], 'aanswon': ['آنسوؤں'], 'juzb': ['جذب'], 'sekho': ['سیکھو'], 'ansoo': ['آنسو', 'سے دل'], 'detein': ['آنسو'], 'khushiyan': ['خوشیاں'], 'borai': ['برائی'], 'munh': ['منہ'], 'dayta': ['دیتا'], 'joohti': ['جھوٹی'], 'treef': ['تعریف'], 'karay': ['کرے'], 'salaam': ['سلام'], 'roushan': ['روشن'], 'rahey': ['رہے'], 'tera': ['تیرا'], 'kalaam': ['کلام'], 'istimal': ['استعمال'], '55': ['55'], 'shandar': ['شاندار'], 'bachat': ['بچت'], 'hastey': ['ہنستے'], 'hasna': ['ہنسنا'], 'zarorut': ['ضرورت'], 'harkaton': ['حرکتوں'], 'khandaan': ['خاندان'], 'diya': ['دیا'], 'qudrat': ['قدرت', 'قدرت', 'قدرت'], 'khobsurat': ['خوبصورت'], 'wasee': ['وسیع'], 'oonche': ['اونچے', 'اونچے'], 'pahari': ['پہاڑی'], 'silsilon': ['سلسلوں'], 'chotiyon': ['چوٹیوں'], 'nawaza': ['نوازا', 'نوازا'], 'jin': ['جن'], 'shumar': ['شمار'], 'buland': ['بلند'], 'paharhon': ['پہاڑوں'], 'mien': ['میں', 'میں'], 'bulandi': ['بلندی'], 'wajah': ['وجہ', 'وجہ'], 'oxygen': ['آکسیجن'], 'oper': ['اوپر'], 'charhne': ['چڑھنے'], 'mushkilaat': ['مشکلات'], 'bos': ['بوس'], 'imarten': ['عمارتیں'], 'sayyahon': ['سیاحوں'], 'dilchaspi': ['دلچسپی'], 'baiys': ['باعث'], 'shehar': ['شہر'], 'aabadi': ['آبادی'], 'crore': ['کروڑ'], 'tajawuz': ['تجاوز'], 'conference': ['کانفرنس'], 'doran': ['دوران', 'دوران'], 'tajwiz': ['تجویز'], 'li': ['لی'], 'khawateen': ['خواتین'], 'wajod': ['وجود'], 'khuwahish': ['خواہش'], 'college': ['کالج'], 'bunyad': ['بنیاد'], 'den': ['دیں'], 'app': ['آپ', 'آپ', 'آپ'], 'englistan': ['انگلستان'], '1892': ['1892'], 'hoye': ['ہوئی'], 'qiyame': ['قیام'], 'eglistan': ['انگلستان'], 'inn': ['ان'], 'intiqal': ['انتقال'], 'hogaya': ['ہوگیا'], 'nazmon': ['نظموں'], 'ghazlon': ['غزلوں'], 'islah': ['اصلاح', 'اصلاح'], 'dehalvi': ['دہلوی'], 'deya': ['دیا'], 'mazid': ['مزید'], 'zarorat': ['ضرورت'], 'char': ['چار'], 'beton': ['بیٹوں'], 'betion': ['بیٹیوں'], 'in': ['ان'], 'aashna': ['آشنا'], 'the': ['تھے'], 'zaban': ['زبان'], 'qabal': ['قبل'], 'nazir': ['نظیر'], 'munafiq': ['منافق'], 'nishaniyan': ['نشانیاں'], 'jhut': ['جھوٹ'], 'bole': ['بولے'], 'toud': ['توڑ'], 'rakhe': ['رکھیں'], 'khayanat': ['خیانت'], 'fuzul': ['فضول'], 'shaitan': ['شیطان', 'شیطان'], 'bahut': ['بہت', 'بہت'], 'nashukra': ['ناشکرا'], 'sadqa': ['صدقہ'], 'daita': ['دیتا'], 'buja': ['بھجا'], 'daiti': ['دیتا'], 'wapas': ['واپس'], 'aanay': ['آنے'], 'camera': ['کیمرا'], 'abhi': ['ابھی', 'ابھی'], 'hey': ['ہے'], 'isee': ['اسی'], 'mazy': ['مزے'], 'bike': ['بائیک', 'بائیک'], 'they': ['تھے'], 'laikin': ['لیکن'], 'jeetey': ['جیتے'], 'dinner': ['ڈنر', 'ڈنر'], 'karwaein': ['کروائیں'], 'loon': ['لوں'], 'bikes': ['بائیکس'], 'detay': ['دیتے'], 'forum': ['فورم'], 'kesay': ['کیسے'], 'paisay': ['پیسے'], 'phasa': ['پھنسا'], 'bethay': ['بیٹھے'], 'legwaney': ['لگوانے'], 'tou': ['تو'], 'mechanic': ['مکینک'], 'chaan': ['چھان'], 'been': ['بین'], 'kitney': ['کتنے'], 'mutalik': ['متعلق'], 'muhjay': ['مجھے'], 'chacha': ['چچا'], 'azmaya': ['آزمایا'], 'mashallah': ['ماشاءاللہ'], 'creativity': ['کریٹیویٹی'], 'zabardast': ['زبردست'], '1234': ['1234'], 'pai': ['پے'], 'text': ['ٹیکسٹ'], 'alg': ['الگ'], 'message': ['میسج']})\n",
     "output_type": "stream"
    }
   ]
  },
  {
   "cell_type": "code",
   "metadata": {
    "cell_id": "2e45aade9d7643a0b896aa8f40f8ab60",
    "tags": [],
    "deepnote_to_be_reexecuted": false,
    "source_hash": "1aa9b291",
    "execution_start": 1660201326362,
    "execution_millis": 18,
    "deepnote_cell_type": "code",
    "deepnote_cell_height": 107.1875
   },
   "source": "print(map_dict['membr'])",
   "execution_count": 14,
   "outputs": [
    {
     "name": "stdout",
     "text": "['ممبر', 'میمبر']\n",
     "output_type": "stream"
    }
   ]
  },
  {
   "cell_type": "markdown",
   "source": "## Roman Urdu to Urdu",
   "metadata": {
    "formattedRanges": [],
    "is_collapsed": false,
    "cell_id": "f55baf7a9576445497c203db6d55bfb8",
    "tags": [],
    "deepnote_cell_type": "text-cell-h2"
   }
  },
  {
   "cell_type": "code",
   "metadata": {
    "cell_id": "35e644ca6a6e40f6970a12171adfd892",
    "tags": [],
    "deepnote_to_be_reexecuted": false,
    "source_hash": "13eead4f",
    "execution_start": 1660201326363,
    "execution_millis": 34,
    "deepnote_cell_type": "code",
    "deepnote_cell_height": 346
   },
   "source": "from translate import Translator\ndef Roman_to_urdu(sentence):\n    urdu_list=[]\n    word = []   \n    words=word_tokenize(sentence)\n    #print(words)\n    for i in range(len(words)):\n        if words[i].lower() in map_dict.keys():\n            #print(map_dict[words[i].lower()][0])\n            urdu_list.append(map_dict[words[i].lower()][0])\n        #elif words[i].lower() not in map_dict.keys():\n        else:\n            translator= Translator(from_lang=\"en\",to_lang=\"ur\")\n            translation = translator.translate(words[i].lower())\n            urdu_list.append(translation)\n    return ' '.join(urdu_list) ",
   "execution_count": 15,
   "outputs": []
  },
  {
   "cell_type": "code",
   "metadata": {
    "cell_id": "943223dc105f4241819cb77b18103067",
    "tags": [],
    "deepnote_to_be_reexecuted": false,
    "source_hash": "45d1c955",
    "execution_start": 1660201326390,
    "execution_millis": 7697,
    "deepnote_cell_type": "code",
    "deepnote_cell_height": 118,
    "deepnote_output_heights": [
     21.1875
    ]
   },
   "source": "Roman_to_urdu(\"Yelo, jb hum ye kahty thy k ye politicians jaahil hain, Establishment na karay tou system chaly hi na tab maantay ni thy ab inkay abbu khud bolrhy \")",
   "execution_count": 16,
   "outputs": [
    {
     "output_type": "execute_result",
     "execution_count": 16,
     "data": {
      "text/plain": "'یلو , جب ہم ي کاہتی تیرا کے ي سیاستدان… جاہل هيں , ادارہ نا کرے تو سسٹم چالاکی ہی نا تب مانتے نہیں تیرا آب ناگہان ابو خد بولرہی'"
     },
     "metadata": {}
    }
   ]
  },
  {
   "cell_type": "code",
   "metadata": {
    "cell_id": "0dc187cffea0417f9a69e8b59bcff629",
    "tags": [],
    "deepnote_to_be_reexecuted": false,
    "source_hash": "480f4767",
    "execution_start": 1660201334071,
    "execution_millis": 2897,
    "deepnote_cell_type": "code",
    "deepnote_cell_height": 113.1875,
    "deepnote_output_heights": [
     21.1875
    ]
   },
   "source": "Roman_to_urdu(\"basit aik bhut acha or mehanti larka hay\")",
   "execution_count": 17,
   "outputs": [
    {
     "output_type": "execute_result",
     "execution_count": 17,
     "data": {
      "text/plain": "'باسط ایک بھوت اچھا ور مہانتی لڑکا ہے'"
     },
     "metadata": {}
    }
   ]
  },
  {
   "cell_type": "code",
   "metadata": {
    "cell_id": "e25051c6f55c41b5a1a57ace7ec2747c",
    "tags": [],
    "deepnote_to_be_reexecuted": false,
    "source_hash": "48b810b5",
    "execution_start": 1660201336166,
    "execution_millis": 924,
    "deepnote_cell_type": "code",
    "deepnote_cell_height": 179.1875
   },
   "source": "from translate import Translator\n\ntranslator= Translator(from_lang=\"en\",to_lang=\"ur\")\ntranslation = translator.translate(\"ghomna\")\nprint (translation)",
   "execution_count": 18,
   "outputs": [
    {
     "name": "stdout",
     "text": "گھومنا\n",
     "output_type": "stream"
    }
   ]
  },
  {
   "cell_type": "markdown",
   "source": "## Urdu to Roman Urdu",
   "metadata": {
    "formattedRanges": [],
    "is_collapsed": false,
    "cell_id": "5ca83c58f4bd48a09de736b662a404c0",
    "tags": [],
    "deepnote_cell_type": "text-cell-h2"
   }
  },
  {
   "cell_type": "code",
   "metadata": {
    "cell_id": "cc001f8689ba4fd19eb0db094702cc4d",
    "tags": [],
    "deepnote_to_be_reexecuted": false,
    "source_hash": "cf6ed5b6",
    "execution_start": 1660201337089,
    "execution_millis": 11,
    "deepnote_cell_type": "code",
    "deepnote_cell_height": 117
   },
   "source": "urdu_lang_dict = {'ا': ['a', 'aa', 'a'], 'ب': ['b'], 'پ': ['p'], 'ت': ['t'], 'ٹ': ['t'], 'ث': ['s'], 'ج': ['j'], 'چ': ['ch'], 'ح': ['h'], 'خ': ['kh'], 'د': ['d'], 'ڈ': ['dd'], 'ذ': ['z'], 'ر': ['r'], 'ڑ': ['rr'], 'ز': ['z'], 'ژ': ['zh'], 'س': ['s'], 'ش': ['sh'], 'ص': ['s'], 'ض': ['z'], 'ط': ['t'], 'ظ': ['z'], 'ع': ['a', \"a'\", 'o'], 'غ': ['gh'], 'ف': ['f'], 'ق': ['q'], 'ک': ['k'], 'گ': ['g'], 'ل': ['l'], 'م': ['m'], 'ن': ['n'], 'و': ['wo', 'o', 'o'], 'ہ': ['h', 'h', 'he'], 'ھ': ['h'], 'ه' : ['h'], 'ی': ['y', 'ei', 'i'], 'ئ': ['y'], 'ي': ['y'], 'ے': ['ay'], 'آ': ['aa'], 'ں': ['n'], '؟': ['?'], '،': [','], '.': ['.'], '۔': ['.']}\nno_As = ['ی', 'ے', 'آ', 'ا', 'و', 'ع', 'ہ', 'ں', 'ھ', 'ئ', 'ن']\nnext_skippers = ['ئی']",
   "execution_count": 19,
   "outputs": []
  },
  {
   "cell_type": "code",
   "metadata": {
    "cell_id": "a4ad34fec04f4654a6aaca8fce19b553",
    "tags": [],
    "deepnote_to_be_reexecuted": false,
    "source_hash": "168c3c11",
    "execution_start": 1660201337103,
    "execution_millis": 10,
    "deepnote_cell_type": "code",
    "deepnote_cell_height": 747
   },
   "source": "def get_position(text, index):\n    if index == 0:\n        return 0\n    elif index == len(text) - 1:\n        return 2\n    else:\n        if text[index - 1] == ' ':\n            return 0\n        elif text[index + 1] == ' ' or text[index + 1] == '.' or text[index + 1] == '۔' or text[index + 1] == '،' or text[index + 1] == '\"':\n            return 2\n        else:\n           return 1\n\n\ndef urdutoroman(input_text):\n    skip = False\n    output_text = \"\"\n    for i in range(len(input_text)):\n        if not skip:\n            char = input_text[i]\n            if char in urdu_lang_dict:\n                position = get_position(input_text, i)\n                if len(urdu_lang_dict[char]) > 1:\n                    output_text += urdu_lang_dict[char][2]\n                else:\n                    output_text += urdu_lang_dict[char][0]\n                # if i < len(input_text) - 1:\n                #     if input_text[i+1] not in no_As and input_text[i] not in no_As:\n                #         if position == 1:\n                #             output_text += 'a'\n                #     if char+input_text[i+1] in next_skippers:\n                #         skip = True\n                #         continue\n            else:\n                output_text += char\n        else:\n            skip = False\n    return output_text",
   "execution_count": 20,
   "outputs": []
  },
  {
   "cell_type": "code",
   "metadata": {
    "cell_id": "2a895240aaf64e4c8c7d62b3db375c32",
    "tags": [],
    "deepnote_to_be_reexecuted": false,
    "source_hash": "d813d70e",
    "execution_start": 1660201337116,
    "execution_millis": 5,
    "deepnote_cell_type": "code",
    "deepnote_cell_height": 134.1875
   },
   "source": "output = urdutoroman(' پاکستان اپنا آخری اوور کھیل رہے هے اور سکور 264 هے اسس طرح ميرے خیال میں یہ ایک اچھا سکور هے اور میچ میں دلچسپی پیدا حو رہے هے')\nprint(output)",
   "execution_count": 21,
   "outputs": [
    {
     "name": "stdout",
     "text": " pakstan apna aakhri aoor khil rheay hay aor skor 264 hay ass trh myray khial min ihe aik achha skor hay aor mich min dlchspi pida ho rheay hay\n",
     "output_type": "stream"
    }
   ]
  },
  {
   "cell_type": "code",
   "metadata": {
    "cell_id": "571e4d96b8304c6294d106015d6741b6",
    "tags": [],
    "deepnote_to_be_reexecuted": false,
    "source_hash": "9b426387",
    "execution_start": 1660201337124,
    "execution_millis": 5,
    "deepnote_cell_type": "code",
    "deepnote_cell_height": 134.1875
   },
   "source": "output = urdutoroman('نیت صاف ہو تو مٹی بھی سونا بن جاتی ہے اور اگر نیت خراب ہو تو سونا بھی مٹی ہو جاتا ہے, عمران خان کے دور میں ڈیم بھی بن رہے تھے, احساس پروگرام بھی چل رہا تھا, فی خاندان بارہ ہزار روپے بھی مل رہے تھے')\nprint(output)",
   "execution_count": 22,
   "outputs": [
    {
     "name": "stdout",
     "text": "nit saf heo to mti bhi sona bn jati heay aor agr nit khrab heo to sona bhi mti heo jata heay, omran khan kay dor min ddim bhi bn rheay thay, ahsas program bhi chl rhea tha, fi khandan barhe hezar ropay bhi ml rheay thay\n",
     "output_type": "stream"
    }
   ]
  },
  {
   "cell_type": "code",
   "metadata": {
    "cell_id": "4d906ca7362d4e23a31feb12096afe1c",
    "tags": [],
    "deepnote_to_be_reexecuted": false,
    "source_hash": "1a17ccdd",
    "execution_start": 1660201337131,
    "execution_millis": 10,
    "deepnote_cell_type": "code",
    "deepnote_cell_height": 125.1875
   },
   "source": "output = urdutoroman('پروجیکٹ مین بھت مہنت کی ہے')\nprint(output)",
   "execution_count": 23,
   "outputs": [
    {
     "name": "stdout",
     "text": "projikt min bht mhent ki heay\n",
     "output_type": "stream"
    }
   ]
  },
  {
   "cell_type": "markdown",
   "source": "## Pickle",
   "metadata": {
    "formattedRanges": [],
    "is_collapsed": false,
    "cell_id": "0f6e14053d674d28b6a4e0d634bd6800",
    "tags": [],
    "deepnote_cell_type": "text-cell-h2"
   }
  },
  {
   "cell_type": "code",
   "metadata": {
    "cell_id": "8ce3dbf48c624150978726dd79db9009",
    "tags": [],
    "deepnote_to_be_reexecuted": false,
    "source_hash": "3a736f12",
    "execution_start": 1660201337141,
    "execution_millis": 4,
    "deepnote_cell_type": "code",
    "deepnote_cell_height": 94
   },
   "source": "with open('roman_to_urdu.pickle', 'wb') as file:\n    pickle.dump(Roman_to_urdu, file)",
   "execution_count": 24,
   "outputs": []
  },
  {
   "cell_type": "code",
   "metadata": {
    "cell_id": "cefc28831ec941c9a5f32a66eac49e98",
    "tags": [],
    "deepnote_to_be_reexecuted": false,
    "source_hash": "1bd49237",
    "execution_start": 1660201337149,
    "execution_millis": 5,
    "deepnote_cell_type": "code",
    "deepnote_cell_height": 94
   },
   "source": "with open('urdu_to_roman.pickle', 'wb') as file:\n    pickle.dump(urdutoroman, file)",
   "execution_count": 25,
   "outputs": []
  },
  {
   "cell_type": "markdown",
   "source": "## Functions for API",
   "metadata": {
    "formattedRanges": [],
    "is_collapsed": false,
    "cell_id": "d46fb9cc0930436fbdfdec674475d262",
    "tags": [],
    "deepnote_cell_type": "text-cell-h2"
   }
  },
  {
   "cell_type": "code",
   "metadata": {
    "cell_id": "f57ca407df6c4cfaae986be6876a29f5",
    "tags": [],
    "deepnote_to_be_reexecuted": false,
    "source_hash": "510c4e90",
    "execution_start": 1660201337159,
    "execution_millis": 7,
    "deepnote_cell_type": "code",
    "deepnote_cell_height": 130
   },
   "source": "def translateToUrdu(text):\n    with open('roman_to_urdu.pickle', 'rb') as f:\n        model = pickle.load(f)\n        return model(text)",
   "execution_count": 26,
   "outputs": []
  },
  {
   "cell_type": "code",
   "metadata": {
    "cell_id": "b72f23039cde44a3bc649d17a8faee05",
    "tags": [],
    "deepnote_to_be_reexecuted": false,
    "source_hash": "1d73956b",
    "execution_start": 1660201337167,
    "execution_millis": 14,
    "deepnote_cell_type": "code",
    "deepnote_cell_height": 130
   },
   "source": "def translateToRoman(text):\n    with open(\"urdu_to_roman.pickle\", \"rb\") as f:\n        model = pickle.load(f)\n        return model(text)",
   "execution_count": 27,
   "outputs": []
  },
  {
   "cell_type": "markdown",
   "source": "<a style='text-decoration:none;line-height:16px;display:flex;color:#5B5B62;padding:10px;justify-content:end;' href='https://deepnote.com?utm_source=created-in-deepnote-cell&projectId=556a3fde-c7fd-41aa-bcd5-1397a0d6edec' target=\"_blank\">\n<img alt='Created in deepnote.com' style='display:inline;max-height:16px;margin:0px;margin-right:7.5px;' src='data:image/svg+xml;base64,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' > </img>\nCreated in <span style='font-weight:600;margin-left:4px;'>Deepnote</span></a>",
   "metadata": {
    "tags": [],
    "created_in_deepnote_cell": true,
    "deepnote_cell_type": "markdown"
   }
  }
 ],
 "nbformat": 4,
 "nbformat_minor": 2,
 "metadata": {
  "orig_nbformat": 2,
  "deepnote": {},
  "deepnote_notebook_id": "f1ea4d2d-dcd2-4479-9e68-eec1af0507ac",
  "deepnote_execution_queue": []
 }
}